{
 "cells": [
  {
   "cell_type": "code",
   "execution_count": 1,
   "metadata": {},
   "outputs": [],
   "source": [
    "import pandas as pd"
   ]
  },
  {
   "cell_type": "code",
   "execution_count": 2,
   "metadata": {},
   "outputs": [],
   "source": [
    "df = pd.read_csv('df_tratado.csv')"
   ]
  },
  {
   "cell_type": "markdown",
   "metadata": {},
   "source": [
    "# Realizando o treinamento"
   ]
  },
  {
   "cell_type": "code",
   "execution_count": 3,
   "metadata": {},
   "outputs": [
    {
     "data": {
      "text/html": [
       "<div>\n",
       "<style scoped>\n",
       "    .dataframe tbody tr th:only-of-type {\n",
       "        vertical-align: middle;\n",
       "    }\n",
       "\n",
       "    .dataframe tbody tr th {\n",
       "        vertical-align: top;\n",
       "    }\n",
       "\n",
       "    .dataframe thead th {\n",
       "        text-align: right;\n",
       "    }\n",
       "</style>\n",
       "<table border=\"1\" class=\"dataframe\">\n",
       "  <thead>\n",
       "    <tr style=\"text-align: right;\">\n",
       "      <th></th>\n",
       "      <th>Idade na matrícula</th>\n",
       "      <th>Taxa de desemprego</th>\n",
       "      <th>Taxa de inflação</th>\n",
       "      <th>PIB</th>\n",
       "      <th>disciplinas 1º semestre (creditadas)</th>\n",
       "      <th>disciplinas 1º semestre (matriculadas)</th>\n",
       "      <th>disciplinas 1º semestre (avaliações)</th>\n",
       "      <th>disciplinas 1º semestre (aprovadas)</th>\n",
       "      <th>disciplinas 1º semestre (notas)</th>\n",
       "      <th>disciplinas 1º semestre (sem avaliações)</th>\n",
       "      <th>...</th>\n",
       "      <th>Qualificação prévia_Educação básica 3º ciclo (9º/10º/11º ano) ou equivalente</th>\n",
       "      <th>Qualificação prévia_Educação secundária</th>\n",
       "      <th>Qualificação prévia_Educação superior - bacharelado</th>\n",
       "      <th>Qualificação prévia_Educação superior - doutorado</th>\n",
       "      <th>Qualificação prévia_Educação superior - licenciatura</th>\n",
       "      <th>Qualificação prévia_Educação superior - licenciatura (1º ciclo)</th>\n",
       "      <th>Qualificação prévia_Educação superior - mestrado</th>\n",
       "      <th>Qualificação prévia_Educação superior - mestrado (2º ciclo)</th>\n",
       "      <th>Qualificação prévia_Frequência de educação superior</th>\n",
       "      <th>Qualificação prévia_Outro - 11º ano de escolaridade</th>\n",
       "    </tr>\n",
       "  </thead>\n",
       "  <tbody>\n",
       "    <tr>\n",
       "      <th>0</th>\n",
       "      <td>20</td>\n",
       "      <td>10.8</td>\n",
       "      <td>1.4</td>\n",
       "      <td>1.74</td>\n",
       "      <td>0</td>\n",
       "      <td>0</td>\n",
       "      <td>0</td>\n",
       "      <td>0</td>\n",
       "      <td>0.000000</td>\n",
       "      <td>0</td>\n",
       "      <td>...</td>\n",
       "      <td>0.0</td>\n",
       "      <td>1.0</td>\n",
       "      <td>0.0</td>\n",
       "      <td>0.0</td>\n",
       "      <td>0.0</td>\n",
       "      <td>0.0</td>\n",
       "      <td>0.0</td>\n",
       "      <td>0.0</td>\n",
       "      <td>0.0</td>\n",
       "      <td>0.0</td>\n",
       "    </tr>\n",
       "    <tr>\n",
       "      <th>1</th>\n",
       "      <td>19</td>\n",
       "      <td>13.9</td>\n",
       "      <td>-0.3</td>\n",
       "      <td>0.79</td>\n",
       "      <td>0</td>\n",
       "      <td>6</td>\n",
       "      <td>6</td>\n",
       "      <td>6</td>\n",
       "      <td>14.000000</td>\n",
       "      <td>0</td>\n",
       "      <td>...</td>\n",
       "      <td>0.0</td>\n",
       "      <td>1.0</td>\n",
       "      <td>0.0</td>\n",
       "      <td>0.0</td>\n",
       "      <td>0.0</td>\n",
       "      <td>0.0</td>\n",
       "      <td>0.0</td>\n",
       "      <td>0.0</td>\n",
       "      <td>0.0</td>\n",
       "      <td>0.0</td>\n",
       "    </tr>\n",
       "    <tr>\n",
       "      <th>2</th>\n",
       "      <td>19</td>\n",
       "      <td>10.8</td>\n",
       "      <td>1.4</td>\n",
       "      <td>1.74</td>\n",
       "      <td>0</td>\n",
       "      <td>6</td>\n",
       "      <td>0</td>\n",
       "      <td>0</td>\n",
       "      <td>0.000000</td>\n",
       "      <td>0</td>\n",
       "      <td>...</td>\n",
       "      <td>0.0</td>\n",
       "      <td>1.0</td>\n",
       "      <td>0.0</td>\n",
       "      <td>0.0</td>\n",
       "      <td>0.0</td>\n",
       "      <td>0.0</td>\n",
       "      <td>0.0</td>\n",
       "      <td>0.0</td>\n",
       "      <td>0.0</td>\n",
       "      <td>0.0</td>\n",
       "    </tr>\n",
       "    <tr>\n",
       "      <th>3</th>\n",
       "      <td>20</td>\n",
       "      <td>9.4</td>\n",
       "      <td>-0.8</td>\n",
       "      <td>-3.12</td>\n",
       "      <td>0</td>\n",
       "      <td>6</td>\n",
       "      <td>8</td>\n",
       "      <td>6</td>\n",
       "      <td>13.428571</td>\n",
       "      <td>0</td>\n",
       "      <td>...</td>\n",
       "      <td>0.0</td>\n",
       "      <td>1.0</td>\n",
       "      <td>0.0</td>\n",
       "      <td>0.0</td>\n",
       "      <td>0.0</td>\n",
       "      <td>0.0</td>\n",
       "      <td>0.0</td>\n",
       "      <td>0.0</td>\n",
       "      <td>0.0</td>\n",
       "      <td>0.0</td>\n",
       "    </tr>\n",
       "    <tr>\n",
       "      <th>4</th>\n",
       "      <td>45</td>\n",
       "      <td>13.9</td>\n",
       "      <td>-0.3</td>\n",
       "      <td>0.79</td>\n",
       "      <td>0</td>\n",
       "      <td>6</td>\n",
       "      <td>9</td>\n",
       "      <td>5</td>\n",
       "      <td>12.333333</td>\n",
       "      <td>0</td>\n",
       "      <td>...</td>\n",
       "      <td>0.0</td>\n",
       "      <td>1.0</td>\n",
       "      <td>0.0</td>\n",
       "      <td>0.0</td>\n",
       "      <td>0.0</td>\n",
       "      <td>0.0</td>\n",
       "      <td>0.0</td>\n",
       "      <td>0.0</td>\n",
       "      <td>0.0</td>\n",
       "      <td>0.0</td>\n",
       "    </tr>\n",
       "    <tr>\n",
       "      <th>...</th>\n",
       "      <td>...</td>\n",
       "      <td>...</td>\n",
       "      <td>...</td>\n",
       "      <td>...</td>\n",
       "      <td>...</td>\n",
       "      <td>...</td>\n",
       "      <td>...</td>\n",
       "      <td>...</td>\n",
       "      <td>...</td>\n",
       "      <td>...</td>\n",
       "      <td>...</td>\n",
       "      <td>...</td>\n",
       "      <td>...</td>\n",
       "      <td>...</td>\n",
       "      <td>...</td>\n",
       "      <td>...</td>\n",
       "      <td>...</td>\n",
       "      <td>...</td>\n",
       "      <td>...</td>\n",
       "      <td>...</td>\n",
       "      <td>...</td>\n",
       "    </tr>\n",
       "    <tr>\n",
       "      <th>4419</th>\n",
       "      <td>19</td>\n",
       "      <td>15.5</td>\n",
       "      <td>2.8</td>\n",
       "      <td>-4.06</td>\n",
       "      <td>0</td>\n",
       "      <td>6</td>\n",
       "      <td>7</td>\n",
       "      <td>5</td>\n",
       "      <td>13.600000</td>\n",
       "      <td>0</td>\n",
       "      <td>...</td>\n",
       "      <td>0.0</td>\n",
       "      <td>1.0</td>\n",
       "      <td>0.0</td>\n",
       "      <td>0.0</td>\n",
       "      <td>0.0</td>\n",
       "      <td>0.0</td>\n",
       "      <td>0.0</td>\n",
       "      <td>0.0</td>\n",
       "      <td>0.0</td>\n",
       "      <td>0.0</td>\n",
       "    </tr>\n",
       "    <tr>\n",
       "      <th>4420</th>\n",
       "      <td>18</td>\n",
       "      <td>11.1</td>\n",
       "      <td>0.6</td>\n",
       "      <td>2.02</td>\n",
       "      <td>0</td>\n",
       "      <td>6</td>\n",
       "      <td>6</td>\n",
       "      <td>6</td>\n",
       "      <td>12.000000</td>\n",
       "      <td>0</td>\n",
       "      <td>...</td>\n",
       "      <td>0.0</td>\n",
       "      <td>1.0</td>\n",
       "      <td>0.0</td>\n",
       "      <td>0.0</td>\n",
       "      <td>0.0</td>\n",
       "      <td>0.0</td>\n",
       "      <td>0.0</td>\n",
       "      <td>0.0</td>\n",
       "      <td>0.0</td>\n",
       "      <td>0.0</td>\n",
       "    </tr>\n",
       "    <tr>\n",
       "      <th>4421</th>\n",
       "      <td>30</td>\n",
       "      <td>13.9</td>\n",
       "      <td>-0.3</td>\n",
       "      <td>0.79</td>\n",
       "      <td>0</td>\n",
       "      <td>7</td>\n",
       "      <td>8</td>\n",
       "      <td>7</td>\n",
       "      <td>14.912500</td>\n",
       "      <td>0</td>\n",
       "      <td>...</td>\n",
       "      <td>0.0</td>\n",
       "      <td>1.0</td>\n",
       "      <td>0.0</td>\n",
       "      <td>0.0</td>\n",
       "      <td>0.0</td>\n",
       "      <td>0.0</td>\n",
       "      <td>0.0</td>\n",
       "      <td>0.0</td>\n",
       "      <td>0.0</td>\n",
       "      <td>0.0</td>\n",
       "    </tr>\n",
       "    <tr>\n",
       "      <th>4422</th>\n",
       "      <td>20</td>\n",
       "      <td>9.4</td>\n",
       "      <td>-0.8</td>\n",
       "      <td>-3.12</td>\n",
       "      <td>0</td>\n",
       "      <td>5</td>\n",
       "      <td>5</td>\n",
       "      <td>5</td>\n",
       "      <td>13.800000</td>\n",
       "      <td>0</td>\n",
       "      <td>...</td>\n",
       "      <td>0.0</td>\n",
       "      <td>1.0</td>\n",
       "      <td>0.0</td>\n",
       "      <td>0.0</td>\n",
       "      <td>0.0</td>\n",
       "      <td>0.0</td>\n",
       "      <td>0.0</td>\n",
       "      <td>0.0</td>\n",
       "      <td>0.0</td>\n",
       "      <td>0.0</td>\n",
       "    </tr>\n",
       "    <tr>\n",
       "      <th>4423</th>\n",
       "      <td>22</td>\n",
       "      <td>12.7</td>\n",
       "      <td>3.7</td>\n",
       "      <td>-1.70</td>\n",
       "      <td>0</td>\n",
       "      <td>6</td>\n",
       "      <td>8</td>\n",
       "      <td>6</td>\n",
       "      <td>11.666667</td>\n",
       "      <td>0</td>\n",
       "      <td>...</td>\n",
       "      <td>0.0</td>\n",
       "      <td>1.0</td>\n",
       "      <td>0.0</td>\n",
       "      <td>0.0</td>\n",
       "      <td>0.0</td>\n",
       "      <td>0.0</td>\n",
       "      <td>0.0</td>\n",
       "      <td>0.0</td>\n",
       "      <td>0.0</td>\n",
       "      <td>0.0</td>\n",
       "    </tr>\n",
       "  </tbody>\n",
       "</table>\n",
       "<p>4424 rows × 64 columns</p>\n",
       "</div>"
      ],
      "text/plain": [
       "      Idade na matrícula  Taxa de desemprego  Taxa de inflação   PIB  \\\n",
       "0                     20                10.8               1.4  1.74   \n",
       "1                     19                13.9              -0.3  0.79   \n",
       "2                     19                10.8               1.4  1.74   \n",
       "3                     20                 9.4              -0.8 -3.12   \n",
       "4                     45                13.9              -0.3  0.79   \n",
       "...                  ...                 ...               ...   ...   \n",
       "4419                  19                15.5               2.8 -4.06   \n",
       "4420                  18                11.1               0.6  2.02   \n",
       "4421                  30                13.9              -0.3  0.79   \n",
       "4422                  20                 9.4              -0.8 -3.12   \n",
       "4423                  22                12.7               3.7 -1.70   \n",
       "\n",
       "      disciplinas 1º semestre (creditadas)  \\\n",
       "0                                        0   \n",
       "1                                        0   \n",
       "2                                        0   \n",
       "3                                        0   \n",
       "4                                        0   \n",
       "...                                    ...   \n",
       "4419                                     0   \n",
       "4420                                     0   \n",
       "4421                                     0   \n",
       "4422                                     0   \n",
       "4423                                     0   \n",
       "\n",
       "      disciplinas 1º semestre (matriculadas)  \\\n",
       "0                                          0   \n",
       "1                                          6   \n",
       "2                                          6   \n",
       "3                                          6   \n",
       "4                                          6   \n",
       "...                                      ...   \n",
       "4419                                       6   \n",
       "4420                                       6   \n",
       "4421                                       7   \n",
       "4422                                       5   \n",
       "4423                                       6   \n",
       "\n",
       "      disciplinas 1º semestre (avaliações)  \\\n",
       "0                                        0   \n",
       "1                                        6   \n",
       "2                                        0   \n",
       "3                                        8   \n",
       "4                                        9   \n",
       "...                                    ...   \n",
       "4419                                     7   \n",
       "4420                                     6   \n",
       "4421                                     8   \n",
       "4422                                     5   \n",
       "4423                                     8   \n",
       "\n",
       "      disciplinas 1º semestre (aprovadas)  disciplinas 1º semestre (notas)  \\\n",
       "0                                       0                         0.000000   \n",
       "1                                       6                        14.000000   \n",
       "2                                       0                         0.000000   \n",
       "3                                       6                        13.428571   \n",
       "4                                       5                        12.333333   \n",
       "...                                   ...                              ...   \n",
       "4419                                    5                        13.600000   \n",
       "4420                                    6                        12.000000   \n",
       "4421                                    7                        14.912500   \n",
       "4422                                    5                        13.800000   \n",
       "4423                                    6                        11.666667   \n",
       "\n",
       "      disciplinas 1º semestre (sem avaliações)  ...  \\\n",
       "0                                            0  ...   \n",
       "1                                            0  ...   \n",
       "2                                            0  ...   \n",
       "3                                            0  ...   \n",
       "4                                            0  ...   \n",
       "...                                        ...  ...   \n",
       "4419                                         0  ...   \n",
       "4420                                         0  ...   \n",
       "4421                                         0  ...   \n",
       "4422                                         0  ...   \n",
       "4423                                         0  ...   \n",
       "\n",
       "      Qualificação prévia_Educação básica 3º ciclo (9º/10º/11º ano) ou equivalente  \\\n",
       "0                                                   0.0                              \n",
       "1                                                   0.0                              \n",
       "2                                                   0.0                              \n",
       "3                                                   0.0                              \n",
       "4                                                   0.0                              \n",
       "...                                                 ...                              \n",
       "4419                                                0.0                              \n",
       "4420                                                0.0                              \n",
       "4421                                                0.0                              \n",
       "4422                                                0.0                              \n",
       "4423                                                0.0                              \n",
       "\n",
       "      Qualificação prévia_Educação secundária  \\\n",
       "0                                         1.0   \n",
       "1                                         1.0   \n",
       "2                                         1.0   \n",
       "3                                         1.0   \n",
       "4                                         1.0   \n",
       "...                                       ...   \n",
       "4419                                      1.0   \n",
       "4420                                      1.0   \n",
       "4421                                      1.0   \n",
       "4422                                      1.0   \n",
       "4423                                      1.0   \n",
       "\n",
       "      Qualificação prévia_Educação superior - bacharelado  \\\n",
       "0                                                   0.0     \n",
       "1                                                   0.0     \n",
       "2                                                   0.0     \n",
       "3                                                   0.0     \n",
       "4                                                   0.0     \n",
       "...                                                 ...     \n",
       "4419                                                0.0     \n",
       "4420                                                0.0     \n",
       "4421                                                0.0     \n",
       "4422                                                0.0     \n",
       "4423                                                0.0     \n",
       "\n",
       "      Qualificação prévia_Educação superior - doutorado  \\\n",
       "0                                                   0.0   \n",
       "1                                                   0.0   \n",
       "2                                                   0.0   \n",
       "3                                                   0.0   \n",
       "4                                                   0.0   \n",
       "...                                                 ...   \n",
       "4419                                                0.0   \n",
       "4420                                                0.0   \n",
       "4421                                                0.0   \n",
       "4422                                                0.0   \n",
       "4423                                                0.0   \n",
       "\n",
       "      Qualificação prévia_Educação superior - licenciatura  \\\n",
       "0                                                   0.0      \n",
       "1                                                   0.0      \n",
       "2                                                   0.0      \n",
       "3                                                   0.0      \n",
       "4                                                   0.0      \n",
       "...                                                 ...      \n",
       "4419                                                0.0      \n",
       "4420                                                0.0      \n",
       "4421                                                0.0      \n",
       "4422                                                0.0      \n",
       "4423                                                0.0      \n",
       "\n",
       "      Qualificação prévia_Educação superior - licenciatura (1º ciclo)  \\\n",
       "0                                                   0.0                 \n",
       "1                                                   0.0                 \n",
       "2                                                   0.0                 \n",
       "3                                                   0.0                 \n",
       "4                                                   0.0                 \n",
       "...                                                 ...                 \n",
       "4419                                                0.0                 \n",
       "4420                                                0.0                 \n",
       "4421                                                0.0                 \n",
       "4422                                                0.0                 \n",
       "4423                                                0.0                 \n",
       "\n",
       "      Qualificação prévia_Educação superior - mestrado  \\\n",
       "0                                                  0.0   \n",
       "1                                                  0.0   \n",
       "2                                                  0.0   \n",
       "3                                                  0.0   \n",
       "4                                                  0.0   \n",
       "...                                                ...   \n",
       "4419                                               0.0   \n",
       "4420                                               0.0   \n",
       "4421                                               0.0   \n",
       "4422                                               0.0   \n",
       "4423                                               0.0   \n",
       "\n",
       "      Qualificação prévia_Educação superior - mestrado (2º ciclo)  \\\n",
       "0                                                   0.0             \n",
       "1                                                   0.0             \n",
       "2                                                   0.0             \n",
       "3                                                   0.0             \n",
       "4                                                   0.0             \n",
       "...                                                 ...             \n",
       "4419                                                0.0             \n",
       "4420                                                0.0             \n",
       "4421                                                0.0             \n",
       "4422                                                0.0             \n",
       "4423                                                0.0             \n",
       "\n",
       "      Qualificação prévia_Frequência de educação superior  \\\n",
       "0                                                   0.0     \n",
       "1                                                   0.0     \n",
       "2                                                   0.0     \n",
       "3                                                   0.0     \n",
       "4                                                   0.0     \n",
       "...                                                 ...     \n",
       "4419                                                0.0     \n",
       "4420                                                0.0     \n",
       "4421                                                0.0     \n",
       "4422                                                0.0     \n",
       "4423                                                0.0     \n",
       "\n",
       "      Qualificação prévia_Outro - 11º ano de escolaridade  \n",
       "0                                                   0.0    \n",
       "1                                                   0.0    \n",
       "2                                                   0.0    \n",
       "3                                                   0.0    \n",
       "4                                                   0.0    \n",
       "...                                                 ...    \n",
       "4419                                                0.0    \n",
       "4420                                                0.0    \n",
       "4421                                                0.0    \n",
       "4422                                                0.0    \n",
       "4423                                                0.0    \n",
       "\n",
       "[4424 rows x 64 columns]"
      ]
     },
     "execution_count": 3,
     "metadata": {},
     "output_type": "execute_result"
    }
   ],
   "source": [
    "x = df.drop(columns='Target')\n",
    "x"
   ]
  },
  {
   "cell_type": "code",
   "execution_count": 4,
   "metadata": {},
   "outputs": [
    {
     "data": {
      "text/plain": [
       "0       Desistente\n",
       "1         Graduado\n",
       "2       Desistente\n",
       "3         Graduado\n",
       "4         Graduado\n",
       "           ...    \n",
       "4419      Graduado\n",
       "4420    Desistente\n",
       "4421    Desistente\n",
       "4422      Graduado\n",
       "4423      Graduado\n",
       "Name: Target, Length: 4424, dtype: object"
      ]
     },
     "execution_count": 4,
     "metadata": {},
     "output_type": "execute_result"
    }
   ],
   "source": [
    "y = df['Target']\n",
    "y"
   ]
  },
  {
   "cell_type": "code",
   "execution_count": 5,
   "metadata": {},
   "outputs": [],
   "source": [
    "from sklearn.model_selection import train_test_split"
   ]
  },
  {
   "cell_type": "code",
   "execution_count": 6,
   "metadata": {},
   "outputs": [],
   "source": [
    "x_split, x_test, y_split, y_test = train_test_split(x, y, test_size=.15, stratify=y, random_state=42)\n",
    "x_train, x_valid, y_train, y_valid = train_test_split(x_split, y_split, stratify=y_split, random_state=42)"
   ]
  },
  {
   "cell_type": "code",
   "execution_count": 7,
   "metadata": {},
   "outputs": [
    {
     "name": "stdout",
     "output_type": "stream",
     "text": [
      "3760\n",
      "940\n",
      "664\n"
     ]
    }
   ],
   "source": [
    "print(x_split.shape[0])\n",
    "print(x_valid.shape[0])\n",
    "print(x_test.shape[0])"
   ]
  },
  {
   "cell_type": "markdown",
   "metadata": {},
   "source": [
    "---"
   ]
  },
  {
   "cell_type": "markdown",
   "metadata": {},
   "source": [
    "Sem hiperparâmetros"
   ]
  },
  {
   "cell_type": "code",
   "execution_count": 37,
   "metadata": {},
   "outputs": [],
   "source": [
    "from sklearn.ensemble import RandomForestClassifier"
   ]
  },
  {
   "cell_type": "code",
   "execution_count": 9,
   "metadata": {},
   "outputs": [],
   "source": [
    "rfc_model = RandomForestClassifier(random_state=42)\n",
    "rfc_model.fit(x_train, y_train)\n",
    "y_predict = rfc_model.predict(x_valid)"
   ]
  },
  {
   "cell_type": "code",
   "execution_count": 10,
   "metadata": {},
   "outputs": [
    {
     "name": "stdout",
     "output_type": "stream",
     "text": [
      "0.9975177304964539\n",
      "0.7851063829787234\n"
     ]
    }
   ],
   "source": [
    "print(rfc_model.score(x_train, y_train))\n",
    "print(rfc_model.score(x_valid, y_valid))"
   ]
  },
  {
   "cell_type": "markdown",
   "metadata": {},
   "source": [
    "Com hiperparâmetros"
   ]
  },
  {
   "cell_type": "code",
   "execution_count": 11,
   "metadata": {},
   "outputs": [
    {
     "name": "stdout",
     "output_type": "stream",
     "text": [
      "0.8929078014184397\n",
      "0.7914893617021277\n"
     ]
    }
   ],
   "source": [
    "rfc_model = RandomForestClassifier(random_state=42, max_depth=10)\n",
    "rfc_model.fit(x_train, y_train)\n",
    "y_predict = rfc_model.predict(x_valid)\n",
    "\n",
    "print(rfc_model.score(x_train, y_train))\n",
    "print(rfc_model.score(x_valid, y_valid))"
   ]
  },
  {
   "cell_type": "markdown",
   "metadata": {},
   "source": [
    "# Avaliando o modelo"
   ]
  },
  {
   "cell_type": "code",
   "execution_count": 12,
   "metadata": {},
   "outputs": [],
   "source": [
    "from sklearn.metrics import confusion_matrix, ConfusionMatrixDisplay"
   ]
  },
  {
   "cell_type": "code",
   "execution_count": 13,
   "metadata": {},
   "outputs": [
    {
     "data": {
      "image/png": "[encoded data removed]",
      "text/plain": [
       "<Figure size 640x480 with 2 Axes>"
      ]
     },
     "metadata": {},
     "output_type": "display_data"
    }
   ],
   "source": [
    "cm_graph = ConfusionMatrixDisplay(confusion_matrix(y_valid, y_predict), display_labels=rfc_model.classes_)\n",
    "cm_graph.plot();"
   ]
  },
  {
   "cell_type": "code",
   "execution_count": 14,
   "metadata": {},
   "outputs": [
    {
     "data": {
      "text/plain": [
       "<sklearn.metrics._plot.confusion_matrix.ConfusionMatrixDisplay at 0x1ce170b92b0>"
      ]
     },
     "execution_count": 14,
     "metadata": {},
     "output_type": "execute_result"
    },
    {
     "data": {
      "image/png": "[encoded data removed]",
      "text/plain": [
       "<Figure size 640x480 with 2 Axes>"
      ]
     },
     "metadata": {},
     "output_type": "display_data"
    }
   ],
   "source": [
    "ConfusionMatrixDisplay.from_predictions(y_valid, y_predict, normalize='true', cmap='Blues')"
   ]
  },
  {
   "cell_type": "markdown",
   "metadata": {},
   "source": [
    "---"
   ]
  },
  {
   "cell_type": "code",
   "execution_count": 15,
   "metadata": {},
   "outputs": [],
   "source": [
    "from sklearn.metrics import classification_report"
   ]
  },
  {
   "cell_type": "code",
   "execution_count": 16,
   "metadata": {},
   "outputs": [
    {
     "name": "stdout",
     "output_type": "stream",
     "text": [
      "              precision    recall  f1-score   support\n",
      "\n",
      "  Desistente       0.84      0.79      0.82       302\n",
      "    Graduado       0.79      0.95      0.86       469\n",
      " Matriculado       0.67      0.36      0.46       169\n",
      "\n",
      "    accuracy                           0.79       940\n",
      "   macro avg       0.77      0.70      0.71       940\n",
      "weighted avg       0.78      0.79      0.77       940\n",
      "\n"
     ]
    }
   ],
   "source": [
    "rfc_report = classification_report(y_valid, y_predict)\n",
    "print(rfc_report)"
   ]
  },
  {
   "cell_type": "markdown",
   "metadata": {},
   "source": [
    "---"
   ]
  },
  {
   "cell_type": "markdown",
   "metadata": {},
   "source": [
    "Balanceando os dados com over"
   ]
  },
  {
   "cell_type": "code",
   "execution_count": 17,
   "metadata": {},
   "outputs": [],
   "source": [
    "from imblearn.over_sampling import SMOTE"
   ]
  },
  {
   "cell_type": "code",
   "execution_count": 18,
   "metadata": {},
   "outputs": [],
   "source": [
    "oversample = SMOTE(random_state=42)\n",
    "x_train_over, y_train_over = oversample.fit_resample(x_train, y_train)"
   ]
  },
  {
   "cell_type": "code",
   "execution_count": 19,
   "metadata": {},
   "outputs": [],
   "source": [
    "rfc_model_over = RandomForestClassifier(max_depth=10, random_state=42)\n",
    "rfc_model.fit(x_train_over, y_train_over)\n",
    "y_predict_over = rfc_model.predict(x_valid)"
   ]
  },
  {
   "cell_type": "code",
   "execution_count": 20,
   "metadata": {},
   "outputs": [
    {
     "name": "stdout",
     "output_type": "stream",
     "text": [
      "<sklearn.metrics._plot.confusion_matrix.ConfusionMatrixDisplay object at 0x000001CE2593DAC0>\n",
      "              precision    recall  f1-score   support\n",
      "\n",
      "  Desistente       0.86      0.74      0.80       302\n",
      "    Graduado       0.83      0.88      0.85       469\n",
      " Matriculado       0.53      0.57      0.55       169\n",
      "\n",
      "    accuracy                           0.78       940\n",
      "   macro avg       0.74      0.73      0.73       940\n",
      "weighted avg       0.79      0.78      0.78       940\n",
      "\n"
     ]
    },
    {
     "data": {
      "image/png": "[encoded data removed]",
      "text/plain": [
       "<Figure size 640x480 with 2 Axes>"
      ]
     },
     "metadata": {},
     "output_type": "display_data"
    }
   ],
   "source": [
    "print(ConfusionMatrixDisplay.from_predictions(y_valid, y_predict_over, normalize='true', cmap='Blues'));\n",
    "print(classification_report(y_valid, y_predict_over))"
   ]
  },
  {
   "cell_type": "markdown",
   "metadata": {},
   "source": [
    "### Balanceando os dados com under"
   ]
  },
  {
   "cell_type": "code",
   "execution_count": 21,
   "metadata": {},
   "outputs": [],
   "source": [
    "from imblearn.under_sampling import NearMiss"
   ]
  },
  {
   "cell_type": "code",
   "execution_count": 22,
   "metadata": {},
   "outputs": [],
   "source": [
    "undersample = NearMiss(version=1)\n",
    "x_train_under, y_train_under = undersample.fit_resample(x_train, y_train)"
   ]
  },
  {
   "cell_type": "code",
   "execution_count": 23,
   "metadata": {},
   "outputs": [],
   "source": [
    "rfc_model_under = RandomForestClassifier(max_depth=10, random_state=42)\n",
    "rfc_model_under.fit(x_train_under, y_train_under)\n",
    "y_predict_under = rfc_model_under.predict(x_valid)"
   ]
  },
  {
   "cell_type": "code",
   "execution_count": 24,
   "metadata": {},
   "outputs": [
    {
     "name": "stdout",
     "output_type": "stream",
     "text": [
      "<sklearn.metrics._plot.confusion_matrix.ConfusionMatrixDisplay object at 0x000001CE259CDA90>\n",
      "              precision    recall  f1-score   support\n",
      "\n",
      "  Desistente       0.84      0.72      0.78       302\n",
      "    Graduado       0.85      0.60      0.71       469\n",
      " Matriculado       0.35      0.73      0.47       169\n",
      "\n",
      "    accuracy                           0.66       940\n",
      "   macro avg       0.68      0.68      0.65       940\n",
      "weighted avg       0.76      0.66      0.69       940\n",
      "\n"
     ]
    },
    {
     "data": {
      "image/png": "[encoded data removed]",
      "text/plain": [
       "<Figure size 640x480 with 2 Axes>"
      ]
     },
     "metadata": {},
     "output_type": "display_data"
    }
   ],
   "source": [
    "print(ConfusionMatrixDisplay.from_predictions(y_valid, y_predict_under, normalize='true', cmap='Greens'));\n",
    "print(classification_report(y_valid, y_predict_under))"
   ]
  },
  {
   "cell_type": "markdown",
   "metadata": {},
   "source": [
    "# Validando o modelo"
   ]
  },
  {
   "cell_type": "markdown",
   "metadata": {},
   "source": [
    "Random Forest"
   ]
  },
  {
   "cell_type": "code",
   "execution_count": 25,
   "metadata": {},
   "outputs": [],
   "source": [
    "from imblearn.pipeline import Pipeline as imbpipeline"
   ]
  },
  {
   "cell_type": "code",
   "execution_count": 26,
   "metadata": {},
   "outputs": [],
   "source": [
    "oversample_pipeline = SMOTE(random_state=42)\n",
    "rfc_model_over_pipeline = RandomForestClassifier(max_depth=10, random_state=42)\n",
    "\n",
    "pipeline_rfc = imbpipeline(\n",
    "    [('oversample', oversample_pipeline), ('floresta', rfc_model_over_pipeline)]\n",
    ")"
   ]
  },
  {
   "cell_type": "code",
   "execution_count": 27,
   "metadata": {},
   "outputs": [],
   "source": [
    "from sklearn.model_selection import cross_validate, StratifiedKFold"
   ]
  },
  {
   "cell_type": "code",
   "execution_count": 28,
   "metadata": {},
   "outputs": [],
   "source": [
    "skf = StratifiedKFold(n_splits=5, shuffle=True, random_state=42)\n",
    "cv_resultados = cross_validate(pipeline_rfc, x_split, y_split, cv=skf, scoring='recall_weighted')"
   ]
  },
  {
   "cell_type": "code",
   "execution_count": 29,
   "metadata": {},
   "outputs": [
    {
     "name": "stdout",
     "output_type": "stream",
     "text": [
      "Intervalo de confiança: [74,80]\n"
     ]
    }
   ],
   "source": [
    "media = cv_resultados['test_score'].mean() * 100\n",
    "dp = cv_resultados['test_score'].std() * 100\n",
    "\n",
    "print(f'Intervalo de confiança: [{(media - dp*2):.0f},{(media + dp*2):.0f}]')"
   ]
  },
  {
   "cell_type": "markdown",
   "metadata": {},
   "source": [
    "### Decision Tree"
   ]
  },
  {
   "cell_type": "code",
   "execution_count": 30,
   "metadata": {},
   "outputs": [],
   "source": [
    "from sklearn.tree import DecisionTreeClassifier"
   ]
  },
  {
   "cell_type": "code",
   "execution_count": 31,
   "metadata": {},
   "outputs": [],
   "source": [
    "oversample_pipeline = SMOTE(random_state=42)\n",
    "dtc_model_over_pipeline = DecisionTreeClassifier(max_depth=10, random_state=42)\n",
    "\n",
    "pipeline_dtc = imbpipeline(\n",
    "    [('oversample', oversample_pipeline), ('arvore', dtc_model_over_pipeline)]\n",
    ")"
   ]
  },
  {
   "cell_type": "code",
   "execution_count": 32,
   "metadata": {},
   "outputs": [],
   "source": [
    "skf = StratifiedKFold(n_splits=5, shuffle=True, random_state=42)\n",
    "cv_resultados_dtc = cross_validate(pipeline_dtc, x_split, y_split, cv=skf, scoring='recall_weighted')"
   ]
  },
  {
   "cell_type": "code",
   "execution_count": 33,
   "metadata": {},
   "outputs": [
    {
     "name": "stdout",
     "output_type": "stream",
     "text": [
      "Intervalo de confiança: [70,74]\n"
     ]
    }
   ],
   "source": [
    "media = cv_resultados_dtc['test_score'].mean() * 100\n",
    "dp = cv_resultados_dtc['test_score'].std() * 100\n",
    "\n",
    "print(f'Intervalo de confiança: [{(media - dp*2):.0f},{(media + dp*2):.0f}]')"
   ]
  },
  {
   "cell_type": "markdown",
   "metadata": {},
   "source": [
    "# **Testando o modelo**"
   ]
  },
  {
   "cell_type": "code",
   "execution_count": 34,
   "metadata": {},
   "outputs": [],
   "source": [
    "oversample_final = SMOTE(random_state=42)\n",
    "x_train_final, y_train_final = oversample_final.fit_resample(x_split, y_split)"
   ]
  },
  {
   "cell_type": "code",
   "execution_count": 42,
   "metadata": {},
   "outputs": [],
   "source": [
    "rfc_model_final = RandomForestClassifier(max_depth=10, random_state=42)\n",
    "rfc_model_final.fit(x_train_final, y_train_final)\n",
    "y_predict_final = rfc_model_final.predict(x_test)"
   ]
  },
  {
   "cell_type": "code",
   "execution_count": 44,
   "metadata": {},
   "outputs": [
    {
     "name": "stdout",
     "output_type": "stream",
     "text": [
      "              precision    recall  f1-score   support\n",
      "\n",
      "  Desistente       0.86      0.69      0.77       213\n",
      "    Graduado       0.83      0.87      0.85       332\n",
      " Matriculado       0.41      0.50      0.45       119\n",
      "\n",
      "    accuracy                           0.75       664\n",
      "   macro avg       0.70      0.69      0.69       664\n",
      "weighted avg       0.77      0.75      0.75       664\n",
      "\n",
      "<sklearn.metrics._plot.confusion_matrix.ConfusionMatrixDisplay object at 0x000001CE236F8350>\n"
     ]
    },
    {
     "data": {
      "image/png": "[encoded data removed]",
      "text/plain": [
       "<Figure size 640x480 with 2 Axes>"
      ]
     },
     "metadata": {},
     "output_type": "display_data"
    }
   ],
   "source": [
    "print(classification_report(y_test, y_predict_final))\n",
    "print(ConfusionMatrixDisplay.from_predictions(y_test, y_predict_final, normalize='true', cmap='Reds'));"
   ]
  },
  {
   "cell_type": "code",
   "execution_count": null,
   "metadata": {},
   "outputs": [],
   "source": []
  }
 ],
 "metadata": {
  "kernelspec": {
   "display_name": "Python 3",
   "language": "python",
   "name": "python3"
  },
  "language_info": {
   "codemirror_mode": {
    "name": "ipython",
    "version": 3
   },
   "file_extension": ".py",
   "mimetype": "text/x-python",
   "name": "python",
   "nbconvert_exporter": "python",
   "pygments_lexer": "ipython3",
   "version": "3.12.4"
  }
 },
 "nbformat": 4,
 "nbformat_minor": 2
}
