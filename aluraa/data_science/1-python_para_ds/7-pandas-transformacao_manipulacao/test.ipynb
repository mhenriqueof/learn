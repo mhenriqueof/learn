{
 "cells": [
  {
   "cell_type": "code",
   "execution_count": 5,
   "metadata": {},
   "outputs": [
    {
     "name": "stdout",
     "output_type": "stream",
     "text": [
      "  Data de venda  Valor\n",
      "0      01/01/22    100\n",
      "1      05/02/22    150\n",
      "2      10/03/22    200\n",
      "3      15/04/22    250\n",
      "4      18/04/22     80\n",
      "5      07/04/22    180\n"
     ]
    }
   ],
   "source": [
    "import pandas as pd\n",
    "\n",
    "# Criando o DataFrame com as informações\n",
    "dados = pd.DataFrame({\n",
    "    'Data de venda': ['01/01/22', '05/02/22', '10/03/22', '15/04/22','18/04/22','07/04/22'],\n",
    "    'Valor': [100, 150, 200, 250,80,180]\n",
    "})\n",
    "\n",
    "# Exibindo o DataFrame\n",
    "print(dados)\n"
   ]
  },
  {
   "cell_type": "code",
   "execution_count": 6,
   "metadata": {},
   "outputs": [],
   "source": [
    "# dados['Data de venda'] = pd.to_datetime(dados['Data de venda'], format= '%d/%m/%y')\n",
    "# dados"
   ]
  },
  {
   "cell_type": "code",
   "execution_count": 7,
   "metadata": {},
   "outputs": [],
   "source": [
    "linhas_com_04 = dados.loc[dados['Data de venda'].str.contains('04')]"
   ]
  },
  {
   "cell_type": "code",
   "execution_count": null,
   "metadata": {},
   "outputs": [],
   "source": []
  }
 ],
 "metadata": {
  "kernelspec": {
   "display_name": "Python 3",
   "language": "python",
   "name": "python3"
  },
  "language_info": {
   "codemirror_mode": {
    "name": "ipython",
    "version": 3
   },
   "file_extension": ".py",
   "mimetype": "text/x-python",
   "name": "python",
   "nbconvert_exporter": "python",
   "pygments_lexer": "ipython3",
   "version": "3.12.2"
  }
 },
 "nbformat": 4,
 "nbformat_minor": 2
}
