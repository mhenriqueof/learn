{
 "cells": [
  {
   "cell_type": "code",
   "execution_count": 2,
   "metadata": {},
   "outputs": [],
   "source": [
    "from collections import Counter"
   ]
  },
  {
   "cell_type": "code",
   "execution_count": 3,
   "metadata": {},
   "outputs": [],
   "source": [
    "text_1 = \"\"\"\n",
    "Por fim, vamos colocar tudo isso em prática para vermos algum exemplo diferente? Então o que eu queria fazer agora não é um contador de palavras, eu fazer um contador de letras para vermos uma coisa interessante que acontece na língua portuguesa e em outras línguas, para ser sincero, também. Então eu vou criar aqui uma nova sessão que é \"#Testando o uso de diversas coleções\".\n",
    "\"\"\"\n",
    "text_2 = \"\"\"\n",
    "Então o que vamos fazer é o seguinte: vamos pegar dois textos, por exemplo eu posso entrar no blog da Alura e pegar textos do blog da Alura. Eu posso pegar um texto que está falando sobre expressões regulares e posso pegar um outro texto de outro assunto, só para não termos dois assuntos similares. Vou pegar um o outro assunto, temos um de programação e um aqui que é de negócios: B2C, B2B, coisas do gênero. Então dois assuntos distintos, um de programação e um não de programação.\n",
    "\"\"\""
   ]
  },
  {
   "cell_type": "code",
   "execution_count": 23,
   "metadata": {},
   "outputs": [
    {
     "name": "stdout",
     "output_type": "stream",
     "text": [
      "  = 17.105263157894736\n",
      "e = 10.0\n",
      "a = 9.736842105263158\n",
      "o = 7.894736842105263\n",
      "r = 6.578947368421052\n",
      "s = 6.052631578947368\n",
      "u = 5.526315789473684\n",
      "t = 4.2105263157894735\n",
      "n = 3.9473684210526314\n",
      "m = 3.684210526315789\n"
     ]
    }
   ],
   "source": [
    "def letters_frequency(text):\n",
    "    aparicoes = Counter(text.lower())\n",
    "    total_chr = sum(aparicoes.values())\n",
    "\n",
    "    proportion = [(letter, (frequency / total_chr)) for letter, frequency in aparicoes.items()]\n",
    "    proportion = Counter(dict(proportion))\n",
    "    mais_comuns = proportion.most_common(10)\n",
    "    for chra, proportion in mais_comuns:\n",
    "        print(chra, '=', (proportion * 100))\n",
    "        \n",
    "letters_frequency(text_1)"
   ]
  },
  {
   "cell_type": "code",
   "execution_count": 24,
   "metadata": {},
   "outputs": [
    {
     "name": "stdout",
     "output_type": "stream",
     "text": [
      "  = 18.106995884773664\n",
      "o = 11.11111111111111\n",
      "e = 8.847736625514404\n",
      "s = 8.23045267489712\n",
      "a = 6.790123456790123\n",
      "r = 5.761316872427984\n",
      "u = 5.1440329218107\n",
      "t = 4.938271604938271\n",
      "m = 3.292181069958848\n",
      "n = 3.0864197530864197\n"
     ]
    }
   ],
   "source": [
    "letters_frequency(text_2)"
   ]
  },
  {
   "cell_type": "code",
   "execution_count": null,
   "metadata": {},
   "outputs": [],
   "source": []
  }
 ],
 "metadata": {
  "kernelspec": {
   "display_name": "Python 3",
   "language": "python",
   "name": "python3"
  },
  "language_info": {
   "codemirror_mode": {
    "name": "ipython",
    "version": 3
   },
   "file_extension": ".py",
   "mimetype": "text/x-python",
   "name": "python",
   "nbconvert_exporter": "python",
   "pygments_lexer": "ipython3",
   "version": "3.11.1"
  },
  "orig_nbformat": 4,
  "vscode": {
   "interpreter": {
    "hash": "443ccdb8286e8a318ddea02e462c989d8007da1e6037d44e4676a8c7b218e103"
   }
  }
 },
 "nbformat": 4,
 "nbformat_minor": 2
}
