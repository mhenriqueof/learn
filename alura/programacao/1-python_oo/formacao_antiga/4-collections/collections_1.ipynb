{
 "cells": [
  {
   "cell_type": "code",
   "execution_count": 23,
   "metadata": {},
   "outputs": [],
   "source": [
    "class Account:\n",
    "    \n",
    "    def __init__(self, code=0, balance=0):\n",
    "        self.code = code\n",
    "        self.balance = balance\n",
    "        \n",
    "    def deposit(self, value):\n",
    "        self.balance += value\n",
    "        \n",
    "    def __str__(self):\n",
    "        return f\"Code: {self.code}\\nBalance: {self.balance}\""
   ]
  },
  {
   "cell_type": "code",
   "execution_count": 24,
   "metadata": {},
   "outputs": [],
   "source": [
    "hen_account = Account(15)"
   ]
  },
  {
   "cell_type": "code",
   "execution_count": 25,
   "metadata": {},
   "outputs": [
    {
     "name": "stdout",
     "output_type": "stream",
     "text": [
      "Code: 15\n",
      "Balance: 0\n"
     ]
    }
   ],
   "source": [
    "print(hen_account)"
   ]
  },
  {
   "cell_type": "code",
   "execution_count": 26,
   "metadata": {},
   "outputs": [
    {
     "name": "stdout",
     "output_type": "stream",
     "text": [
      "Code: 15\n",
      "Balance: 500\n"
     ]
    }
   ],
   "source": [
    "hen_account.deposit(500)\n",
    "print(hen_account)"
   ]
  },
  {
   "cell_type": "code",
   "execution_count": 28,
   "metadata": {},
   "outputs": [
    {
     "name": "stdout",
     "output_type": "stream",
     "text": [
      "Code: 47685\n",
      "Balance: 1000\n"
     ]
    }
   ],
   "source": [
    "dani_account = Account(47685)\n",
    "dani_account.deposit(1000)\n",
    "print(dani_account)"
   ]
  },
  {
   "cell_type": "code",
   "execution_count": null,
   "metadata": {},
   "outputs": [],
   "source": [
    "accounts = [hen_account, dani_account]"
   ]
  }
 ],
 "metadata": {
  "kernelspec": {
   "display_name": "Python 3",
   "language": "python",
   "name": "python3"
  },
  "language_info": {
   "codemirror_mode": {
    "name": "ipython",
    "version": 3
   },
   "file_extension": ".py",
   "mimetype": "text/x-python",
   "name": "python",
   "nbconvert_exporter": "python",
   "pygments_lexer": "ipython3",
   "version": "3.11.1"
  },
  "orig_nbformat": 4,
  "vscode": {
   "interpreter": {
    "hash": "443ccdb8286e8a318ddea02e462c989d8007da1e6037d44e4676a8c7b218e103"
   }
  }
 },
 "nbformat": 4,
 "nbformat_minor": 2
}
