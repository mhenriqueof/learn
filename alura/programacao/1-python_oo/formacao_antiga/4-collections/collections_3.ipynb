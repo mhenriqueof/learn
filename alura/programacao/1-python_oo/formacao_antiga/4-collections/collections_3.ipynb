{
 "cells": [
  {
   "cell_type": "code",
   "execution_count": 1,
   "metadata": {},
   "outputs": [],
   "source": [
    "users_data = {15, 23, 43, 56}\n",
    "users_machine = {13, 23, 56, 42}"
   ]
  },
  {
   "cell_type": "code",
   "execution_count": 2,
   "metadata": {},
   "outputs": [
    {
     "data": {
      "text/plain": [
       "{13, 15, 23, 42, 43, 56}"
      ]
     },
     "execution_count": 2,
     "metadata": {},
     "output_type": "execute_result"
    }
   ],
   "source": [
    "users_data | users_machine"
   ]
  },
  {
   "cell_type": "code",
   "execution_count": 3,
   "metadata": {},
   "outputs": [
    {
     "data": {
      "text/plain": [
       "{23, 56}"
      ]
     },
     "execution_count": 3,
     "metadata": {},
     "output_type": "execute_result"
    }
   ],
   "source": [
    "users_data & users_machine"
   ]
  },
  {
   "cell_type": "code",
   "execution_count": 4,
   "metadata": {},
   "outputs": [
    {
     "data": {
      "text/plain": [
       "{15, 43}"
      ]
     },
     "execution_count": 4,
     "metadata": {},
     "output_type": "execute_result"
    }
   ],
   "source": [
    "users_data - users_machine"
   ]
  },
  {
   "cell_type": "code",
   "execution_count": 6,
   "metadata": {},
   "outputs": [
    {
     "data": {
      "text/plain": [
       "{13, 15, 42, 43}"
      ]
     },
     "execution_count": 6,
     "metadata": {},
     "output_type": "execute_result"
    }
   ],
   "source": [
    "users_data ^ users_machine"
   ]
  },
  {
   "cell_type": "code",
   "execution_count": 7,
   "metadata": {},
   "outputs": [
    {
     "data": {
      "text/plain": [
       "{1, 3, 5, 13, 17, 34, 52, 76}"
      ]
     },
     "execution_count": 7,
     "metadata": {},
     "output_type": "execute_result"
    }
   ],
   "source": [
    "usuarios = {1,5,76,34,52,13,17}\n",
    "usuarios.add(3)\n",
    "usuarios"
   ]
  },
  {
   "cell_type": "code",
   "execution_count": 9,
   "metadata": {},
   "outputs": [],
   "source": [
    "usu = {\"Guilherme\" : 1,\n",
    "  \"cachorro\" : 2,\n",
    "  \"nome\" : 2,\n",
    "  \"Guilherme\" : 3,\n",
    "  \"vindo\" : 1}"
   ]
  },
  {
   "cell_type": "code",
   "execution_count": 14,
   "metadata": {},
   "outputs": [
    {
     "data": {
      "text/plain": [
       "dict_keys(['Guilherme', 'cachorro', 'nome', 'vindo'])"
      ]
     },
     "execution_count": 14,
     "metadata": {},
     "output_type": "execute_result"
    }
   ],
   "source": [
    "usu.keys()"
   ]
  },
  {
   "cell_type": "code",
   "execution_count": 16,
   "metadata": {},
   "outputs": [
    {
     "data": {
      "text/plain": [
       "{'bem': 1,\n",
       " 'vindo': 1,\n",
       " 'meu': 2,\n",
       " 'nome': 1,\n",
       " 'é': 1,\n",
       " 'guilherme': 1,\n",
       " 'eu': 1,\n",
       " 'gosto': 2,\n",
       " 'muito': 2,\n",
       " 'de': 2,\n",
       " 'nomes': 1,\n",
       " 'e': 2,\n",
       " 'tenho': 1,\n",
       " 'o': 1,\n",
       " 'cachorro': 2}"
      ]
     },
     "execution_count": 16,
     "metadata": {},
     "output_type": "execute_result"
    }
   ],
   "source": [
    "meu_texto = \"Bem vindo meu nome é Guilherme eu gosto muito de nomes e tenho o meu cachorro e gosto muito de cachorro\"\n",
    "meu_texto = meu_texto.lower()\n",
    "\n",
    "aparicoes = {}\n",
    "\n",
    "for palavra in meu_texto.split():\n",
    "    current = aparicoes.get(palavra, 0)\n",
    "    aparicoes[palavra] = current + 1\n",
    "    \n",
    "aparicoes"
   ]
  },
  {
   "cell_type": "code",
   "execution_count": 20,
   "metadata": {},
   "outputs": [
    {
     "data": {
      "text/plain": [
       "defaultdict(int,\n",
       "            {'bem': 1,\n",
       "             'vindo': 1,\n",
       "             'meu': 2,\n",
       "             'nome': 1,\n",
       "             'é': 1,\n",
       "             'guilherme': 1,\n",
       "             'eu': 1,\n",
       "             'gosto': 2,\n",
       "             'muito': 2,\n",
       "             'de': 2,\n",
       "             'nomes': 1,\n",
       "             'e': 2,\n",
       "             'tenho': 1,\n",
       "             'o': 1,\n",
       "             'cachorro': 2})"
      ]
     },
     "execution_count": 20,
     "metadata": {},
     "output_type": "execute_result"
    }
   ],
   "source": [
    "from collections import defaultdict\n",
    "\n",
    "meu_texto = \"Bem vindo meu nome é Guilherme eu gosto muito de nomes e tenho o meu cachorro e gosto muito de cachorro\"\n",
    "meu_texto = meu_texto.lower()\n",
    "\n",
    "aparicoes = defaultdict(int)\n",
    "\n",
    "for palavra in meu_texto.split():\n",
    "    current = aparicoes[palavra]\n",
    "    aparicoes[palavra] = current + 1\n",
    "    \n",
    "aparicoes"
   ]
  },
  {
   "cell_type": "code",
   "execution_count": 21,
   "metadata": {},
   "outputs": [
    {
     "data": {
      "text/plain": [
       "defaultdict(int,\n",
       "            {'bem': 1,\n",
       "             'vindo': 1,\n",
       "             'meu': 2,\n",
       "             'nome': 1,\n",
       "             'é': 1,\n",
       "             'guilherme': 1,\n",
       "             'eu': 1,\n",
       "             'gosto': 2,\n",
       "             'muito': 2,\n",
       "             'de': 2,\n",
       "             'nomes': 1,\n",
       "             'e': 2,\n",
       "             'tenho': 1,\n",
       "             'o': 1,\n",
       "             'cachorro': 2})"
      ]
     },
     "execution_count": 21,
     "metadata": {},
     "output_type": "execute_result"
    }
   ],
   "source": [
    "from collections import defaultdict\n",
    "\n",
    "meu_texto = \"Bem vindo meu nome é Guilherme eu gosto muito de nomes e tenho o meu cachorro e gosto muito de cachorro\"\n",
    "meu_texto = meu_texto.lower()\n",
    "\n",
    "aparicoes = defaultdict(int)\n",
    "\n",
    "for palavra in meu_texto.split():\n",
    "    aparicoes[palavra] += 1\n",
    "    \n",
    "aparicoes"
   ]
  },
  {
   "cell_type": "code",
   "execution_count": 23,
   "metadata": {},
   "outputs": [
    {
     "data": {
      "text/plain": [
       "Counter({'bem': 1,\n",
       "         'vindo': 1,\n",
       "         'meu': 2,\n",
       "         'nome': 1,\n",
       "         'é': 1,\n",
       "         'guilherme': 1,\n",
       "         'eu': 1,\n",
       "         'gosto': 2,\n",
       "         'muito': 2,\n",
       "         'de': 2,\n",
       "         'nomes': 1,\n",
       "         'e': 2,\n",
       "         'tenho': 1,\n",
       "         'o': 1,\n",
       "         'cachorro': 2})"
      ]
     },
     "execution_count": 23,
     "metadata": {},
     "output_type": "execute_result"
    }
   ],
   "source": [
    "from collections import Counter\n",
    "\n",
    "aparicoes = Counter(meu_texto.split())\n",
    "aparicoes"
   ]
  },
  {
   "cell_type": "code",
   "execution_count": null,
   "metadata": {},
   "outputs": [],
   "source": []
  }
 ],
 "metadata": {
  "kernelspec": {
   "display_name": "Python 3",
   "language": "python",
   "name": "python3"
  },
  "language_info": {
   "codemirror_mode": {
    "name": "ipython",
    "version": 3
   },
   "file_extension": ".py",
   "mimetype": "text/x-python",
   "name": "python",
   "nbconvert_exporter": "python",
   "pygments_lexer": "ipython3",
   "version": "3.11.1"
  },
  "orig_nbformat": 4,
  "vscode": {
   "interpreter": {
    "hash": "443ccdb8286e8a318ddea02e462c989d8007da1e6037d44e4676a8c7b218e103"
   }
  }
 },
 "nbformat": 4,
 "nbformat_minor": 2
}
