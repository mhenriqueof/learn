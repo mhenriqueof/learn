{
 "cells": [
  {
   "cell_type": "code",
   "execution_count": 9,
   "metadata": {},
   "outputs": [],
   "source": [
    "class Account:\n",
    "    \n",
    "    def __init__(self, code=0, balance=0):\n",
    "        self._code = code\n",
    "        self._balance = balance\n",
    "        \n",
    "    def deposit(self, value):\n",
    "        self._balance += value\n",
    "        \n",
    "    def __str__(self):\n",
    "        return f\"Code: {self._code}\\nBalance: {self._balance}\""
   ]
  },
  {
   "cell_type": "code",
   "execution_count": 10,
   "metadata": {},
   "outputs": [],
   "source": [
    "class CurrentAccount(Account):\n",
    "    \n",
    "    def pass_month(self):\n",
    "        self._balance -= 2\n",
    "    \n",
    "class SavingsAccount(Account):\n",
    "    \n",
    "    def pass_month(self):\n",
    "        self._balance *= 1.01\n",
    "        self._balance -= 3\n",
    "    "
   ]
  },
  {
   "cell_type": "code",
   "execution_count": 11,
   "metadata": {},
   "outputs": [
    {
     "name": "stdout",
     "output_type": "stream",
     "text": [
      "Code: 2\n",
      "Balance: 998\n"
     ]
    }
   ],
   "source": [
    "account_2 = CurrentAccount(2)\n",
    "account_2.deposit(1000)\n",
    "account_2.pass_month()\n",
    "print(account_2)"
   ]
  },
  {
   "cell_type": "code",
   "execution_count": 13,
   "metadata": {},
   "outputs": [
    {
     "name": "stdout",
     "output_type": "stream",
     "text": [
      "Code: 7\n",
      "Balance: 1007.0\n"
     ]
    }
   ],
   "source": [
    "account_7 = SavingsAccount(7)\n",
    "account_7.deposit(1000)\n",
    "account_7.pass_month()\n",
    "print(account_7)"
   ]
  },
  {
   "cell_type": "code",
   "execution_count": 24,
   "metadata": {},
   "outputs": [],
   "source": [
    "class SalaryAccount:\n",
    "    \n",
    "    def __init__(self, code=0, balance=0):\n",
    "        self._code    = code\n",
    "        self._balance = balance\n",
    "        \n",
    "    def __eq__(self, other):\n",
    "        eq_code    = (self._code == other._code)\n",
    "        eq_balance = (self._balance == other._balance)\n",
    "        return eq_code and eq_balance \n",
    "        \n",
    "    def deposit(self, value):\n",
    "        self._balance += value\n",
    "        \n",
    "    def __str__(self):\n",
    "        return f\"Code: {self._code}\\nBalance: {self._balance}\""
   ]
  },
  {
   "cell_type": "code",
   "execution_count": 25,
   "metadata": {},
   "outputs": [],
   "source": [
    "conta_1 = SalaryAccount(37)"
   ]
  },
  {
   "cell_type": "code",
   "execution_count": 26,
   "metadata": {},
   "outputs": [],
   "source": [
    "conta_2 = SalaryAccount(37)"
   ]
  },
  {
   "cell_type": "code",
   "execution_count": 27,
   "metadata": {},
   "outputs": [
    {
     "data": {
      "text/plain": [
       "True"
      ]
     },
     "execution_count": 27,
     "metadata": {},
     "output_type": "execute_result"
    }
   ],
   "source": [
    "conta_1 == conta_2"
   ]
  },
  {
   "cell_type": "code",
   "execution_count": 28,
   "metadata": {},
   "outputs": [
    {
     "data": {
      "text/plain": [
       "True"
      ]
     },
     "execution_count": 28,
     "metadata": {},
     "output_type": "execute_result"
    }
   ],
   "source": [
    "isinstance(object, object)"
   ]
  },
  {
   "cell_type": "code",
   "execution_count": 33,
   "metadata": {},
   "outputs": [],
   "source": [
    "class SalaryAccount:\n",
    "    \n",
    "    def __init__(self, code=0, balance=0):\n",
    "        self._code    = code\n",
    "        self._balance = balance\n",
    "        \n",
    "    def __eq__(self, other):\n",
    "        if type(other) != SalaryAccount:\n",
    "            return False\n",
    "        \n",
    "        eq_code    = (self._code == other._code)\n",
    "        eq_balance = (self._balance == other._balance)\n",
    "        return eq_code and eq_balance \n",
    "\n",
    "    def __gt__(self, other):\n",
    "        return self._balance > other._balance\n",
    "        \n",
    "    def deposit(self, value):\n",
    "        self._balance += value\n",
    "        \n",
    "    def __str__(self):\n",
    "        return f\"Code: {self._code}\\nBalance: {self._balance}\""
   ]
  },
  {
   "cell_type": "code",
   "execution_count": 37,
   "metadata": {},
   "outputs": [
    {
     "data": {
      "text/plain": [
       "False"
      ]
     },
     "execution_count": 37,
     "metadata": {},
     "output_type": "execute_result"
    }
   ],
   "source": [
    "conta_do_guilherme = SalaryAccount(17)\n",
    "conta_do_guilherme.deposit(500)\n",
    "\n",
    "conta_da_daniela = SalaryAccount(3)\n",
    "conta_da_daniela.deposit(500)\n",
    "\n",
    "conta_do_paulo = SalaryAccount(133)\n",
    "conta_do_paulo.deposit(500)\n",
    "\n",
    "contas = [conta_do_guilherme, conta_da_daniela, conta_do_paulo]\n",
    "\n",
    "conta_do_guilherme < conta_da_daniela"
   ]
  },
  {
   "cell_type": "code",
   "execution_count": 38,
   "metadata": {},
   "outputs": [
    {
     "name": "stdout",
     "output_type": "stream",
     "text": [
      "Code: 3\n",
      "Balance: 500\n",
      "Code: 17\n",
      "Balance: 500\n",
      "Code: 133\n",
      "Balance: 500\n"
     ]
    }
   ],
   "source": [
    "from operator import attrgetter\n",
    "for conta in sorted(contas, key = attrgetter('_balance', '_code')):\n",
    "    print(conta)"
   ]
  },
  {
   "cell_type": "code",
   "execution_count": 45,
   "metadata": {},
   "outputs": [],
   "source": [
    "from functools import total_ordering\n",
    "\n",
    "@total_ordering\n",
    "class SalaryAccount:\n",
    "    \n",
    "    def __init__(self, code=0, balance=0):\n",
    "        self._code    = code\n",
    "        self._balance = balance\n",
    "        \n",
    "    def __eq__(self, other):\n",
    "        if type(other) != SalaryAccount:\n",
    "            return False\n",
    "        \n",
    "        eq_code    = (self._code == other._code)\n",
    "        eq_balance = (self._balance == other._balance)\n",
    "        return eq_code and eq_balance \n",
    "\n",
    "    def __lt__(self, other):\n",
    "        if self._balance != other._balance:\n",
    "            return self._balance < other._balance\n",
    "        return self._code < other._code\n",
    "        \n",
    "    def deposit(self, value):\n",
    "        self._balance += value\n",
    "        \n",
    "    def __str__(self):\n",
    "        return f\"Code: {self._code}\\nBalance: {self._balance}\""
   ]
  },
  {
   "cell_type": "code",
   "execution_count": 48,
   "metadata": {},
   "outputs": [
    {
     "name": "stdout",
     "output_type": "stream",
     "text": [
      "Code: 17\n",
      "Balance: 500\n",
      "Code: 133\n",
      "Balance: 500\n",
      "Code: 3\n",
      "Balance: 1000\n"
     ]
    }
   ],
   "source": [
    "conta_do_guilherme = SalaryAccount(17)\n",
    "conta_do_guilherme.deposit(500)\n",
    "\n",
    "conta_da_daniela = SalaryAccount(3)\n",
    "conta_da_daniela.deposit(1000)\n",
    "\n",
    "conta_do_paulo = SalaryAccount(133)\n",
    "conta_do_paulo.deposit(500)\n",
    "\n",
    "contas = [conta_do_guilherme, conta_da_daniela, conta_do_paulo]\n",
    "\n",
    "for conta in sorted(contas):\n",
    "    print(conta)"
   ]
  },
  {
   "cell_type": "code",
   "execution_count": 49,
   "metadata": {},
   "outputs": [
    {
     "data": {
      "text/plain": [
       "True"
      ]
     },
     "execution_count": 49,
     "metadata": {},
     "output_type": "execute_result"
    }
   ],
   "source": [
    "conta_do_guilherme <= conta_da_daniela"
   ]
  },
  {
   "cell_type": "code",
   "execution_count": null,
   "metadata": {},
   "outputs": [],
   "source": []
  }
 ],
 "metadata": {
  "kernelspec": {
   "display_name": "Python 3",
   "language": "python",
   "name": "python3"
  },
  "language_info": {
   "codemirror_mode": {
    "name": "ipython",
    "version": 3
   },
   "file_extension": ".py",
   "mimetype": "text/x-python",
   "name": "python",
   "nbconvert_exporter": "python",
   "pygments_lexer": "ipython3",
   "version": "3.11.1"
  },
  "orig_nbformat": 4,
  "vscode": {
   "interpreter": {
    "hash": "443ccdb8286e8a318ddea02e462c989d8007da1e6037d44e4676a8c7b218e103"
   }
  }
 },
 "nbformat": 4,
 "nbformat_minor": 2
}
