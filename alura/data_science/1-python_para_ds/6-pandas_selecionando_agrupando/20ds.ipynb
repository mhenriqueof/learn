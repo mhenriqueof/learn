{
 "cells": [
  {
   "cell_type": "code",
   "execution_count": 1,
   "metadata": {},
   "outputs": [
    {
     "name": "stderr",
     "output_type": "stream",
     "text": [
      "c:\\Users\\mhenr\\AppData\\Local\\Programs\\Python\\Python312\\Lib\\site-packages\\openpyxl\\worksheet\\_reader.py:329: UserWarning: Unknown extension is not supported and will be removed\n",
      "  warn(msg)\n"
     ]
    },
    {
     "data": {
      "text/html": [
       "<div>\n",
       "<style scoped>\n",
       "    .dataframe tbody tr th:only-of-type {\n",
       "        vertical-align: middle;\n",
       "    }\n",
       "\n",
       "    .dataframe tbody tr th {\n",
       "        vertical-align: top;\n",
       "    }\n",
       "\n",
       "    .dataframe thead th {\n",
       "        text-align: right;\n",
       "    }\n",
       "</style>\n",
       "<table border=\"1\" class=\"dataframe\">\n",
       "  <thead>\n",
       "    <tr style=\"text-align: right;\">\n",
       "      <th></th>\n",
       "      <th>Nível 1 - Setor</th>\n",
       "      <th>Nível 2</th>\n",
       "      <th>Nível 3</th>\n",
       "      <th>Nível 4</th>\n",
       "      <th>Nível 5</th>\n",
       "      <th>Nível 6</th>\n",
       "      <th>Emissão / Remoção / Bunker</th>\n",
       "      <th>Gás</th>\n",
       "      <th>Estado</th>\n",
       "      <th>Atividade Econômica</th>\n",
       "      <th>...</th>\n",
       "      <th>2012</th>\n",
       "      <th>2013</th>\n",
       "      <th>2014</th>\n",
       "      <th>2015</th>\n",
       "      <th>2016</th>\n",
       "      <th>2017</th>\n",
       "      <th>2018</th>\n",
       "      <th>2019</th>\n",
       "      <th>2020</th>\n",
       "      <th>2021</th>\n",
       "    </tr>\n",
       "  </thead>\n",
       "  <tbody>\n",
       "    <tr>\n",
       "      <th>0</th>\n",
       "      <td>Processos Industriais</td>\n",
       "      <td>Indústria Química</td>\n",
       "      <td>Produção de ABS</td>\n",
       "      <td>NaN</td>\n",
       "      <td>NaN</td>\n",
       "      <td>NaN</td>\n",
       "      <td>Emissão</td>\n",
       "      <td>COVNM (t)</td>\n",
       "      <td>SP</td>\n",
       "      <td>OUTRA_IND</td>\n",
       "      <td>...</td>\n",
       "      <td>897.600</td>\n",
       "      <td>897.600</td>\n",
       "      <td>897.600</td>\n",
       "      <td>897.600</td>\n",
       "      <td>897.600</td>\n",
       "      <td>897.600</td>\n",
       "      <td>897.600</td>\n",
       "      <td>897.600</td>\n",
       "      <td>8.976000e+02</td>\n",
       "      <td>897.600</td>\n",
       "    </tr>\n",
       "    <tr>\n",
       "      <th>1</th>\n",
       "      <td>Processos Industriais</td>\n",
       "      <td>Indústria Química</td>\n",
       "      <td>Produção de Ácido Adípico</td>\n",
       "      <td>NaN</td>\n",
       "      <td>NaN</td>\n",
       "      <td>NaN</td>\n",
       "      <td>Emissão</td>\n",
       "      <td>N2O (t)</td>\n",
       "      <td>SP</td>\n",
       "      <td>OUTRA_IND</td>\n",
       "      <td>...</td>\n",
       "      <td>130.000</td>\n",
       "      <td>130.000</td>\n",
       "      <td>130.000</td>\n",
       "      <td>130.000</td>\n",
       "      <td>130.000</td>\n",
       "      <td>130.000</td>\n",
       "      <td>130.000</td>\n",
       "      <td>130.000</td>\n",
       "      <td>1.300000e+02</td>\n",
       "      <td>130.000</td>\n",
       "    </tr>\n",
       "    <tr>\n",
       "      <th>2</th>\n",
       "      <td>Processos Industriais</td>\n",
       "      <td>Indústria Química</td>\n",
       "      <td>Produção de Ácido Adípico</td>\n",
       "      <td>NaN</td>\n",
       "      <td>NaN</td>\n",
       "      <td>NaN</td>\n",
       "      <td>Emissão</td>\n",
       "      <td>CO (t)</td>\n",
       "      <td>SP</td>\n",
       "      <td>OUTRA_IND</td>\n",
       "      <td>...</td>\n",
       "      <td>1380.576</td>\n",
       "      <td>1380.576</td>\n",
       "      <td>1380.576</td>\n",
       "      <td>1380.576</td>\n",
       "      <td>1380.576</td>\n",
       "      <td>1380.576</td>\n",
       "      <td>1380.576</td>\n",
       "      <td>1380.576</td>\n",
       "      <td>1.380576e+03</td>\n",
       "      <td>1380.576</td>\n",
       "    </tr>\n",
       "    <tr>\n",
       "      <th>3</th>\n",
       "      <td>Processos Industriais</td>\n",
       "      <td>Indústria Química</td>\n",
       "      <td>Produção de Ácido Adípico</td>\n",
       "      <td>NaN</td>\n",
       "      <td>NaN</td>\n",
       "      <td>NaN</td>\n",
       "      <td>Emissão</td>\n",
       "      <td>NOx (t)</td>\n",
       "      <td>SP</td>\n",
       "      <td>OUTRA_IND</td>\n",
       "      <td>...</td>\n",
       "      <td>431.430</td>\n",
       "      <td>431.430</td>\n",
       "      <td>431.430</td>\n",
       "      <td>431.430</td>\n",
       "      <td>431.430</td>\n",
       "      <td>431.430</td>\n",
       "      <td>431.430</td>\n",
       "      <td>431.430</td>\n",
       "      <td>4.314300e+02</td>\n",
       "      <td>431.430</td>\n",
       "    </tr>\n",
       "    <tr>\n",
       "      <th>4</th>\n",
       "      <td>Processos Industriais</td>\n",
       "      <td>Indústria Química</td>\n",
       "      <td>Produção de Ácido Adípico</td>\n",
       "      <td>NaN</td>\n",
       "      <td>NaN</td>\n",
       "      <td>NaN</td>\n",
       "      <td>Emissão</td>\n",
       "      <td>CO2e (t) GWP-AR2</td>\n",
       "      <td>SP</td>\n",
       "      <td>OUTRA_IND</td>\n",
       "      <td>...</td>\n",
       "      <td>40300.000</td>\n",
       "      <td>40300.000</td>\n",
       "      <td>40300.000</td>\n",
       "      <td>40300.000</td>\n",
       "      <td>40300.000</td>\n",
       "      <td>40300.000</td>\n",
       "      <td>40300.000</td>\n",
       "      <td>40300.000</td>\n",
       "      <td>4.030000e+04</td>\n",
       "      <td>40300.000</td>\n",
       "    </tr>\n",
       "    <tr>\n",
       "      <th>...</th>\n",
       "      <td>...</td>\n",
       "      <td>...</td>\n",
       "      <td>...</td>\n",
       "      <td>...</td>\n",
       "      <td>...</td>\n",
       "      <td>...</td>\n",
       "      <td>...</td>\n",
       "      <td>...</td>\n",
       "      <td>...</td>\n",
       "      <td>...</td>\n",
       "      <td>...</td>\n",
       "      <td>...</td>\n",
       "      <td>...</td>\n",
       "      <td>...</td>\n",
       "      <td>...</td>\n",
       "      <td>...</td>\n",
       "      <td>...</td>\n",
       "      <td>...</td>\n",
       "      <td>...</td>\n",
       "      <td>...</td>\n",
       "      <td>...</td>\n",
       "    </tr>\n",
       "    <tr>\n",
       "      <th>103307</th>\n",
       "      <td>Mudança de Uso da Terra e Floresta</td>\n",
       "      <td>Queimadas Não Associadas a Desmatamento</td>\n",
       "      <td>Pantanal</td>\n",
       "      <td>NaN</td>\n",
       "      <td>NaN</td>\n",
       "      <td>NaN</td>\n",
       "      <td>Emissão NCI</td>\n",
       "      <td>CO2e (t) GTP-AR6</td>\n",
       "      <td>BR</td>\n",
       "      <td>NaN</td>\n",
       "      <td>...</td>\n",
       "      <td>2731963.400</td>\n",
       "      <td>1091033.900</td>\n",
       "      <td>853275.300</td>\n",
       "      <td>1003731.400</td>\n",
       "      <td>1615000.600</td>\n",
       "      <td>1552258.800</td>\n",
       "      <td>216231.900</td>\n",
       "      <td>2805297.300</td>\n",
       "      <td>9.659261e+06</td>\n",
       "      <td>0.000</td>\n",
       "    </tr>\n",
       "    <tr>\n",
       "      <th>103308</th>\n",
       "      <td>Mudança de Uso da Terra e Floresta</td>\n",
       "      <td>Queimadas Não Associadas a Desmatamento</td>\n",
       "      <td>Pantanal</td>\n",
       "      <td>NaN</td>\n",
       "      <td>NaN</td>\n",
       "      <td>NaN</td>\n",
       "      <td>Emissão NCI</td>\n",
       "      <td>CO2e (t) GWP-AR2</td>\n",
       "      <td>BR</td>\n",
       "      <td>NaN</td>\n",
       "      <td>...</td>\n",
       "      <td>2921341.000</td>\n",
       "      <td>1144504.000</td>\n",
       "      <td>896685.000</td>\n",
       "      <td>1074717.000</td>\n",
       "      <td>1763431.000</td>\n",
       "      <td>1706030.000</td>\n",
       "      <td>252599.000</td>\n",
       "      <td>3105007.000</td>\n",
       "      <td>1.053571e+07</td>\n",
       "      <td>0.000</td>\n",
       "    </tr>\n",
       "    <tr>\n",
       "      <th>103309</th>\n",
       "      <td>Mudança de Uso da Terra e Floresta</td>\n",
       "      <td>Queimadas Não Associadas a Desmatamento</td>\n",
       "      <td>Pantanal</td>\n",
       "      <td>NaN</td>\n",
       "      <td>NaN</td>\n",
       "      <td>NaN</td>\n",
       "      <td>Emissão NCI</td>\n",
       "      <td>CO2e (t) GWP-AR4</td>\n",
       "      <td>BR</td>\n",
       "      <td>NaN</td>\n",
       "      <td>...</td>\n",
       "      <td>2950049.000</td>\n",
       "      <td>1151848.000</td>\n",
       "      <td>902209.000</td>\n",
       "      <td>1084073.000</td>\n",
       "      <td>1782863.000</td>\n",
       "      <td>1726958.000</td>\n",
       "      <td>257507.000</td>\n",
       "      <td>3147567.000</td>\n",
       "      <td>1.067568e+07</td>\n",
       "      <td>0.000</td>\n",
       "    </tr>\n",
       "    <tr>\n",
       "      <th>103310</th>\n",
       "      <td>Mudança de Uso da Terra e Floresta</td>\n",
       "      <td>Queimadas Não Associadas a Desmatamento</td>\n",
       "      <td>Pantanal</td>\n",
       "      <td>NaN</td>\n",
       "      <td>NaN</td>\n",
       "      <td>NaN</td>\n",
       "      <td>Emissão NCI</td>\n",
       "      <td>CO2e (t) GWP-AR5</td>\n",
       "      <td>BR</td>\n",
       "      <td>NaN</td>\n",
       "      <td>...</td>\n",
       "      <td>2957780.000</td>\n",
       "      <td>1152868.000</td>\n",
       "      <td>902368.000</td>\n",
       "      <td>1084826.000</td>\n",
       "      <td>1784237.000</td>\n",
       "      <td>1729598.000</td>\n",
       "      <td>258068.000</td>\n",
       "      <td>3155415.000</td>\n",
       "      <td>1.072232e+07</td>\n",
       "      <td>0.000</td>\n",
       "    </tr>\n",
       "    <tr>\n",
       "      <th>103311</th>\n",
       "      <td>Mudança de Uso da Terra e Floresta</td>\n",
       "      <td>Queimadas Não Associadas a Desmatamento</td>\n",
       "      <td>Pantanal</td>\n",
       "      <td>NaN</td>\n",
       "      <td>NaN</td>\n",
       "      <td>NaN</td>\n",
       "      <td>Emissão NCI</td>\n",
       "      <td>CO2e (t) GWP-AR6</td>\n",
       "      <td>BR</td>\n",
       "      <td>NaN</td>\n",
       "      <td>...</td>\n",
       "      <td>2953478.000</td>\n",
       "      <td>1151967.000</td>\n",
       "      <td>901817.000</td>\n",
       "      <td>1083792.000</td>\n",
       "      <td>1782129.000</td>\n",
       "      <td>1727086.000</td>\n",
       "      <td>257491.000</td>\n",
       "      <td>3149790.000</td>\n",
       "      <td>1.069948e+07</td>\n",
       "      <td>0.000</td>\n",
       "    </tr>\n",
       "  </tbody>\n",
       "</table>\n",
       "<p>103312 rows × 63 columns</p>\n",
       "</div>"
      ],
      "text/plain": [
       "                           Nível 1 - Setor  \\\n",
       "0                    Processos Industriais   \n",
       "1                    Processos Industriais   \n",
       "2                    Processos Industriais   \n",
       "3                    Processos Industriais   \n",
       "4                    Processos Industriais   \n",
       "...                                    ...   \n",
       "103307  Mudança de Uso da Terra e Floresta   \n",
       "103308  Mudança de Uso da Terra e Floresta   \n",
       "103309  Mudança de Uso da Terra e Floresta   \n",
       "103310  Mudança de Uso da Terra e Floresta   \n",
       "103311  Mudança de Uso da Terra e Floresta   \n",
       "\n",
       "                                        Nível 2                    Nível 3  \\\n",
       "0                             Indústria Química            Produção de ABS   \n",
       "1                             Indústria Química  Produção de Ácido Adípico   \n",
       "2                             Indústria Química  Produção de Ácido Adípico   \n",
       "3                             Indústria Química  Produção de Ácido Adípico   \n",
       "4                             Indústria Química  Produção de Ácido Adípico   \n",
       "...                                         ...                        ...   \n",
       "103307  Queimadas Não Associadas a Desmatamento                   Pantanal   \n",
       "103308  Queimadas Não Associadas a Desmatamento                   Pantanal   \n",
       "103309  Queimadas Não Associadas a Desmatamento                   Pantanal   \n",
       "103310  Queimadas Não Associadas a Desmatamento                   Pantanal   \n",
       "103311  Queimadas Não Associadas a Desmatamento                   Pantanal   \n",
       "\n",
       "       Nível 4 Nível 5 Nível 6 Emissão / Remoção / Bunker               Gás  \\\n",
       "0          NaN     NaN     NaN                    Emissão         COVNM (t)   \n",
       "1          NaN     NaN     NaN                    Emissão           N2O (t)   \n",
       "2          NaN     NaN     NaN                    Emissão            CO (t)   \n",
       "3          NaN     NaN     NaN                    Emissão           NOx (t)   \n",
       "4          NaN     NaN     NaN                    Emissão  CO2e (t) GWP-AR2   \n",
       "...        ...     ...     ...                        ...               ...   \n",
       "103307     NaN     NaN     NaN                Emissão NCI  CO2e (t) GTP-AR6   \n",
       "103308     NaN     NaN     NaN                Emissão NCI  CO2e (t) GWP-AR2   \n",
       "103309     NaN     NaN     NaN                Emissão NCI  CO2e (t) GWP-AR4   \n",
       "103310     NaN     NaN     NaN                Emissão NCI  CO2e (t) GWP-AR5   \n",
       "103311     NaN     NaN     NaN                Emissão NCI  CO2e (t) GWP-AR6   \n",
       "\n",
       "       Estado Atividade Econômica  ...         2012         2013        2014  \\\n",
       "0          SP           OUTRA_IND  ...      897.600      897.600     897.600   \n",
       "1          SP           OUTRA_IND  ...      130.000      130.000     130.000   \n",
       "2          SP           OUTRA_IND  ...     1380.576     1380.576    1380.576   \n",
       "3          SP           OUTRA_IND  ...      431.430      431.430     431.430   \n",
       "4          SP           OUTRA_IND  ...    40300.000    40300.000   40300.000   \n",
       "...       ...                 ...  ...          ...          ...         ...   \n",
       "103307     BR                 NaN  ...  2731963.400  1091033.900  853275.300   \n",
       "103308     BR                 NaN  ...  2921341.000  1144504.000  896685.000   \n",
       "103309     BR                 NaN  ...  2950049.000  1151848.000  902209.000   \n",
       "103310     BR                 NaN  ...  2957780.000  1152868.000  902368.000   \n",
       "103311     BR                 NaN  ...  2953478.000  1151967.000  901817.000   \n",
       "\n",
       "               2015         2016         2017        2018         2019  \\\n",
       "0           897.600      897.600      897.600     897.600      897.600   \n",
       "1           130.000      130.000      130.000     130.000      130.000   \n",
       "2          1380.576     1380.576     1380.576    1380.576     1380.576   \n",
       "3           431.430      431.430      431.430     431.430      431.430   \n",
       "4         40300.000    40300.000    40300.000   40300.000    40300.000   \n",
       "...             ...          ...          ...         ...          ...   \n",
       "103307  1003731.400  1615000.600  1552258.800  216231.900  2805297.300   \n",
       "103308  1074717.000  1763431.000  1706030.000  252599.000  3105007.000   \n",
       "103309  1084073.000  1782863.000  1726958.000  257507.000  3147567.000   \n",
       "103310  1084826.000  1784237.000  1729598.000  258068.000  3155415.000   \n",
       "103311  1083792.000  1782129.000  1727086.000  257491.000  3149790.000   \n",
       "\n",
       "                2020       2021  \n",
       "0       8.976000e+02    897.600  \n",
       "1       1.300000e+02    130.000  \n",
       "2       1.380576e+03   1380.576  \n",
       "3       4.314300e+02    431.430  \n",
       "4       4.030000e+04  40300.000  \n",
       "...              ...        ...  \n",
       "103307  9.659261e+06      0.000  \n",
       "103308  1.053571e+07      0.000  \n",
       "103309  1.067568e+07      0.000  \n",
       "103310  1.072232e+07      0.000  \n",
       "103311  1.069948e+07      0.000  \n",
       "\n",
       "[103312 rows x 63 columns]"
      ]
     },
     "execution_count": 1,
     "metadata": {},
     "output_type": "execute_result"
    }
   ],
   "source": [
    "import pandas as pd\n",
    "data = pd.read_excel('1-SEEG10_GERAL-BR_UF_2022.10.27-FINAL-SITE.xlsx', sheet_name= 'GEE Estados')\n",
    "data"
   ]
  },
  {
   "cell_type": "markdown",
   "metadata": {},
   "source": [
    "# 1"
   ]
  },
  {
   "cell_type": "code",
   "execution_count": 29,
   "metadata": {},
   "outputs": [
    {
     "data": {
      "text/plain": [
       "<pandas.core.groupby.generic.DataFrameGroupBy object at 0x00000161CF297E60>"
      ]
     },
     "execution_count": 29,
     "metadata": {},
     "output_type": "execute_result"
    }
   ],
   "source": [
    "data_group = data.groupby('Nível 1 - Setor')\n",
    "data_group"
   ]
  },
  {
   "cell_type": "code",
   "execution_count": 31,
   "metadata": {},
   "outputs": [
    {
     "data": {
      "text/plain": [
       "['Agropecuária',\n",
       " 'Energia',\n",
       " 'Mudança de Uso da Terra e Floresta',\n",
       " 'Processos Industriais',\n",
       " 'Resíduos ']"
      ]
     },
     "execution_count": 31,
     "metadata": {},
     "output_type": "execute_result"
    }
   ],
   "source": [
    "list(data_group.groups.keys())"
   ]
  },
  {
   "cell_type": "markdown",
   "metadata": {},
   "source": [
    "# 2"
   ]
  },
  {
   "cell_type": "code",
   "execution_count": null,
   "metadata": {},
   "outputs": [],
   "source": [
    "data_group_agro = data_group.get_group('Agropecuária')\n",
    "data_group_agro"
   ]
  },
  {
   "cell_type": "markdown",
   "metadata": {},
   "source": [
    "# 3"
   ]
  },
  {
   "cell_type": "code",
   "execution_count": 38,
   "metadata": {},
   "outputs": [
    {
     "data": {
      "text/plain": [
       "53082.72594331212"
      ]
     },
     "execution_count": 38,
     "metadata": {},
     "output_type": "execute_result"
    }
   ],
   "source": [
    "data_group_agro.loc[:, 2021].mean()"
   ]
  },
  {
   "cell_type": "code",
   "execution_count": 41,
   "metadata": {},
   "outputs": [
    {
     "data": {
      "text/plain": [
       "75120.04918477515"
      ]
     },
     "execution_count": 41,
     "metadata": {},
     "output_type": "execute_result"
    }
   ],
   "source": [
    "data_group_ener = data_group.get_group('Energia')\n",
    "data_group_ener.loc[:, 2021].mean()"
   ]
  },
  {
   "cell_type": "code",
   "execution_count": 43,
   "metadata": {},
   "outputs": [
    {
     "data": {
      "text/plain": [
       "196843.40513332124"
      ]
     },
     "execution_count": 43,
     "metadata": {},
     "output_type": "execute_result"
    }
   ],
   "source": [
    "data_group_mudan = data_group.get_group('Mudança de Uso da Terra e Floresta')\n",
    "data_group_mudan.loc[:, 2021].mean()"
   ]
  },
  {
   "cell_type": "code",
   "execution_count": 44,
   "metadata": {},
   "outputs": [
    {
     "data": {
      "text/plain": [
       "787101.2557894957"
      ]
     },
     "execution_count": 44,
     "metadata": {},
     "output_type": "execute_result"
    }
   ],
   "source": [
    "data_group_proce = data_group.get_group('Processos Industriais')\n",
    "data_group_proce.loc[:, 2021].mean()"
   ]
  },
  {
   "cell_type": "code",
   "execution_count": 45,
   "metadata": {},
   "outputs": [
    {
     "data": {
      "text/plain": [
       "106106.72338570344"
      ]
     },
     "execution_count": 45,
     "metadata": {},
     "output_type": "execute_result"
    }
   ],
   "source": [
    "data_group_resi = data_group.get_group('Resíduos ')\n",
    "data_group_resi.loc[:, 2021].mean()"
   ]
  },
  {
   "cell_type": "code",
   "execution_count": 53,
   "metadata": {},
   "outputs": [
    {
     "data": {
      "text/plain": [
       "0           897.600\n",
       "1           130.000\n",
       "2          1380.576\n",
       "3           431.430\n",
       "4         40300.000\n",
       "            ...    \n",
       "103307        0.000\n",
       "103308        0.000\n",
       "103309        0.000\n",
       "103310        0.000\n",
       "103311        0.000\n",
       "Name: 2021, Length: 103312, dtype: float64"
      ]
     },
     "execution_count": 53,
     "metadata": {},
     "output_type": "execute_result"
    }
   ],
   "source": [
    "data.loc[:, 2021]"
   ]
  },
  {
   "cell_type": "markdown",
   "metadata": {},
   "source": [
    "# 4"
   ]
  },
  {
   "cell_type": "code",
   "execution_count": 50,
   "metadata": {},
   "outputs": [
    {
     "data": {
      "text/plain": [
       "Nível 1 - Setor\n",
       "Agropecuária                          AGRAGRAGRAGRAGRAGRAGRAGRAGRAGRAGRAGRAGRAGRAGRA...\n",
       "Energia                               AGROPECAGROPECAGROPECAGROPECAGROPECAGROPECAGRO...\n",
       "Mudança de Uso da Terra e Floresta    AGROPECAGROPECAGROPECAGROPECAGROPECAGROPECAGRO...\n",
       "Processos Industriais                 OUTRA_INDOUTRA_INDOUTRA_INDOUTRA_INDOUTRA_INDO...\n",
       "Resíduos                              OUTRA_INDOUTRA_INDOUTRA_INDOUTRA_INDOUTRA_INDO...\n",
       "Name: Atividade Econômica, dtype: object"
      ]
     },
     "execution_count": 50,
     "metadata": {},
     "output_type": "execute_result"
    }
   ],
   "source": [
    "data_group[''].sum()"
   ]
  },
  {
   "cell_type": "code",
   "execution_count": null,
   "metadata": {},
   "outputs": [],
   "source": []
  }
 ],
 "metadata": {
  "kernelspec": {
   "display_name": "Python 3",
   "language": "python",
   "name": "python3"
  },
  "language_info": {
   "codemirror_mode": {
    "name": "ipython",
    "version": 3
   },
   "file_extension": ".py",
   "mimetype": "text/x-python",
   "name": "python",
   "nbconvert_exporter": "python",
   "pygments_lexer": "ipython3",
   "version": "3.12.2"
  }
 },
 "nbformat": 4,
 "nbformat_minor": 2
}
