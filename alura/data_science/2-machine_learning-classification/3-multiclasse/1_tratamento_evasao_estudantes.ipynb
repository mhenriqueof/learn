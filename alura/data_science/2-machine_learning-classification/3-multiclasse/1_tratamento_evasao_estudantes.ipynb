{
 "cells": [
  {
   "cell_type": "code",
   "execution_count": 1,
   "metadata": {},
   "outputs": [],
   "source": [
    "import pandas as pd"
   ]
  },
  {
   "cell_type": "code",
   "execution_count": 2,
   "metadata": {},
   "outputs": [
    {
     "data": {
      "text/html": [
       "<div>\n",
       "<style scoped>\n",
       "    .dataframe tbody tr th:only-of-type {\n",
       "        vertical-align: middle;\n",
       "    }\n",
       "\n",
       "    .dataframe tbody tr th {\n",
       "        vertical-align: top;\n",
       "    }\n",
       "\n",
       "    .dataframe thead th {\n",
       "        text-align: right;\n",
       "    }\n",
       "</style>\n",
       "<table border=\"1\" class=\"dataframe\">\n",
       "  <thead>\n",
       "    <tr style=\"text-align: right;\">\n",
       "      <th></th>\n",
       "      <th>Estado civil</th>\n",
       "      <th>Migração</th>\n",
       "      <th>Sexo</th>\n",
       "      <th>Idade na matrícula</th>\n",
       "      <th>Estrangeiro</th>\n",
       "      <th>Necessidades educacionais especiais</th>\n",
       "      <th>Devedor</th>\n",
       "      <th>Taxas de matrícula em dia</th>\n",
       "      <th>Bolsista</th>\n",
       "      <th>Taxa de desemprego</th>\n",
       "      <th>...</th>\n",
       "      <th>disciplinas 1º semestre (aprovadas)</th>\n",
       "      <th>disciplinas 1º semestre (notas)</th>\n",
       "      <th>disciplinas 1º semestre (sem avaliações)</th>\n",
       "      <th>disciplinas 2º semestre (creditadas)</th>\n",
       "      <th>disciplinas 2º semestre (matriculadas)</th>\n",
       "      <th>disciplinas 2º semestre (avaliações)</th>\n",
       "      <th>disciplinas 2º semestre (aprovadas)</th>\n",
       "      <th>disciplinas 2º semestre (notas)</th>\n",
       "      <th>disciplinas 2º semestre (sem avaliações)</th>\n",
       "      <th>Target</th>\n",
       "    </tr>\n",
       "  </thead>\n",
       "  <tbody>\n",
       "    <tr>\n",
       "      <th>0</th>\n",
       "      <td>Solteiro</td>\n",
       "      <td>Sim</td>\n",
       "      <td>Masculino</td>\n",
       "      <td>20</td>\n",
       "      <td>Não</td>\n",
       "      <td>Não</td>\n",
       "      <td>Não</td>\n",
       "      <td>Sim</td>\n",
       "      <td>Não</td>\n",
       "      <td>10.8</td>\n",
       "      <td>...</td>\n",
       "      <td>0</td>\n",
       "      <td>0.000000</td>\n",
       "      <td>0</td>\n",
       "      <td>0</td>\n",
       "      <td>0</td>\n",
       "      <td>0</td>\n",
       "      <td>0</td>\n",
       "      <td>0.000000</td>\n",
       "      <td>0</td>\n",
       "      <td>Desistente</td>\n",
       "    </tr>\n",
       "    <tr>\n",
       "      <th>1</th>\n",
       "      <td>Solteiro</td>\n",
       "      <td>Sim</td>\n",
       "      <td>Masculino</td>\n",
       "      <td>19</td>\n",
       "      <td>Não</td>\n",
       "      <td>Não</td>\n",
       "      <td>Não</td>\n",
       "      <td>Não</td>\n",
       "      <td>Não</td>\n",
       "      <td>13.9</td>\n",
       "      <td>...</td>\n",
       "      <td>6</td>\n",
       "      <td>14.000000</td>\n",
       "      <td>0</td>\n",
       "      <td>0</td>\n",
       "      <td>6</td>\n",
       "      <td>6</td>\n",
       "      <td>6</td>\n",
       "      <td>13.666667</td>\n",
       "      <td>0</td>\n",
       "      <td>Graduado</td>\n",
       "    </tr>\n",
       "    <tr>\n",
       "      <th>2</th>\n",
       "      <td>Solteiro</td>\n",
       "      <td>Sim</td>\n",
       "      <td>Masculino</td>\n",
       "      <td>19</td>\n",
       "      <td>Não</td>\n",
       "      <td>Não</td>\n",
       "      <td>Não</td>\n",
       "      <td>Não</td>\n",
       "      <td>Não</td>\n",
       "      <td>10.8</td>\n",
       "      <td>...</td>\n",
       "      <td>0</td>\n",
       "      <td>0.000000</td>\n",
       "      <td>0</td>\n",
       "      <td>0</td>\n",
       "      <td>6</td>\n",
       "      <td>0</td>\n",
       "      <td>0</td>\n",
       "      <td>0.000000</td>\n",
       "      <td>0</td>\n",
       "      <td>Desistente</td>\n",
       "    </tr>\n",
       "    <tr>\n",
       "      <th>3</th>\n",
       "      <td>Solteiro</td>\n",
       "      <td>Sim</td>\n",
       "      <td>Feminino</td>\n",
       "      <td>20</td>\n",
       "      <td>Não</td>\n",
       "      <td>Não</td>\n",
       "      <td>Não</td>\n",
       "      <td>Sim</td>\n",
       "      <td>Não</td>\n",
       "      <td>9.4</td>\n",
       "      <td>...</td>\n",
       "      <td>6</td>\n",
       "      <td>13.428571</td>\n",
       "      <td>0</td>\n",
       "      <td>0</td>\n",
       "      <td>6</td>\n",
       "      <td>10</td>\n",
       "      <td>5</td>\n",
       "      <td>12.400000</td>\n",
       "      <td>0</td>\n",
       "      <td>Graduado</td>\n",
       "    </tr>\n",
       "    <tr>\n",
       "      <th>4</th>\n",
       "      <td>Casado</td>\n",
       "      <td>Não</td>\n",
       "      <td>Feminino</td>\n",
       "      <td>45</td>\n",
       "      <td>Não</td>\n",
       "      <td>Não</td>\n",
       "      <td>Não</td>\n",
       "      <td>Sim</td>\n",
       "      <td>Não</td>\n",
       "      <td>13.9</td>\n",
       "      <td>...</td>\n",
       "      <td>5</td>\n",
       "      <td>12.333333</td>\n",
       "      <td>0</td>\n",
       "      <td>0</td>\n",
       "      <td>6</td>\n",
       "      <td>6</td>\n",
       "      <td>6</td>\n",
       "      <td>13.000000</td>\n",
       "      <td>0</td>\n",
       "      <td>Graduado</td>\n",
       "    </tr>\n",
       "    <tr>\n",
       "      <th>...</th>\n",
       "      <td>...</td>\n",
       "      <td>...</td>\n",
       "      <td>...</td>\n",
       "      <td>...</td>\n",
       "      <td>...</td>\n",
       "      <td>...</td>\n",
       "      <td>...</td>\n",
       "      <td>...</td>\n",
       "      <td>...</td>\n",
       "      <td>...</td>\n",
       "      <td>...</td>\n",
       "      <td>...</td>\n",
       "      <td>...</td>\n",
       "      <td>...</td>\n",
       "      <td>...</td>\n",
       "      <td>...</td>\n",
       "      <td>...</td>\n",
       "      <td>...</td>\n",
       "      <td>...</td>\n",
       "      <td>...</td>\n",
       "      <td>...</td>\n",
       "    </tr>\n",
       "    <tr>\n",
       "      <th>4419</th>\n",
       "      <td>Solteiro</td>\n",
       "      <td>Não</td>\n",
       "      <td>Masculino</td>\n",
       "      <td>19</td>\n",
       "      <td>Não</td>\n",
       "      <td>Não</td>\n",
       "      <td>Não</td>\n",
       "      <td>Sim</td>\n",
       "      <td>Não</td>\n",
       "      <td>15.5</td>\n",
       "      <td>...</td>\n",
       "      <td>5</td>\n",
       "      <td>13.600000</td>\n",
       "      <td>0</td>\n",
       "      <td>0</td>\n",
       "      <td>6</td>\n",
       "      <td>8</td>\n",
       "      <td>5</td>\n",
       "      <td>12.666667</td>\n",
       "      <td>0</td>\n",
       "      <td>Graduado</td>\n",
       "    </tr>\n",
       "    <tr>\n",
       "      <th>4420</th>\n",
       "      <td>Solteiro</td>\n",
       "      <td>Sim</td>\n",
       "      <td>Feminino</td>\n",
       "      <td>18</td>\n",
       "      <td>Sim</td>\n",
       "      <td>Não</td>\n",
       "      <td>Sim</td>\n",
       "      <td>Não</td>\n",
       "      <td>Não</td>\n",
       "      <td>11.1</td>\n",
       "      <td>...</td>\n",
       "      <td>6</td>\n",
       "      <td>12.000000</td>\n",
       "      <td>0</td>\n",
       "      <td>0</td>\n",
       "      <td>6</td>\n",
       "      <td>6</td>\n",
       "      <td>2</td>\n",
       "      <td>11.000000</td>\n",
       "      <td>0</td>\n",
       "      <td>Desistente</td>\n",
       "    </tr>\n",
       "    <tr>\n",
       "      <th>4421</th>\n",
       "      <td>Solteiro</td>\n",
       "      <td>Sim</td>\n",
       "      <td>Feminino</td>\n",
       "      <td>30</td>\n",
       "      <td>Não</td>\n",
       "      <td>Não</td>\n",
       "      <td>Não</td>\n",
       "      <td>Sim</td>\n",
       "      <td>Sim</td>\n",
       "      <td>13.9</td>\n",
       "      <td>...</td>\n",
       "      <td>7</td>\n",
       "      <td>14.912500</td>\n",
       "      <td>0</td>\n",
       "      <td>0</td>\n",
       "      <td>8</td>\n",
       "      <td>9</td>\n",
       "      <td>1</td>\n",
       "      <td>13.500000</td>\n",
       "      <td>0</td>\n",
       "      <td>Desistente</td>\n",
       "    </tr>\n",
       "    <tr>\n",
       "      <th>4422</th>\n",
       "      <td>Solteiro</td>\n",
       "      <td>Sim</td>\n",
       "      <td>Feminino</td>\n",
       "      <td>20</td>\n",
       "      <td>Não</td>\n",
       "      <td>Não</td>\n",
       "      <td>Não</td>\n",
       "      <td>Sim</td>\n",
       "      <td>Sim</td>\n",
       "      <td>9.4</td>\n",
       "      <td>...</td>\n",
       "      <td>5</td>\n",
       "      <td>13.800000</td>\n",
       "      <td>0</td>\n",
       "      <td>0</td>\n",
       "      <td>5</td>\n",
       "      <td>6</td>\n",
       "      <td>5</td>\n",
       "      <td>12.000000</td>\n",
       "      <td>0</td>\n",
       "      <td>Graduado</td>\n",
       "    </tr>\n",
       "    <tr>\n",
       "      <th>4423</th>\n",
       "      <td>Solteiro</td>\n",
       "      <td>Sim</td>\n",
       "      <td>Feminino</td>\n",
       "      <td>22</td>\n",
       "      <td>Sim</td>\n",
       "      <td>Não</td>\n",
       "      <td>Não</td>\n",
       "      <td>Sim</td>\n",
       "      <td>Não</td>\n",
       "      <td>12.7</td>\n",
       "      <td>...</td>\n",
       "      <td>6</td>\n",
       "      <td>11.666667</td>\n",
       "      <td>0</td>\n",
       "      <td>0</td>\n",
       "      <td>6</td>\n",
       "      <td>6</td>\n",
       "      <td>6</td>\n",
       "      <td>13.000000</td>\n",
       "      <td>0</td>\n",
       "      <td>Graduado</td>\n",
       "    </tr>\n",
       "  </tbody>\n",
       "</table>\n",
       "<p>4424 rows × 28 columns</p>\n",
       "</div>"
      ],
      "text/plain": [
       "     Estado civil Migração       Sexo  Idade na matrícula Estrangeiro  \\\n",
       "0        Solteiro      Sim  Masculino                  20         Não   \n",
       "1        Solteiro      Sim  Masculino                  19         Não   \n",
       "2        Solteiro      Sim  Masculino                  19         Não   \n",
       "3        Solteiro      Sim   Feminino                  20         Não   \n",
       "4          Casado      Não   Feminino                  45         Não   \n",
       "...           ...      ...        ...                 ...         ...   \n",
       "4419     Solteiro      Não  Masculino                  19         Não   \n",
       "4420     Solteiro      Sim   Feminino                  18         Sim   \n",
       "4421     Solteiro      Sim   Feminino                  30         Não   \n",
       "4422     Solteiro      Sim   Feminino                  20         Não   \n",
       "4423     Solteiro      Sim   Feminino                  22         Sim   \n",
       "\n",
       "     Necessidades educacionais especiais Devedor Taxas de matrícula em dia  \\\n",
       "0                                    Não     Não                       Sim   \n",
       "1                                    Não     Não                       Não   \n",
       "2                                    Não     Não                       Não   \n",
       "3                                    Não     Não                       Sim   \n",
       "4                                    Não     Não                       Sim   \n",
       "...                                  ...     ...                       ...   \n",
       "4419                                 Não     Não                       Sim   \n",
       "4420                                 Não     Sim                       Não   \n",
       "4421                                 Não     Não                       Sim   \n",
       "4422                                 Não     Não                       Sim   \n",
       "4423                                 Não     Não                       Sim   \n",
       "\n",
       "     Bolsista  Taxa de desemprego  ...  disciplinas 1º semestre (aprovadas)  \\\n",
       "0         Não                10.8  ...                                    0   \n",
       "1         Não                13.9  ...                                    6   \n",
       "2         Não                10.8  ...                                    0   \n",
       "3         Não                 9.4  ...                                    6   \n",
       "4         Não                13.9  ...                                    5   \n",
       "...       ...                 ...  ...                                  ...   \n",
       "4419      Não                15.5  ...                                    5   \n",
       "4420      Não                11.1  ...                                    6   \n",
       "4421      Sim                13.9  ...                                    7   \n",
       "4422      Sim                 9.4  ...                                    5   \n",
       "4423      Não                12.7  ...                                    6   \n",
       "\n",
       "      disciplinas 1º semestre (notas)  \\\n",
       "0                            0.000000   \n",
       "1                           14.000000   \n",
       "2                            0.000000   \n",
       "3                           13.428571   \n",
       "4                           12.333333   \n",
       "...                               ...   \n",
       "4419                        13.600000   \n",
       "4420                        12.000000   \n",
       "4421                        14.912500   \n",
       "4422                        13.800000   \n",
       "4423                        11.666667   \n",
       "\n",
       "     disciplinas 1º semestre (sem avaliações)  \\\n",
       "0                                           0   \n",
       "1                                           0   \n",
       "2                                           0   \n",
       "3                                           0   \n",
       "4                                           0   \n",
       "...                                       ...   \n",
       "4419                                        0   \n",
       "4420                                        0   \n",
       "4421                                        0   \n",
       "4422                                        0   \n",
       "4423                                        0   \n",
       "\n",
       "     disciplinas 2º semestre (creditadas)  \\\n",
       "0                                       0   \n",
       "1                                       0   \n",
       "2                                       0   \n",
       "3                                       0   \n",
       "4                                       0   \n",
       "...                                   ...   \n",
       "4419                                    0   \n",
       "4420                                    0   \n",
       "4421                                    0   \n",
       "4422                                    0   \n",
       "4423                                    0   \n",
       "\n",
       "     disciplinas 2º semestre (matriculadas)  \\\n",
       "0                                         0   \n",
       "1                                         6   \n",
       "2                                         6   \n",
       "3                                         6   \n",
       "4                                         6   \n",
       "...                                     ...   \n",
       "4419                                      6   \n",
       "4420                                      6   \n",
       "4421                                      8   \n",
       "4422                                      5   \n",
       "4423                                      6   \n",
       "\n",
       "      disciplinas 2º semestre (avaliações)  \\\n",
       "0                                        0   \n",
       "1                                        6   \n",
       "2                                        0   \n",
       "3                                       10   \n",
       "4                                        6   \n",
       "...                                    ...   \n",
       "4419                                     8   \n",
       "4420                                     6   \n",
       "4421                                     9   \n",
       "4422                                     6   \n",
       "4423                                     6   \n",
       "\n",
       "      disciplinas 2º semestre (aprovadas)  disciplinas 2º semestre (notas)  \\\n",
       "0                                       0                         0.000000   \n",
       "1                                       6                        13.666667   \n",
       "2                                       0                         0.000000   \n",
       "3                                       5                        12.400000   \n",
       "4                                       6                        13.000000   \n",
       "...                                   ...                              ...   \n",
       "4419                                    5                        12.666667   \n",
       "4420                                    2                        11.000000   \n",
       "4421                                    1                        13.500000   \n",
       "4422                                    5                        12.000000   \n",
       "4423                                    6                        13.000000   \n",
       "\n",
       "      disciplinas 2º semestre (sem avaliações)      Target  \n",
       "0                                            0  Desistente  \n",
       "1                                            0    Graduado  \n",
       "2                                            0  Desistente  \n",
       "3                                            0    Graduado  \n",
       "4                                            0    Graduado  \n",
       "...                                        ...         ...  \n",
       "4419                                         0    Graduado  \n",
       "4420                                         0  Desistente  \n",
       "4421                                         0  Desistente  \n",
       "4422                                         0    Graduado  \n",
       "4423                                         0    Graduado  \n",
       "\n",
       "[4424 rows x 28 columns]"
      ]
     },
     "execution_count": 2,
     "metadata": {},
     "output_type": "execute_result"
    }
   ],
   "source": [
    "data = pd.read_csv('https://raw.githubusercontent.com/alura-cursos/classificacao_multiclasse/main/Dados/dados_estudantes.csv')\n",
    "data"
   ]
  },
  {
   "cell_type": "markdown",
   "metadata": {},
   "source": [
    "# Conhecendo os dados"
   ]
  },
  {
   "cell_type": "code",
   "execution_count": 3,
   "metadata": {},
   "outputs": [
    {
     "name": "stdout",
     "output_type": "stream",
     "text": [
      "<class 'pandas.core.frame.DataFrame'>\n",
      "RangeIndex: 4424 entries, 0 to 4423\n",
      "Data columns (total 28 columns):\n",
      " #   Column                                    Non-Null Count  Dtype  \n",
      "---  ------                                    --------------  -----  \n",
      " 0   Estado civil                              4424 non-null   object \n",
      " 1   Migração                                  4424 non-null   object \n",
      " 2   Sexo                                      4424 non-null   object \n",
      " 3   Idade na matrícula                        4424 non-null   int64  \n",
      " 4   Estrangeiro                               4424 non-null   object \n",
      " 5   Necessidades educacionais especiais       4424 non-null   object \n",
      " 6   Devedor                                   4424 non-null   object \n",
      " 7   Taxas de matrícula em dia                 4424 non-null   object \n",
      " 8   Bolsista                                  4424 non-null   object \n",
      " 9   Taxa de desemprego                        4424 non-null   float64\n",
      " 10  Taxa de inflação                          4424 non-null   float64\n",
      " 11  PIB                                       4424 non-null   float64\n",
      " 12  Curso                                     4424 non-null   object \n",
      " 13  Período                                   4424 non-null   object \n",
      " 14  Qualificação prévia                       4424 non-null   object \n",
      " 15  disciplinas 1º semestre (creditadas)      4424 non-null   int64  \n",
      " 16  disciplinas 1º semestre (matriculadas)    4424 non-null   int64  \n",
      " 17  disciplinas 1º semestre (avaliações)      4424 non-null   int64  \n",
      " 18  disciplinas 1º semestre (aprovadas)       4424 non-null   int64  \n",
      " 19  disciplinas 1º semestre (notas)           4424 non-null   float64\n",
      " 20  disciplinas 1º semestre (sem avaliações)  4424 non-null   int64  \n",
      " 21  disciplinas 2º semestre (creditadas)      4424 non-null   int64  \n",
      " 22  disciplinas 2º semestre (matriculadas)    4424 non-null   int64  \n",
      " 23  disciplinas 2º semestre (avaliações)      4424 non-null   int64  \n",
      " 24  disciplinas 2º semestre (aprovadas)       4424 non-null   int64  \n",
      " 25  disciplinas 2º semestre (notas)           4424 non-null   float64\n",
      " 26  disciplinas 2º semestre (sem avaliações)  4424 non-null   int64  \n",
      " 27  Target                                    4424 non-null   object \n",
      "dtypes: float64(5), int64(11), object(12)\n",
      "memory usage: 967.9+ KB\n"
     ]
    }
   ],
   "source": [
    "data.info()"
   ]
  },
  {
   "cell_type": "code",
   "execution_count": 4,
   "metadata": {},
   "outputs": [
    {
     "data": {
      "text/html": [
       "<div>\n",
       "<style scoped>\n",
       "    .dataframe tbody tr th:only-of-type {\n",
       "        vertical-align: middle;\n",
       "    }\n",
       "\n",
       "    .dataframe tbody tr th {\n",
       "        vertical-align: top;\n",
       "    }\n",
       "\n",
       "    .dataframe thead th {\n",
       "        text-align: right;\n",
       "    }\n",
       "</style>\n",
       "<table border=\"1\" class=\"dataframe\">\n",
       "  <thead>\n",
       "    <tr style=\"text-align: right;\">\n",
       "      <th></th>\n",
       "      <th>Estado civil</th>\n",
       "      <th>Migração</th>\n",
       "      <th>Sexo</th>\n",
       "      <th>Estrangeiro</th>\n",
       "      <th>Necessidades educacionais especiais</th>\n",
       "      <th>Devedor</th>\n",
       "      <th>Taxas de matrícula em dia</th>\n",
       "      <th>Bolsista</th>\n",
       "      <th>Curso</th>\n",
       "      <th>Período</th>\n",
       "      <th>Qualificação prévia</th>\n",
       "      <th>Target</th>\n",
       "    </tr>\n",
       "  </thead>\n",
       "  <tbody>\n",
       "    <tr>\n",
       "      <th>count</th>\n",
       "      <td>4424</td>\n",
       "      <td>4424</td>\n",
       "      <td>4424</td>\n",
       "      <td>4424</td>\n",
       "      <td>4424</td>\n",
       "      <td>4424</td>\n",
       "      <td>4424</td>\n",
       "      <td>4424</td>\n",
       "      <td>4424</td>\n",
       "      <td>4424</td>\n",
       "      <td>4424</td>\n",
       "      <td>4424</td>\n",
       "    </tr>\n",
       "    <tr>\n",
       "      <th>unique</th>\n",
       "      <td>6</td>\n",
       "      <td>2</td>\n",
       "      <td>2</td>\n",
       "      <td>2</td>\n",
       "      <td>2</td>\n",
       "      <td>2</td>\n",
       "      <td>2</td>\n",
       "      <td>2</td>\n",
       "      <td>17</td>\n",
       "      <td>2</td>\n",
       "      <td>17</td>\n",
       "      <td>3</td>\n",
       "    </tr>\n",
       "    <tr>\n",
       "      <th>top</th>\n",
       "      <td>Solteiro</td>\n",
       "      <td>Sim</td>\n",
       "      <td>Feminino</td>\n",
       "      <td>Não</td>\n",
       "      <td>Não</td>\n",
       "      <td>Não</td>\n",
       "      <td>Sim</td>\n",
       "      <td>Não</td>\n",
       "      <td>Enfermagem</td>\n",
       "      <td>Diurno</td>\n",
       "      <td>Educação secundária</td>\n",
       "      <td>Graduado</td>\n",
       "    </tr>\n",
       "    <tr>\n",
       "      <th>freq</th>\n",
       "      <td>3919</td>\n",
       "      <td>2426</td>\n",
       "      <td>2868</td>\n",
       "      <td>4314</td>\n",
       "      <td>4373</td>\n",
       "      <td>3921</td>\n",
       "      <td>3896</td>\n",
       "      <td>3325</td>\n",
       "      <td>766</td>\n",
       "      <td>3941</td>\n",
       "      <td>3717</td>\n",
       "      <td>2209</td>\n",
       "    </tr>\n",
       "  </tbody>\n",
       "</table>\n",
       "</div>"
      ],
      "text/plain": [
       "       Estado civil Migração      Sexo Estrangeiro  \\\n",
       "count          4424     4424      4424        4424   \n",
       "unique            6        2         2           2   \n",
       "top        Solteiro      Sim  Feminino         Não   \n",
       "freq           3919     2426      2868        4314   \n",
       "\n",
       "       Necessidades educacionais especiais Devedor Taxas de matrícula em dia  \\\n",
       "count                                 4424    4424                      4424   \n",
       "unique                                   2       2                         2   \n",
       "top                                    Não     Não                       Sim   \n",
       "freq                                  4373    3921                      3896   \n",
       "\n",
       "       Bolsista       Curso Período  Qualificação prévia    Target  \n",
       "count      4424        4424    4424                 4424      4424  \n",
       "unique        2          17       2                   17         3  \n",
       "top         Não  Enfermagem  Diurno  Educação secundária  Graduado  \n",
       "freq       3325         766    3941                 3717      2209  "
      ]
     },
     "execution_count": 4,
     "metadata": {},
     "output_type": "execute_result"
    }
   ],
   "source": [
    "colunas_categoricas = ['Estado civil', 'Migração', 'Sexo', 'Estrangeiro', 'Necessidades educacionais especiais', 'Devedor', 'Taxas de matrícula em dia', 'Bolsista', 'Curso', 'Período', 'Qualificação prévia', 'Target']\n",
    "data[colunas_categoricas].describe()"
   ]
  },
  {
   "cell_type": "code",
   "execution_count": 5,
   "metadata": {},
   "outputs": [
    {
     "data": {
      "text/plain": [
       "Target\n",
       "Graduado       2209\n",
       "Desistente     1421\n",
       "Matriculado     794\n",
       "Name: count, dtype: int64"
      ]
     },
     "execution_count": 5,
     "metadata": {},
     "output_type": "execute_result"
    }
   ],
   "source": [
    "data['Target'].value_counts()"
   ]
  },
  {
   "cell_type": "code",
   "execution_count": 6,
   "metadata": {},
   "outputs": [
    {
     "data": {
      "text/html": [
       "<div>\n",
       "<style scoped>\n",
       "    .dataframe tbody tr th:only-of-type {\n",
       "        vertical-align: middle;\n",
       "    }\n",
       "\n",
       "    .dataframe tbody tr th {\n",
       "        vertical-align: top;\n",
       "    }\n",
       "\n",
       "    .dataframe thead th {\n",
       "        text-align: right;\n",
       "    }\n",
       "</style>\n",
       "<table border=\"1\" class=\"dataframe\">\n",
       "  <thead>\n",
       "    <tr style=\"text-align: right;\">\n",
       "      <th></th>\n",
       "      <th>Idade na matrícula</th>\n",
       "      <th>Taxa de desemprego</th>\n",
       "      <th>Taxa de inflação</th>\n",
       "      <th>PIB</th>\n",
       "      <th>disciplinas 1º semestre (creditadas)</th>\n",
       "      <th>disciplinas 1º semestre (matriculadas)</th>\n",
       "      <th>disciplinas 1º semestre (avaliações)</th>\n",
       "      <th>disciplinas 1º semestre (aprovadas)</th>\n",
       "      <th>disciplinas 1º semestre (notas)</th>\n",
       "      <th>disciplinas 1º semestre (sem avaliações)</th>\n",
       "      <th>disciplinas 2º semestre (creditadas)</th>\n",
       "      <th>disciplinas 2º semestre (matriculadas)</th>\n",
       "      <th>disciplinas 2º semestre (avaliações)</th>\n",
       "      <th>disciplinas 2º semestre (aprovadas)</th>\n",
       "      <th>disciplinas 2º semestre (notas)</th>\n",
       "      <th>disciplinas 2º semestre (sem avaliações)</th>\n",
       "    </tr>\n",
       "  </thead>\n",
       "  <tbody>\n",
       "    <tr>\n",
       "      <th>count</th>\n",
       "      <td>4424.000000</td>\n",
       "      <td>4424.000000</td>\n",
       "      <td>4424.000000</td>\n",
       "      <td>4424.000000</td>\n",
       "      <td>4424.000000</td>\n",
       "      <td>4424.000000</td>\n",
       "      <td>4424.000000</td>\n",
       "      <td>4424.000000</td>\n",
       "      <td>4424.000000</td>\n",
       "      <td>4424.000000</td>\n",
       "      <td>4424.000000</td>\n",
       "      <td>4424.000000</td>\n",
       "      <td>4424.000000</td>\n",
       "      <td>4424.000000</td>\n",
       "      <td>4424.000000</td>\n",
       "      <td>4424.000000</td>\n",
       "    </tr>\n",
       "    <tr>\n",
       "      <th>mean</th>\n",
       "      <td>23.265145</td>\n",
       "      <td>11.566139</td>\n",
       "      <td>1.228029</td>\n",
       "      <td>0.001969</td>\n",
       "      <td>0.709991</td>\n",
       "      <td>6.270570</td>\n",
       "      <td>8.299051</td>\n",
       "      <td>4.706600</td>\n",
       "      <td>10.640822</td>\n",
       "      <td>0.137658</td>\n",
       "      <td>0.541817</td>\n",
       "      <td>6.232143</td>\n",
       "      <td>8.063291</td>\n",
       "      <td>4.435805</td>\n",
       "      <td>10.230206</td>\n",
       "      <td>0.150316</td>\n",
       "    </tr>\n",
       "    <tr>\n",
       "      <th>std</th>\n",
       "      <td>7.587816</td>\n",
       "      <td>2.663850</td>\n",
       "      <td>1.382711</td>\n",
       "      <td>2.269935</td>\n",
       "      <td>2.360507</td>\n",
       "      <td>2.480178</td>\n",
       "      <td>4.179106</td>\n",
       "      <td>3.094238</td>\n",
       "      <td>4.843663</td>\n",
       "      <td>0.690880</td>\n",
       "      <td>1.918546</td>\n",
       "      <td>2.195951</td>\n",
       "      <td>3.947951</td>\n",
       "      <td>3.014764</td>\n",
       "      <td>5.210808</td>\n",
       "      <td>0.753774</td>\n",
       "    </tr>\n",
       "    <tr>\n",
       "      <th>min</th>\n",
       "      <td>17.000000</td>\n",
       "      <td>7.600000</td>\n",
       "      <td>-0.800000</td>\n",
       "      <td>-4.060000</td>\n",
       "      <td>0.000000</td>\n",
       "      <td>0.000000</td>\n",
       "      <td>0.000000</td>\n",
       "      <td>0.000000</td>\n",
       "      <td>0.000000</td>\n",
       "      <td>0.000000</td>\n",
       "      <td>0.000000</td>\n",
       "      <td>0.000000</td>\n",
       "      <td>0.000000</td>\n",
       "      <td>0.000000</td>\n",
       "      <td>0.000000</td>\n",
       "      <td>0.000000</td>\n",
       "    </tr>\n",
       "    <tr>\n",
       "      <th>25%</th>\n",
       "      <td>19.000000</td>\n",
       "      <td>9.400000</td>\n",
       "      <td>0.300000</td>\n",
       "      <td>-1.700000</td>\n",
       "      <td>0.000000</td>\n",
       "      <td>5.000000</td>\n",
       "      <td>6.000000</td>\n",
       "      <td>3.000000</td>\n",
       "      <td>11.000000</td>\n",
       "      <td>0.000000</td>\n",
       "      <td>0.000000</td>\n",
       "      <td>5.000000</td>\n",
       "      <td>6.000000</td>\n",
       "      <td>2.000000</td>\n",
       "      <td>10.750000</td>\n",
       "      <td>0.000000</td>\n",
       "    </tr>\n",
       "    <tr>\n",
       "      <th>50%</th>\n",
       "      <td>20.000000</td>\n",
       "      <td>11.100000</td>\n",
       "      <td>1.400000</td>\n",
       "      <td>0.320000</td>\n",
       "      <td>0.000000</td>\n",
       "      <td>6.000000</td>\n",
       "      <td>8.000000</td>\n",
       "      <td>5.000000</td>\n",
       "      <td>12.285714</td>\n",
       "      <td>0.000000</td>\n",
       "      <td>0.000000</td>\n",
       "      <td>6.000000</td>\n",
       "      <td>8.000000</td>\n",
       "      <td>5.000000</td>\n",
       "      <td>12.200000</td>\n",
       "      <td>0.000000</td>\n",
       "    </tr>\n",
       "    <tr>\n",
       "      <th>75%</th>\n",
       "      <td>25.000000</td>\n",
       "      <td>13.900000</td>\n",
       "      <td>2.600000</td>\n",
       "      <td>1.790000</td>\n",
       "      <td>0.000000</td>\n",
       "      <td>7.000000</td>\n",
       "      <td>10.000000</td>\n",
       "      <td>6.000000</td>\n",
       "      <td>13.400000</td>\n",
       "      <td>0.000000</td>\n",
       "      <td>0.000000</td>\n",
       "      <td>7.000000</td>\n",
       "      <td>10.000000</td>\n",
       "      <td>6.000000</td>\n",
       "      <td>13.333333</td>\n",
       "      <td>0.000000</td>\n",
       "    </tr>\n",
       "    <tr>\n",
       "      <th>max</th>\n",
       "      <td>70.000000</td>\n",
       "      <td>16.200000</td>\n",
       "      <td>3.700000</td>\n",
       "      <td>3.510000</td>\n",
       "      <td>20.000000</td>\n",
       "      <td>26.000000</td>\n",
       "      <td>45.000000</td>\n",
       "      <td>26.000000</td>\n",
       "      <td>18.875000</td>\n",
       "      <td>12.000000</td>\n",
       "      <td>19.000000</td>\n",
       "      <td>23.000000</td>\n",
       "      <td>33.000000</td>\n",
       "      <td>20.000000</td>\n",
       "      <td>18.571429</td>\n",
       "      <td>12.000000</td>\n",
       "    </tr>\n",
       "  </tbody>\n",
       "</table>\n",
       "</div>"
      ],
      "text/plain": [
       "       Idade na matrícula  Taxa de desemprego  Taxa de inflação          PIB  \\\n",
       "count         4424.000000         4424.000000       4424.000000  4424.000000   \n",
       "mean            23.265145           11.566139          1.228029     0.001969   \n",
       "std              7.587816            2.663850          1.382711     2.269935   \n",
       "min             17.000000            7.600000         -0.800000    -4.060000   \n",
       "25%             19.000000            9.400000          0.300000    -1.700000   \n",
       "50%             20.000000           11.100000          1.400000     0.320000   \n",
       "75%             25.000000           13.900000          2.600000     1.790000   \n",
       "max             70.000000           16.200000          3.700000     3.510000   \n",
       "\n",
       "       disciplinas 1º semestre (creditadas)  \\\n",
       "count                           4424.000000   \n",
       "mean                               0.709991   \n",
       "std                                2.360507   \n",
       "min                                0.000000   \n",
       "25%                                0.000000   \n",
       "50%                                0.000000   \n",
       "75%                                0.000000   \n",
       "max                               20.000000   \n",
       "\n",
       "       disciplinas 1º semestre (matriculadas)  \\\n",
       "count                             4424.000000   \n",
       "mean                                 6.270570   \n",
       "std                                  2.480178   \n",
       "min                                  0.000000   \n",
       "25%                                  5.000000   \n",
       "50%                                  6.000000   \n",
       "75%                                  7.000000   \n",
       "max                                 26.000000   \n",
       "\n",
       "       disciplinas 1º semestre (avaliações)  \\\n",
       "count                           4424.000000   \n",
       "mean                               8.299051   \n",
       "std                                4.179106   \n",
       "min                                0.000000   \n",
       "25%                                6.000000   \n",
       "50%                                8.000000   \n",
       "75%                               10.000000   \n",
       "max                               45.000000   \n",
       "\n",
       "       disciplinas 1º semestre (aprovadas)  disciplinas 1º semestre (notas)  \\\n",
       "count                          4424.000000                      4424.000000   \n",
       "mean                              4.706600                        10.640822   \n",
       "std                               3.094238                         4.843663   \n",
       "min                               0.000000                         0.000000   \n",
       "25%                               3.000000                        11.000000   \n",
       "50%                               5.000000                        12.285714   \n",
       "75%                               6.000000                        13.400000   \n",
       "max                              26.000000                        18.875000   \n",
       "\n",
       "       disciplinas 1º semestre (sem avaliações)  \\\n",
       "count                               4424.000000   \n",
       "mean                                   0.137658   \n",
       "std                                    0.690880   \n",
       "min                                    0.000000   \n",
       "25%                                    0.000000   \n",
       "50%                                    0.000000   \n",
       "75%                                    0.000000   \n",
       "max                                   12.000000   \n",
       "\n",
       "       disciplinas 2º semestre (creditadas)  \\\n",
       "count                           4424.000000   \n",
       "mean                               0.541817   \n",
       "std                                1.918546   \n",
       "min                                0.000000   \n",
       "25%                                0.000000   \n",
       "50%                                0.000000   \n",
       "75%                                0.000000   \n",
       "max                               19.000000   \n",
       "\n",
       "       disciplinas 2º semestre (matriculadas)  \\\n",
       "count                             4424.000000   \n",
       "mean                                 6.232143   \n",
       "std                                  2.195951   \n",
       "min                                  0.000000   \n",
       "25%                                  5.000000   \n",
       "50%                                  6.000000   \n",
       "75%                                  7.000000   \n",
       "max                                 23.000000   \n",
       "\n",
       "       disciplinas 2º semestre (avaliações)  \\\n",
       "count                           4424.000000   \n",
       "mean                               8.063291   \n",
       "std                                3.947951   \n",
       "min                                0.000000   \n",
       "25%                                6.000000   \n",
       "50%                                8.000000   \n",
       "75%                               10.000000   \n",
       "max                               33.000000   \n",
       "\n",
       "       disciplinas 2º semestre (aprovadas)  disciplinas 2º semestre (notas)  \\\n",
       "count                          4424.000000                      4424.000000   \n",
       "mean                              4.435805                        10.230206   \n",
       "std                               3.014764                         5.210808   \n",
       "min                               0.000000                         0.000000   \n",
       "25%                               2.000000                        10.750000   \n",
       "50%                               5.000000                        12.200000   \n",
       "75%                               6.000000                        13.333333   \n",
       "max                              20.000000                        18.571429   \n",
       "\n",
       "       disciplinas 2º semestre (sem avaliações)  \n",
       "count                               4424.000000  \n",
       "mean                                   0.150316  \n",
       "std                                    0.753774  \n",
       "min                                    0.000000  \n",
       "25%                                    0.000000  \n",
       "50%                                    0.000000  \n",
       "75%                                    0.000000  \n",
       "max                                   12.000000  "
      ]
     },
     "execution_count": 6,
     "metadata": {},
     "output_type": "execute_result"
    }
   ],
   "source": [
    "data.describe()"
   ]
  },
  {
   "cell_type": "markdown",
   "metadata": {},
   "source": [
    "# Explorando os dados"
   ]
  },
  {
   "cell_type": "code",
   "execution_count": 7,
   "metadata": {},
   "outputs": [
    {
     "data": {
      "text/plain": [
       "Estado civil\n",
       "Solteiro               88.584991\n",
       "Casado                  8.566908\n",
       "Divorciado              2.056962\n",
       "União Estável           0.565099\n",
       "Legalmente Separado     0.135624\n",
       "Viúvo                   0.090416\n",
       "Name: proportion, dtype: float64"
      ]
     },
     "execution_count": 7,
     "metadata": {},
     "output_type": "execute_result"
    }
   ],
   "source": [
    "data['Estado civil'].value_counts(normalize=True) * 100"
   ]
  },
  {
   "cell_type": "code",
   "execution_count": 8,
   "metadata": {},
   "outputs": [],
   "source": [
    "import matplotlib.pyplot as plt\n",
    "import seaborn as sns"
   ]
  },
  {
   "cell_type": "code",
   "execution_count": 9,
   "metadata": {},
   "outputs": [
    {
     "data": {
      "image/png": "[encoded data removed]",
      "text/plain": [
       "<Figure size 640x480 with 1 Axes>"
      ]
     },
     "metadata": {},
     "output_type": "display_data"
    }
   ],
   "source": [
    "sns.histplot(data['Idade na matrícula'], bins=20)\n",
    "plt.show()"
   ]
  },
  {
   "cell_type": "code",
   "execution_count": 10,
   "metadata": {},
   "outputs": [
    {
     "data": {
      "image/png": "[encoded data removed]",
      "text/plain": [
       "<Figure size 632x500 with 1 Axes>"
      ]
     },
     "metadata": {},
     "output_type": "display_data"
    }
   ],
   "source": [
    "color_dict = {'Desistente': '#e34c42', 'Graduado': '#4dc471', 'Matriculado': '#3b71db'}\n",
    "sns.set_palette(list(color_dict.values()))\n",
    "sns.displot(data, x='Idade na matrícula', hue='Target', kind='kde')\n",
    "plt.show()"
   ]
  },
  {
   "cell_type": "code",
   "execution_count": 11,
   "metadata": {},
   "outputs": [
    {
     "data": {
      "text/plain": [
       "['#e34c42', '#4dc471', '#3b71db']"
      ]
     },
     "execution_count": 11,
     "metadata": {},
     "output_type": "execute_result"
    }
   ],
   "source": [
    "list(color_dict.values())"
   ]
  },
  {
   "cell_type": "code",
   "execution_count": 12,
   "metadata": {},
   "outputs": [
    {
     "data": {
      "text/plain": [
       "Estrangeiro\n",
       "Não    97.513562\n",
       "Sim     2.486438\n",
       "Name: proportion, dtype: float64"
      ]
     },
     "execution_count": 12,
     "metadata": {},
     "output_type": "execute_result"
    }
   ],
   "source": [
    "data['Estrangeiro'].value_counts(normalize=True) * 100"
   ]
  },
  {
   "cell_type": "code",
   "execution_count": 13,
   "metadata": {},
   "outputs": [
    {
     "data": {
      "text/plain": [
       "Sexo\n",
       "Feminino     64.82821\n",
       "Masculino    35.17179\n",
       "Name: proportion, dtype: float64"
      ]
     },
     "execution_count": 13,
     "metadata": {},
     "output_type": "execute_result"
    }
   ],
   "source": [
    "data['Sexo'].value_counts(normalize=True) * 100"
   ]
  },
  {
   "cell_type": "code",
   "execution_count": 14,
   "metadata": {},
   "outputs": [
    {
     "data": {
      "text/plain": [
       "<Axes: xlabel='Sexo', ylabel='count'>"
      ]
     },
     "execution_count": 14,
     "metadata": {},
     "output_type": "execute_result"
    },
    {
     "data": {
      "image/png": "[encoded data removed]",
      "text/plain": [
       "<Figure size 640x480 with 1 Axes>"
      ]
     },
     "metadata": {},
     "output_type": "display_data"
    }
   ],
   "source": [
    "sns.countplot(data, x='Sexo', hue='Target')"
   ]
  },
  {
   "cell_type": "code",
   "execution_count": 15,
   "metadata": {},
   "outputs": [
    {
     "data": {
      "text/plain": [
       "<Axes: xlabel='Devedor', ylabel='count'>"
      ]
     },
     "execution_count": 15,
     "metadata": {},
     "output_type": "execute_result"
    },
    {
     "data": {
      "image/png": "[encoded data removed]",
      "text/plain": [
       "<Figure size 640x480 with 1 Axes>"
      ]
     },
     "metadata": {},
     "output_type": "display_data"
    }
   ],
   "source": [
    "sns.countplot(data, x='Devedor', hue='Target')"
   ]
  },
  {
   "cell_type": "code",
   "execution_count": 16,
   "metadata": {},
   "outputs": [
    {
     "data": {
      "image/png": "[encoded data removed]",
      "text/plain": [
       "<Figure size 640x480 with 1 Axes>"
      ]
     },
     "metadata": {},
     "output_type": "display_data"
    }
   ],
   "source": [
    "sns.countplot(data, x='Taxas de matrícula em dia', hue='Target');"
   ]
  },
  {
   "cell_type": "code",
   "execution_count": 17,
   "metadata": {},
   "outputs": [
    {
     "data": {
      "image/png": "[encoded data removed]",
      "text/plain": [
       "<Figure size 640x480 with 1 Axes>"
      ]
     },
     "metadata": {},
     "output_type": "display_data"
    }
   ],
   "source": [
    "sns.countplot(data, x='Bolsista', hue='Target');"
   ]
  },
  {
   "cell_type": "code",
   "execution_count": 18,
   "metadata": {},
   "outputs": [],
   "source": [
    "import plotly.express as px"
   ]
  },
  {
   "cell_type": "code",
   "execution_count": 19,
   "metadata": {},
   "outputs": [
    {
     "data": {
      "text/html": [
       "<div>\n",
       "<style scoped>\n",
       "    .dataframe tbody tr th:only-of-type {\n",
       "        vertical-align: middle;\n",
       "    }\n",
       "\n",
       "    .dataframe tbody tr th {\n",
       "        vertical-align: top;\n",
       "    }\n",
       "\n",
       "    .dataframe thead th {\n",
       "        text-align: right;\n",
       "    }\n",
       "</style>\n",
       "<table border=\"1\" class=\"dataframe\">\n",
       "  <thead>\n",
       "    <tr style=\"text-align: right;\">\n",
       "      <th></th>\n",
       "      <th>Curso</th>\n",
       "      <th>Target</th>\n",
       "      <th>Contagem</th>\n",
       "    </tr>\n",
       "  </thead>\n",
       "  <tbody>\n",
       "    <tr>\n",
       "      <th>0</th>\n",
       "      <td>Agronomia</td>\n",
       "      <td>Desistente</td>\n",
       "      <td>86</td>\n",
       "    </tr>\n",
       "    <tr>\n",
       "      <th>1</th>\n",
       "      <td>Agronomia</td>\n",
       "      <td>Graduado</td>\n",
       "      <td>87</td>\n",
       "    </tr>\n",
       "    <tr>\n",
       "      <th>2</th>\n",
       "      <td>Agronomia</td>\n",
       "      <td>Matriculado</td>\n",
       "      <td>37</td>\n",
       "    </tr>\n",
       "    <tr>\n",
       "      <th>3</th>\n",
       "      <td>Animação e Design Multimídia</td>\n",
       "      <td>Desistente</td>\n",
       "      <td>82</td>\n",
       "    </tr>\n",
       "    <tr>\n",
       "      <th>4</th>\n",
       "      <td>Animação e Design Multimídia</td>\n",
       "      <td>Graduado</td>\n",
       "      <td>96</td>\n",
       "    </tr>\n",
       "    <tr>\n",
       "      <th>5</th>\n",
       "      <td>Animação e Design Multimídia</td>\n",
       "      <td>Matriculado</td>\n",
       "      <td>37</td>\n",
       "    </tr>\n",
       "    <tr>\n",
       "      <th>6</th>\n",
       "      <td>Design de Comunicação</td>\n",
       "      <td>Desistente</td>\n",
       "      <td>51</td>\n",
       "    </tr>\n",
       "    <tr>\n",
       "      <th>7</th>\n",
       "      <td>Design de Comunicação</td>\n",
       "      <td>Graduado</td>\n",
       "      <td>133</td>\n",
       "    </tr>\n",
       "    <tr>\n",
       "      <th>8</th>\n",
       "      <td>Design de Comunicação</td>\n",
       "      <td>Matriculado</td>\n",
       "      <td>42</td>\n",
       "    </tr>\n",
       "    <tr>\n",
       "      <th>9</th>\n",
       "      <td>Educação Básica</td>\n",
       "      <td>Desistente</td>\n",
       "      <td>85</td>\n",
       "    </tr>\n",
       "    <tr>\n",
       "      <th>10</th>\n",
       "      <td>Educação Básica</td>\n",
       "      <td>Graduado</td>\n",
       "      <td>57</td>\n",
       "    </tr>\n",
       "    <tr>\n",
       "      <th>11</th>\n",
       "      <td>Educação Básica</td>\n",
       "      <td>Matriculado</td>\n",
       "      <td>50</td>\n",
       "    </tr>\n",
       "    <tr>\n",
       "      <th>12</th>\n",
       "      <td>Enfermagem</td>\n",
       "      <td>Desistente</td>\n",
       "      <td>118</td>\n",
       "    </tr>\n",
       "    <tr>\n",
       "      <th>13</th>\n",
       "      <td>Enfermagem</td>\n",
       "      <td>Graduado</td>\n",
       "      <td>548</td>\n",
       "    </tr>\n",
       "    <tr>\n",
       "      <th>14</th>\n",
       "      <td>Enfermagem</td>\n",
       "      <td>Matriculado</td>\n",
       "      <td>100</td>\n",
       "    </tr>\n",
       "    <tr>\n",
       "      <th>15</th>\n",
       "      <td>Enfermagem Veterinária</td>\n",
       "      <td>Desistente</td>\n",
       "      <td>90</td>\n",
       "    </tr>\n",
       "    <tr>\n",
       "      <th>16</th>\n",
       "      <td>Enfermagem Veterinária</td>\n",
       "      <td>Graduado</td>\n",
       "      <td>172</td>\n",
       "    </tr>\n",
       "    <tr>\n",
       "      <th>17</th>\n",
       "      <td>Enfermagem Veterinária</td>\n",
       "      <td>Matriculado</td>\n",
       "      <td>75</td>\n",
       "    </tr>\n",
       "    <tr>\n",
       "      <th>18</th>\n",
       "      <td>Engenharia da computação</td>\n",
       "      <td>Desistente</td>\n",
       "      <td>92</td>\n",
       "    </tr>\n",
       "    <tr>\n",
       "      <th>19</th>\n",
       "      <td>Engenharia da computação</td>\n",
       "      <td>Graduado</td>\n",
       "      <td>14</td>\n",
       "    </tr>\n",
       "    <tr>\n",
       "      <th>20</th>\n",
       "      <td>Engenharia da computação</td>\n",
       "      <td>Matriculado</td>\n",
       "      <td>64</td>\n",
       "    </tr>\n",
       "    <tr>\n",
       "      <th>21</th>\n",
       "      <td>Gestão</td>\n",
       "      <td>Desistente</td>\n",
       "      <td>134</td>\n",
       "    </tr>\n",
       "    <tr>\n",
       "      <th>22</th>\n",
       "      <td>Gestão</td>\n",
       "      <td>Graduado</td>\n",
       "      <td>138</td>\n",
       "    </tr>\n",
       "    <tr>\n",
       "      <th>23</th>\n",
       "      <td>Gestão</td>\n",
       "      <td>Matriculado</td>\n",
       "      <td>108</td>\n",
       "    </tr>\n",
       "    <tr>\n",
       "      <th>24</th>\n",
       "      <td>Gestão (noturno)</td>\n",
       "      <td>Desistente</td>\n",
       "      <td>136</td>\n",
       "    </tr>\n",
       "    <tr>\n",
       "      <th>25</th>\n",
       "      <td>Gestão (noturno)</td>\n",
       "      <td>Graduado</td>\n",
       "      <td>78</td>\n",
       "    </tr>\n",
       "    <tr>\n",
       "      <th>26</th>\n",
       "      <td>Gestão (noturno)</td>\n",
       "      <td>Matriculado</td>\n",
       "      <td>54</td>\n",
       "    </tr>\n",
       "    <tr>\n",
       "      <th>27</th>\n",
       "      <td>Gestão de Publicidade e Marketing</td>\n",
       "      <td>Desistente</td>\n",
       "      <td>95</td>\n",
       "    </tr>\n",
       "    <tr>\n",
       "      <th>28</th>\n",
       "      <td>Gestão de Publicidade e Marketing</td>\n",
       "      <td>Graduado</td>\n",
       "      <td>125</td>\n",
       "    </tr>\n",
       "    <tr>\n",
       "      <th>29</th>\n",
       "      <td>Gestão de Publicidade e Marketing</td>\n",
       "      <td>Matriculado</td>\n",
       "      <td>48</td>\n",
       "    </tr>\n",
       "    <tr>\n",
       "      <th>30</th>\n",
       "      <td>Jornalismo e Comunicação</td>\n",
       "      <td>Desistente</td>\n",
       "      <td>101</td>\n",
       "    </tr>\n",
       "    <tr>\n",
       "      <th>31</th>\n",
       "      <td>Jornalismo e Comunicação</td>\n",
       "      <td>Graduado</td>\n",
       "      <td>196</td>\n",
       "    </tr>\n",
       "    <tr>\n",
       "      <th>32</th>\n",
       "      <td>Jornalismo e Comunicação</td>\n",
       "      <td>Matriculado</td>\n",
       "      <td>34</td>\n",
       "    </tr>\n",
       "    <tr>\n",
       "      <th>33</th>\n",
       "      <td>Odontologia</td>\n",
       "      <td>Desistente</td>\n",
       "      <td>33</td>\n",
       "    </tr>\n",
       "    <tr>\n",
       "      <th>34</th>\n",
       "      <td>Odontologia</td>\n",
       "      <td>Graduado</td>\n",
       "      <td>36</td>\n",
       "    </tr>\n",
       "    <tr>\n",
       "      <th>35</th>\n",
       "      <td>Odontologia</td>\n",
       "      <td>Matriculado</td>\n",
       "      <td>17</td>\n",
       "    </tr>\n",
       "    <tr>\n",
       "      <th>36</th>\n",
       "      <td>Serviço Social</td>\n",
       "      <td>Desistente</td>\n",
       "      <td>65</td>\n",
       "    </tr>\n",
       "    <tr>\n",
       "      <th>37</th>\n",
       "      <td>Serviço Social</td>\n",
       "      <td>Graduado</td>\n",
       "      <td>248</td>\n",
       "    </tr>\n",
       "    <tr>\n",
       "      <th>38</th>\n",
       "      <td>Serviço Social</td>\n",
       "      <td>Matriculado</td>\n",
       "      <td>42</td>\n",
       "    </tr>\n",
       "    <tr>\n",
       "      <th>39</th>\n",
       "      <td>Serviço Social (noturno)</td>\n",
       "      <td>Desistente</td>\n",
       "      <td>71</td>\n",
       "    </tr>\n",
       "    <tr>\n",
       "      <th>40</th>\n",
       "      <td>Serviço Social (noturno)</td>\n",
       "      <td>Graduado</td>\n",
       "      <td>123</td>\n",
       "    </tr>\n",
       "    <tr>\n",
       "      <th>41</th>\n",
       "      <td>Serviço Social (noturno)</td>\n",
       "      <td>Matriculado</td>\n",
       "      <td>21</td>\n",
       "    </tr>\n",
       "    <tr>\n",
       "      <th>42</th>\n",
       "      <td>Tecnologias de Produção de Biocombustíveis</td>\n",
       "      <td>Desistente</td>\n",
       "      <td>8</td>\n",
       "    </tr>\n",
       "    <tr>\n",
       "      <th>43</th>\n",
       "      <td>Tecnologias de Produção de Biocombustíveis</td>\n",
       "      <td>Graduado</td>\n",
       "      <td>1</td>\n",
       "    </tr>\n",
       "    <tr>\n",
       "      <th>44</th>\n",
       "      <td>Tecnologias de Produção de Biocombustíveis</td>\n",
       "      <td>Matriculado</td>\n",
       "      <td>3</td>\n",
       "    </tr>\n",
       "    <tr>\n",
       "      <th>45</th>\n",
       "      <td>Turismo</td>\n",
       "      <td>Desistente</td>\n",
       "      <td>96</td>\n",
       "    </tr>\n",
       "    <tr>\n",
       "      <th>46</th>\n",
       "      <td>Turismo</td>\n",
       "      <td>Graduado</td>\n",
       "      <td>115</td>\n",
       "    </tr>\n",
       "    <tr>\n",
       "      <th>47</th>\n",
       "      <td>Turismo</td>\n",
       "      <td>Matriculado</td>\n",
       "      <td>41</td>\n",
       "    </tr>\n",
       "    <tr>\n",
       "      <th>48</th>\n",
       "      <td>Zootecnia</td>\n",
       "      <td>Desistente</td>\n",
       "      <td>78</td>\n",
       "    </tr>\n",
       "    <tr>\n",
       "      <th>49</th>\n",
       "      <td>Zootecnia</td>\n",
       "      <td>Graduado</td>\n",
       "      <td>42</td>\n",
       "    </tr>\n",
       "    <tr>\n",
       "      <th>50</th>\n",
       "      <td>Zootecnia</td>\n",
       "      <td>Matriculado</td>\n",
       "      <td>21</td>\n",
       "    </tr>\n",
       "  </tbody>\n",
       "</table>\n",
       "</div>"
      ],
      "text/plain": [
       "                                         Curso       Target  Contagem\n",
       "0                                    Agronomia   Desistente        86\n",
       "1                                    Agronomia     Graduado        87\n",
       "2                                    Agronomia  Matriculado        37\n",
       "3                 Animação e Design Multimídia   Desistente        82\n",
       "4                 Animação e Design Multimídia     Graduado        96\n",
       "5                 Animação e Design Multimídia  Matriculado        37\n",
       "6                        Design de Comunicação   Desistente        51\n",
       "7                        Design de Comunicação     Graduado       133\n",
       "8                        Design de Comunicação  Matriculado        42\n",
       "9                              Educação Básica   Desistente        85\n",
       "10                             Educação Básica     Graduado        57\n",
       "11                             Educação Básica  Matriculado        50\n",
       "12                                  Enfermagem   Desistente       118\n",
       "13                                  Enfermagem     Graduado       548\n",
       "14                                  Enfermagem  Matriculado       100\n",
       "15                      Enfermagem Veterinária   Desistente        90\n",
       "16                      Enfermagem Veterinária     Graduado       172\n",
       "17                      Enfermagem Veterinária  Matriculado        75\n",
       "18                    Engenharia da computação   Desistente        92\n",
       "19                    Engenharia da computação     Graduado        14\n",
       "20                    Engenharia da computação  Matriculado        64\n",
       "21                                      Gestão   Desistente       134\n",
       "22                                      Gestão     Graduado       138\n",
       "23                                      Gestão  Matriculado       108\n",
       "24                            Gestão (noturno)   Desistente       136\n",
       "25                            Gestão (noturno)     Graduado        78\n",
       "26                            Gestão (noturno)  Matriculado        54\n",
       "27           Gestão de Publicidade e Marketing   Desistente        95\n",
       "28           Gestão de Publicidade e Marketing     Graduado       125\n",
       "29           Gestão de Publicidade e Marketing  Matriculado        48\n",
       "30                    Jornalismo e Comunicação   Desistente       101\n",
       "31                    Jornalismo e Comunicação     Graduado       196\n",
       "32                    Jornalismo e Comunicação  Matriculado        34\n",
       "33                                 Odontologia   Desistente        33\n",
       "34                                 Odontologia     Graduado        36\n",
       "35                                 Odontologia  Matriculado        17\n",
       "36                              Serviço Social   Desistente        65\n",
       "37                              Serviço Social     Graduado       248\n",
       "38                              Serviço Social  Matriculado        42\n",
       "39                    Serviço Social (noturno)   Desistente        71\n",
       "40                    Serviço Social (noturno)     Graduado       123\n",
       "41                    Serviço Social (noturno)  Matriculado        21\n",
       "42  Tecnologias de Produção de Biocombustíveis   Desistente         8\n",
       "43  Tecnologias de Produção de Biocombustíveis     Graduado         1\n",
       "44  Tecnologias de Produção de Biocombustíveis  Matriculado         3\n",
       "45                                     Turismo   Desistente        96\n",
       "46                                     Turismo     Graduado       115\n",
       "47                                     Turismo  Matriculado        41\n",
       "48                                   Zootecnia   Desistente        78\n",
       "49                                   Zootecnia     Graduado        42\n",
       "50                                   Zootecnia  Matriculado        21"
      ]
     },
     "execution_count": 19,
     "metadata": {},
     "output_type": "execute_result"
    }
   ],
   "source": [
    "contagem = data.groupby(['Curso', 'Target']).size().reset_index(name='Contagem')\n",
    "contagem"
   ]
  },
  {
   "cell_type": "code",
   "execution_count": 20,
   "metadata": {},
   "outputs": [
    {
     "data": {
      "text/plain": [
       "4424"
      ]
     },
     "execution_count": 20,
     "metadata": {},
     "output_type": "execute_result"
    }
   ],
   "source": [
    "sum(contagem['Contagem'])"
   ]
  },
  {
   "cell_type": "code",
   "execution_count": 21,
   "metadata": {},
   "outputs": [],
   "source": [
    "contagem['Porcentagem'] = contagem.groupby('Curso')['Contagem'].transform(lambda x: (x / x.sum()) * 100)"
   ]
  },
  {
   "cell_type": "code",
   "execution_count": 22,
   "metadata": {},
   "outputs": [
    {
     "data": {
      "text/html": [
       "<div>\n",
       "<style scoped>\n",
       "    .dataframe tbody tr th:only-of-type {\n",
       "        vertical-align: middle;\n",
       "    }\n",
       "\n",
       "    .dataframe tbody tr th {\n",
       "        vertical-align: top;\n",
       "    }\n",
       "\n",
       "    .dataframe thead th {\n",
       "        text-align: right;\n",
       "    }\n",
       "</style>\n",
       "<table border=\"1\" class=\"dataframe\">\n",
       "  <thead>\n",
       "    <tr style=\"text-align: right;\">\n",
       "      <th></th>\n",
       "      <th>Curso</th>\n",
       "      <th>Target</th>\n",
       "      <th>Contagem</th>\n",
       "      <th>Porcentagem</th>\n",
       "    </tr>\n",
       "  </thead>\n",
       "  <tbody>\n",
       "    <tr>\n",
       "      <th>0</th>\n",
       "      <td>Agronomia</td>\n",
       "      <td>Desistente</td>\n",
       "      <td>86</td>\n",
       "      <td>40.952381</td>\n",
       "    </tr>\n",
       "    <tr>\n",
       "      <th>1</th>\n",
       "      <td>Agronomia</td>\n",
       "      <td>Graduado</td>\n",
       "      <td>87</td>\n",
       "      <td>41.428571</td>\n",
       "    </tr>\n",
       "    <tr>\n",
       "      <th>2</th>\n",
       "      <td>Agronomia</td>\n",
       "      <td>Matriculado</td>\n",
       "      <td>37</td>\n",
       "      <td>17.619048</td>\n",
       "    </tr>\n",
       "    <tr>\n",
       "      <th>3</th>\n",
       "      <td>Animação e Design Multimídia</td>\n",
       "      <td>Desistente</td>\n",
       "      <td>82</td>\n",
       "      <td>38.139535</td>\n",
       "    </tr>\n",
       "    <tr>\n",
       "      <th>4</th>\n",
       "      <td>Animação e Design Multimídia</td>\n",
       "      <td>Graduado</td>\n",
       "      <td>96</td>\n",
       "      <td>44.651163</td>\n",
       "    </tr>\n",
       "    <tr>\n",
       "      <th>5</th>\n",
       "      <td>Animação e Design Multimídia</td>\n",
       "      <td>Matriculado</td>\n",
       "      <td>37</td>\n",
       "      <td>17.209302</td>\n",
       "    </tr>\n",
       "    <tr>\n",
       "      <th>6</th>\n",
       "      <td>Design de Comunicação</td>\n",
       "      <td>Desistente</td>\n",
       "      <td>51</td>\n",
       "      <td>22.566372</td>\n",
       "    </tr>\n",
       "    <tr>\n",
       "      <th>7</th>\n",
       "      <td>Design de Comunicação</td>\n",
       "      <td>Graduado</td>\n",
       "      <td>133</td>\n",
       "      <td>58.849558</td>\n",
       "    </tr>\n",
       "    <tr>\n",
       "      <th>8</th>\n",
       "      <td>Design de Comunicação</td>\n",
       "      <td>Matriculado</td>\n",
       "      <td>42</td>\n",
       "      <td>18.584071</td>\n",
       "    </tr>\n",
       "    <tr>\n",
       "      <th>9</th>\n",
       "      <td>Educação Básica</td>\n",
       "      <td>Desistente</td>\n",
       "      <td>85</td>\n",
       "      <td>44.270833</td>\n",
       "    </tr>\n",
       "    <tr>\n",
       "      <th>10</th>\n",
       "      <td>Educação Básica</td>\n",
       "      <td>Graduado</td>\n",
       "      <td>57</td>\n",
       "      <td>29.687500</td>\n",
       "    </tr>\n",
       "    <tr>\n",
       "      <th>11</th>\n",
       "      <td>Educação Básica</td>\n",
       "      <td>Matriculado</td>\n",
       "      <td>50</td>\n",
       "      <td>26.041667</td>\n",
       "    </tr>\n",
       "    <tr>\n",
       "      <th>12</th>\n",
       "      <td>Enfermagem</td>\n",
       "      <td>Desistente</td>\n",
       "      <td>118</td>\n",
       "      <td>15.404700</td>\n",
       "    </tr>\n",
       "    <tr>\n",
       "      <th>13</th>\n",
       "      <td>Enfermagem</td>\n",
       "      <td>Graduado</td>\n",
       "      <td>548</td>\n",
       "      <td>71.540470</td>\n",
       "    </tr>\n",
       "    <tr>\n",
       "      <th>14</th>\n",
       "      <td>Enfermagem</td>\n",
       "      <td>Matriculado</td>\n",
       "      <td>100</td>\n",
       "      <td>13.054830</td>\n",
       "    </tr>\n",
       "    <tr>\n",
       "      <th>15</th>\n",
       "      <td>Enfermagem Veterinária</td>\n",
       "      <td>Desistente</td>\n",
       "      <td>90</td>\n",
       "      <td>26.706231</td>\n",
       "    </tr>\n",
       "    <tr>\n",
       "      <th>16</th>\n",
       "      <td>Enfermagem Veterinária</td>\n",
       "      <td>Graduado</td>\n",
       "      <td>172</td>\n",
       "      <td>51.038576</td>\n",
       "    </tr>\n",
       "    <tr>\n",
       "      <th>17</th>\n",
       "      <td>Enfermagem Veterinária</td>\n",
       "      <td>Matriculado</td>\n",
       "      <td>75</td>\n",
       "      <td>22.255193</td>\n",
       "    </tr>\n",
       "    <tr>\n",
       "      <th>18</th>\n",
       "      <td>Engenharia da computação</td>\n",
       "      <td>Desistente</td>\n",
       "      <td>92</td>\n",
       "      <td>54.117647</td>\n",
       "    </tr>\n",
       "    <tr>\n",
       "      <th>19</th>\n",
       "      <td>Engenharia da computação</td>\n",
       "      <td>Graduado</td>\n",
       "      <td>14</td>\n",
       "      <td>8.235294</td>\n",
       "    </tr>\n",
       "    <tr>\n",
       "      <th>20</th>\n",
       "      <td>Engenharia da computação</td>\n",
       "      <td>Matriculado</td>\n",
       "      <td>64</td>\n",
       "      <td>37.647059</td>\n",
       "    </tr>\n",
       "    <tr>\n",
       "      <th>21</th>\n",
       "      <td>Gestão</td>\n",
       "      <td>Desistente</td>\n",
       "      <td>134</td>\n",
       "      <td>35.263158</td>\n",
       "    </tr>\n",
       "    <tr>\n",
       "      <th>22</th>\n",
       "      <td>Gestão</td>\n",
       "      <td>Graduado</td>\n",
       "      <td>138</td>\n",
       "      <td>36.315789</td>\n",
       "    </tr>\n",
       "    <tr>\n",
       "      <th>23</th>\n",
       "      <td>Gestão</td>\n",
       "      <td>Matriculado</td>\n",
       "      <td>108</td>\n",
       "      <td>28.421053</td>\n",
       "    </tr>\n",
       "    <tr>\n",
       "      <th>24</th>\n",
       "      <td>Gestão (noturno)</td>\n",
       "      <td>Desistente</td>\n",
       "      <td>136</td>\n",
       "      <td>50.746269</td>\n",
       "    </tr>\n",
       "    <tr>\n",
       "      <th>25</th>\n",
       "      <td>Gestão (noturno)</td>\n",
       "      <td>Graduado</td>\n",
       "      <td>78</td>\n",
       "      <td>29.104478</td>\n",
       "    </tr>\n",
       "    <tr>\n",
       "      <th>26</th>\n",
       "      <td>Gestão (noturno)</td>\n",
       "      <td>Matriculado</td>\n",
       "      <td>54</td>\n",
       "      <td>20.149254</td>\n",
       "    </tr>\n",
       "    <tr>\n",
       "      <th>27</th>\n",
       "      <td>Gestão de Publicidade e Marketing</td>\n",
       "      <td>Desistente</td>\n",
       "      <td>95</td>\n",
       "      <td>35.447761</td>\n",
       "    </tr>\n",
       "    <tr>\n",
       "      <th>28</th>\n",
       "      <td>Gestão de Publicidade e Marketing</td>\n",
       "      <td>Graduado</td>\n",
       "      <td>125</td>\n",
       "      <td>46.641791</td>\n",
       "    </tr>\n",
       "    <tr>\n",
       "      <th>29</th>\n",
       "      <td>Gestão de Publicidade e Marketing</td>\n",
       "      <td>Matriculado</td>\n",
       "      <td>48</td>\n",
       "      <td>17.910448</td>\n",
       "    </tr>\n",
       "    <tr>\n",
       "      <th>30</th>\n",
       "      <td>Jornalismo e Comunicação</td>\n",
       "      <td>Desistente</td>\n",
       "      <td>101</td>\n",
       "      <td>30.513595</td>\n",
       "    </tr>\n",
       "    <tr>\n",
       "      <th>31</th>\n",
       "      <td>Jornalismo e Comunicação</td>\n",
       "      <td>Graduado</td>\n",
       "      <td>196</td>\n",
       "      <td>59.214502</td>\n",
       "    </tr>\n",
       "    <tr>\n",
       "      <th>32</th>\n",
       "      <td>Jornalismo e Comunicação</td>\n",
       "      <td>Matriculado</td>\n",
       "      <td>34</td>\n",
       "      <td>10.271903</td>\n",
       "    </tr>\n",
       "    <tr>\n",
       "      <th>33</th>\n",
       "      <td>Odontologia</td>\n",
       "      <td>Desistente</td>\n",
       "      <td>33</td>\n",
       "      <td>38.372093</td>\n",
       "    </tr>\n",
       "    <tr>\n",
       "      <th>34</th>\n",
       "      <td>Odontologia</td>\n",
       "      <td>Graduado</td>\n",
       "      <td>36</td>\n",
       "      <td>41.860465</td>\n",
       "    </tr>\n",
       "    <tr>\n",
       "      <th>35</th>\n",
       "      <td>Odontologia</td>\n",
       "      <td>Matriculado</td>\n",
       "      <td>17</td>\n",
       "      <td>19.767442</td>\n",
       "    </tr>\n",
       "    <tr>\n",
       "      <th>36</th>\n",
       "      <td>Serviço Social</td>\n",
       "      <td>Desistente</td>\n",
       "      <td>65</td>\n",
       "      <td>18.309859</td>\n",
       "    </tr>\n",
       "    <tr>\n",
       "      <th>37</th>\n",
       "      <td>Serviço Social</td>\n",
       "      <td>Graduado</td>\n",
       "      <td>248</td>\n",
       "      <td>69.859155</td>\n",
       "    </tr>\n",
       "    <tr>\n",
       "      <th>38</th>\n",
       "      <td>Serviço Social</td>\n",
       "      <td>Matriculado</td>\n",
       "      <td>42</td>\n",
       "      <td>11.830986</td>\n",
       "    </tr>\n",
       "    <tr>\n",
       "      <th>39</th>\n",
       "      <td>Serviço Social (noturno)</td>\n",
       "      <td>Desistente</td>\n",
       "      <td>71</td>\n",
       "      <td>33.023256</td>\n",
       "    </tr>\n",
       "    <tr>\n",
       "      <th>40</th>\n",
       "      <td>Serviço Social (noturno)</td>\n",
       "      <td>Graduado</td>\n",
       "      <td>123</td>\n",
       "      <td>57.209302</td>\n",
       "    </tr>\n",
       "    <tr>\n",
       "      <th>41</th>\n",
       "      <td>Serviço Social (noturno)</td>\n",
       "      <td>Matriculado</td>\n",
       "      <td>21</td>\n",
       "      <td>9.767442</td>\n",
       "    </tr>\n",
       "    <tr>\n",
       "      <th>42</th>\n",
       "      <td>Tecnologias de Produção de Biocombustíveis</td>\n",
       "      <td>Desistente</td>\n",
       "      <td>8</td>\n",
       "      <td>66.666667</td>\n",
       "    </tr>\n",
       "    <tr>\n",
       "      <th>43</th>\n",
       "      <td>Tecnologias de Produção de Biocombustíveis</td>\n",
       "      <td>Graduado</td>\n",
       "      <td>1</td>\n",
       "      <td>8.333333</td>\n",
       "    </tr>\n",
       "    <tr>\n",
       "      <th>44</th>\n",
       "      <td>Tecnologias de Produção de Biocombustíveis</td>\n",
       "      <td>Matriculado</td>\n",
       "      <td>3</td>\n",
       "      <td>25.000000</td>\n",
       "    </tr>\n",
       "    <tr>\n",
       "      <th>45</th>\n",
       "      <td>Turismo</td>\n",
       "      <td>Desistente</td>\n",
       "      <td>96</td>\n",
       "      <td>38.095238</td>\n",
       "    </tr>\n",
       "    <tr>\n",
       "      <th>46</th>\n",
       "      <td>Turismo</td>\n",
       "      <td>Graduado</td>\n",
       "      <td>115</td>\n",
       "      <td>45.634921</td>\n",
       "    </tr>\n",
       "    <tr>\n",
       "      <th>47</th>\n",
       "      <td>Turismo</td>\n",
       "      <td>Matriculado</td>\n",
       "      <td>41</td>\n",
       "      <td>16.269841</td>\n",
       "    </tr>\n",
       "    <tr>\n",
       "      <th>48</th>\n",
       "      <td>Zootecnia</td>\n",
       "      <td>Desistente</td>\n",
       "      <td>78</td>\n",
       "      <td>55.319149</td>\n",
       "    </tr>\n",
       "    <tr>\n",
       "      <th>49</th>\n",
       "      <td>Zootecnia</td>\n",
       "      <td>Graduado</td>\n",
       "      <td>42</td>\n",
       "      <td>29.787234</td>\n",
       "    </tr>\n",
       "    <tr>\n",
       "      <th>50</th>\n",
       "      <td>Zootecnia</td>\n",
       "      <td>Matriculado</td>\n",
       "      <td>21</td>\n",
       "      <td>14.893617</td>\n",
       "    </tr>\n",
       "  </tbody>\n",
       "</table>\n",
       "</div>"
      ],
      "text/plain": [
       "                                         Curso       Target  Contagem  \\\n",
       "0                                    Agronomia   Desistente        86   \n",
       "1                                    Agronomia     Graduado        87   \n",
       "2                                    Agronomia  Matriculado        37   \n",
       "3                 Animação e Design Multimídia   Desistente        82   \n",
       "4                 Animação e Design Multimídia     Graduado        96   \n",
       "5                 Animação e Design Multimídia  Matriculado        37   \n",
       "6                        Design de Comunicação   Desistente        51   \n",
       "7                        Design de Comunicação     Graduado       133   \n",
       "8                        Design de Comunicação  Matriculado        42   \n",
       "9                              Educação Básica   Desistente        85   \n",
       "10                             Educação Básica     Graduado        57   \n",
       "11                             Educação Básica  Matriculado        50   \n",
       "12                                  Enfermagem   Desistente       118   \n",
       "13                                  Enfermagem     Graduado       548   \n",
       "14                                  Enfermagem  Matriculado       100   \n",
       "15                      Enfermagem Veterinária   Desistente        90   \n",
       "16                      Enfermagem Veterinária     Graduado       172   \n",
       "17                      Enfermagem Veterinária  Matriculado        75   \n",
       "18                    Engenharia da computação   Desistente        92   \n",
       "19                    Engenharia da computação     Graduado        14   \n",
       "20                    Engenharia da computação  Matriculado        64   \n",
       "21                                      Gestão   Desistente       134   \n",
       "22                                      Gestão     Graduado       138   \n",
       "23                                      Gestão  Matriculado       108   \n",
       "24                            Gestão (noturno)   Desistente       136   \n",
       "25                            Gestão (noturno)     Graduado        78   \n",
       "26                            Gestão (noturno)  Matriculado        54   \n",
       "27           Gestão de Publicidade e Marketing   Desistente        95   \n",
       "28           Gestão de Publicidade e Marketing     Graduado       125   \n",
       "29           Gestão de Publicidade e Marketing  Matriculado        48   \n",
       "30                    Jornalismo e Comunicação   Desistente       101   \n",
       "31                    Jornalismo e Comunicação     Graduado       196   \n",
       "32                    Jornalismo e Comunicação  Matriculado        34   \n",
       "33                                 Odontologia   Desistente        33   \n",
       "34                                 Odontologia     Graduado        36   \n",
       "35                                 Odontologia  Matriculado        17   \n",
       "36                              Serviço Social   Desistente        65   \n",
       "37                              Serviço Social     Graduado       248   \n",
       "38                              Serviço Social  Matriculado        42   \n",
       "39                    Serviço Social (noturno)   Desistente        71   \n",
       "40                    Serviço Social (noturno)     Graduado       123   \n",
       "41                    Serviço Social (noturno)  Matriculado        21   \n",
       "42  Tecnologias de Produção de Biocombustíveis   Desistente         8   \n",
       "43  Tecnologias de Produção de Biocombustíveis     Graduado         1   \n",
       "44  Tecnologias de Produção de Biocombustíveis  Matriculado         3   \n",
       "45                                     Turismo   Desistente        96   \n",
       "46                                     Turismo     Graduado       115   \n",
       "47                                     Turismo  Matriculado        41   \n",
       "48                                   Zootecnia   Desistente        78   \n",
       "49                                   Zootecnia     Graduado        42   \n",
       "50                                   Zootecnia  Matriculado        21   \n",
       "\n",
       "    Porcentagem  \n",
       "0     40.952381  \n",
       "1     41.428571  \n",
       "2     17.619048  \n",
       "3     38.139535  \n",
       "4     44.651163  \n",
       "5     17.209302  \n",
       "6     22.566372  \n",
       "7     58.849558  \n",
       "8     18.584071  \n",
       "9     44.270833  \n",
       "10    29.687500  \n",
       "11    26.041667  \n",
       "12    15.404700  \n",
       "13    71.540470  \n",
       "14    13.054830  \n",
       "15    26.706231  \n",
       "16    51.038576  \n",
       "17    22.255193  \n",
       "18    54.117647  \n",
       "19     8.235294  \n",
       "20    37.647059  \n",
       "21    35.263158  \n",
       "22    36.315789  \n",
       "23    28.421053  \n",
       "24    50.746269  \n",
       "25    29.104478  \n",
       "26    20.149254  \n",
       "27    35.447761  \n",
       "28    46.641791  \n",
       "29    17.910448  \n",
       "30    30.513595  \n",
       "31    59.214502  \n",
       "32    10.271903  \n",
       "33    38.372093  \n",
       "34    41.860465  \n",
       "35    19.767442  \n",
       "36    18.309859  \n",
       "37    69.859155  \n",
       "38    11.830986  \n",
       "39    33.023256  \n",
       "40    57.209302  \n",
       "41     9.767442  \n",
       "42    66.666667  \n",
       "43     8.333333  \n",
       "44    25.000000  \n",
       "45    38.095238  \n",
       "46    45.634921  \n",
       "47    16.269841  \n",
       "48    55.319149  \n",
       "49    29.787234  \n",
       "50    14.893617  "
      ]
     },
     "execution_count": 22,
     "metadata": {},
     "output_type": "execute_result"
    }
   ],
   "source": [
    "contagem"
   ]
  },
  {
   "cell_type": "code",
   "execution_count": 23,
   "metadata": {},
   "outputs": [
    {
     "data": {
      "application/vnd.plotly.v1+json": {
       "config": {
        "plotlyServerURL": "https://plot.ly"
       },
       "data": [
        {
         "alignmentgroup": "True",
         "hovertemplate": "Target=Desistente<br>Porcentagem=%{x}<br>Curso=%{y}<extra></extra>",
         "legendgroup": "Desistente",
         "marker": {
          "color": "#e34c42",
          "pattern": {
           "shape": ""
          }
         },
         "name": "Desistente",
         "offsetgroup": "Desistente",
         "orientation": "h",
         "showlegend": true,
         "textposition": "auto",
         "type": "bar",
         "x": [
          40.95238095238095,
          38.139534883720934,
          22.566371681415927,
          44.27083333333333,
          15.404699738903393,
          26.706231454005934,
          54.11764705882353,
          35.26315789473684,
          50.74626865671642,
          35.44776119402985,
          30.513595166163142,
          38.372093023255815,
          18.30985915492958,
          33.02325581395349,
          66.66666666666666,
          38.095238095238095,
          55.319148936170215
         ],
         "xaxis": "x",
         "y": [
          "Agronomia",
          "Animação e Design Multimídia",
          "Design de Comunicação",
          "Educação Básica",
          "Enfermagem",
          "Enfermagem Veterinária",
          "Engenharia da computação",
          "Gestão",
          "Gestão (noturno)",
          "Gestão de Publicidade e Marketing",
          "Jornalismo e Comunicação",
          "Odontologia",
          "Serviço Social",
          "Serviço Social (noturno)",
          "Tecnologias de Produção de Biocombustíveis",
          "Turismo",
          "Zootecnia"
         ],
         "yaxis": "y"
        },
        {
         "alignmentgroup": "True",
         "hovertemplate": "Target=Graduado<br>Porcentagem=%{x}<br>Curso=%{y}<extra></extra>",
         "legendgroup": "Graduado",
         "marker": {
          "color": "#4dc471",
          "pattern": {
           "shape": ""
          }
         },
         "name": "Graduado",
         "offsetgroup": "Graduado",
         "orientation": "h",
         "showlegend": true,
         "textposition": "auto",
         "type": "bar",
         "x": [
          41.42857142857143,
          44.651162790697676,
          58.849557522123895,
          29.6875,
          71.54046997389034,
          51.038575667655785,
          8.235294117647058,
          36.31578947368421,
          29.1044776119403,
          46.64179104477612,
          59.21450151057401,
          41.86046511627907,
          69.85915492957746,
          57.20930232558139,
          8.333333333333332,
          45.63492063492063,
          29.78723404255319
         ],
         "xaxis": "x",
         "y": [
          "Agronomia",
          "Animação e Design Multimídia",
          "Design de Comunicação",
          "Educação Básica",
          "Enfermagem",
          "Enfermagem Veterinária",
          "Engenharia da computação",
          "Gestão",
          "Gestão (noturno)",
          "Gestão de Publicidade e Marketing",
          "Jornalismo e Comunicação",
          "Odontologia",
          "Serviço Social",
          "Serviço Social (noturno)",
          "Tecnologias de Produção de Biocombustíveis",
          "Turismo",
          "Zootecnia"
         ],
         "yaxis": "y"
        },
        {
         "alignmentgroup": "True",
         "hovertemplate": "Target=Matriculado<br>Porcentagem=%{x}<br>Curso=%{y}<extra></extra>",
         "legendgroup": "Matriculado",
         "marker": {
          "color": "#3b71db",
          "pattern": {
           "shape": ""
          }
         },
         "name": "Matriculado",
         "offsetgroup": "Matriculado",
         "orientation": "h",
         "showlegend": true,
         "textposition": "auto",
         "type": "bar",
         "x": [
          17.61904761904762,
          17.209302325581397,
          18.58407079646018,
          26.041666666666668,
          13.054830287206268,
          22.255192878338278,
          37.64705882352941,
          28.421052631578945,
          20.149253731343283,
          17.91044776119403,
          10.27190332326284,
          19.767441860465116,
          11.830985915492958,
          9.767441860465116,
          25,
          16.26984126984127,
          14.893617021276595
         ],
         "xaxis": "x",
         "y": [
          "Agronomia",
          "Animação e Design Multimídia",
          "Design de Comunicação",
          "Educação Básica",
          "Enfermagem",
          "Enfermagem Veterinária",
          "Engenharia da computação",
          "Gestão",
          "Gestão (noturno)",
          "Gestão de Publicidade e Marketing",
          "Jornalismo e Comunicação",
          "Odontologia",
          "Serviço Social",
          "Serviço Social (noturno)",
          "Tecnologias de Produção de Biocombustíveis",
          "Turismo",
          "Zootecnia"
         ],
         "yaxis": "y"
        }
       ],
       "layout": {
        "barmode": "relative",
        "legend": {
         "title": {
          "text": "Target"
         },
         "tracegroupgap": 0
        },
        "margin": {
         "t": 60
        },
        "template": {
         "data": {
          "bar": [
           {
            "error_x": {
             "color": "#2a3f5f"
            },
            "error_y": {
             "color": "#2a3f5f"
            },
            "marker": {
             "line": {
              "color": "#E5ECF6",
              "width": 0.5
             },
             "pattern": {
              "fillmode": "overlay",
              "size": 10,
              "solidity": 0.2
             }
            },
            "type": "bar"
           }
          ],
          "barpolar": [
           {
            "marker": {
             "line": {
              "color": "#E5ECF6",
              "width": 0.5
             },
             "pattern": {
              "fillmode": "overlay",
              "size": 10,
              "solidity": 0.2
             }
            },
            "type": "barpolar"
           }
          ],
          "carpet": [
           {
            "aaxis": {
             "endlinecolor": "#2a3f5f",
             "gridcolor": "white",
             "linecolor": "white",
             "minorgridcolor": "white",
             "startlinecolor": "#2a3f5f"
            },
            "baxis": {
             "endlinecolor": "#2a3f5f",
             "gridcolor": "white",
             "linecolor": "white",
             "minorgridcolor": "white",
             "startlinecolor": "#2a3f5f"
            },
            "type": "carpet"
           }
          ],
          "choropleth": [
           {
            "colorbar": {
             "outlinewidth": 0,
             "ticks": ""
            },
            "type": "choropleth"
           }
          ],
          "contour": [
           {
            "colorbar": {
             "outlinewidth": 0,
             "ticks": ""
            },
            "colorscale": [
             [
              0,
              "#0d0887"
             ],
             [
              0.1111111111111111,
              "#46039f"
             ],
             [
              0.2222222222222222,
              "#7201a8"
             ],
             [
              0.3333333333333333,
              "#9c179e"
             ],
             [
              0.4444444444444444,
              "#bd3786"
             ],
             [
              0.5555555555555556,
              "#d8576b"
             ],
             [
              0.6666666666666666,
              "#ed7953"
             ],
             [
              0.7777777777777778,
              "#fb9f3a"
             ],
             [
              0.8888888888888888,
              "#fdca26"
             ],
             [
              1,
              "#f0f921"
             ]
            ],
            "type": "contour"
           }
          ],
          "contourcarpet": [
           {
            "colorbar": {
             "outlinewidth": 0,
             "ticks": ""
            },
            "type": "contourcarpet"
           }
          ],
          "heatmap": [
           {
            "colorbar": {
             "outlinewidth": 0,
             "ticks": ""
            },
            "colorscale": [
             [
              0,
              "#0d0887"
             ],
             [
              0.1111111111111111,
              "#46039f"
             ],
             [
              0.2222222222222222,
              "#7201a8"
             ],
             [
              0.3333333333333333,
              "#9c179e"
             ],
             [
              0.4444444444444444,
              "#bd3786"
             ],
             [
              0.5555555555555556,
              "#d8576b"
             ],
             [
              0.6666666666666666,
              "#ed7953"
             ],
             [
              0.7777777777777778,
              "#fb9f3a"
             ],
             [
              0.8888888888888888,
              "#fdca26"
             ],
             [
              1,
              "#f0f921"
             ]
            ],
            "type": "heatmap"
           }
          ],
          "heatmapgl": [
           {
            "colorbar": {
             "outlinewidth": 0,
             "ticks": ""
            },
            "colorscale": [
             [
              0,
              "#0d0887"
             ],
             [
              0.1111111111111111,
              "#46039f"
             ],
             [
              0.2222222222222222,
              "#7201a8"
             ],
             [
              0.3333333333333333,
              "#9c179e"
             ],
             [
              0.4444444444444444,
              "#bd3786"
             ],
             [
              0.5555555555555556,
              "#d8576b"
             ],
             [
              0.6666666666666666,
              "#ed7953"
             ],
             [
              0.7777777777777778,
              "#fb9f3a"
             ],
             [
              0.8888888888888888,
              "#fdca26"
             ],
             [
              1,
              "#f0f921"
             ]
            ],
            "type": "heatmapgl"
           }
          ],
          "histogram": [
           {
            "marker": {
             "pattern": {
              "fillmode": "overlay",
              "size": 10,
              "solidity": 0.2
             }
            },
            "type": "histogram"
           }
          ],
          "histogram2d": [
           {
            "colorbar": {
             "outlinewidth": 0,
             "ticks": ""
            },
            "colorscale": [
             [
              0,
              "#0d0887"
             ],
             [
              0.1111111111111111,
              "#46039f"
             ],
             [
              0.2222222222222222,
              "#7201a8"
             ],
             [
              0.3333333333333333,
              "#9c179e"
             ],
             [
              0.4444444444444444,
              "#bd3786"
             ],
             [
              0.5555555555555556,
              "#d8576b"
             ],
             [
              0.6666666666666666,
              "#ed7953"
             ],
             [
              0.7777777777777778,
              "#fb9f3a"
             ],
             [
              0.8888888888888888,
              "#fdca26"
             ],
             [
              1,
              "#f0f921"
             ]
            ],
            "type": "histogram2d"
           }
          ],
          "histogram2dcontour": [
           {
            "colorbar": {
             "outlinewidth": 0,
             "ticks": ""
            },
            "colorscale": [
             [
              0,
              "#0d0887"
             ],
             [
              0.1111111111111111,
              "#46039f"
             ],
             [
              0.2222222222222222,
              "#7201a8"
             ],
             [
              0.3333333333333333,
              "#9c179e"
             ],
             [
              0.4444444444444444,
              "#bd3786"
             ],
             [
              0.5555555555555556,
              "#d8576b"
             ],
             [
              0.6666666666666666,
              "#ed7953"
             ],
             [
              0.7777777777777778,
              "#fb9f3a"
             ],
             [
              0.8888888888888888,
              "#fdca26"
             ],
             [
              1,
              "#f0f921"
             ]
            ],
            "type": "histogram2dcontour"
           }
          ],
          "mesh3d": [
           {
            "colorbar": {
             "outlinewidth": 0,
             "ticks": ""
            },
            "type": "mesh3d"
           }
          ],
          "parcoords": [
           {
            "line": {
             "colorbar": {
              "outlinewidth": 0,
              "ticks": ""
             }
            },
            "type": "parcoords"
           }
          ],
          "pie": [
           {
            "automargin": true,
            "type": "pie"
           }
          ],
          "scatter": [
           {
            "fillpattern": {
             "fillmode": "overlay",
             "size": 10,
             "solidity": 0.2
            },
            "type": "scatter"
           }
          ],
          "scatter3d": [
           {
            "line": {
             "colorbar": {
              "outlinewidth": 0,
              "ticks": ""
             }
            },
            "marker": {
             "colorbar": {
              "outlinewidth": 0,
              "ticks": ""
             }
            },
            "type": "scatter3d"
           }
          ],
          "scattercarpet": [
           {
            "marker": {
             "colorbar": {
              "outlinewidth": 0,
              "ticks": ""
             }
            },
            "type": "scattercarpet"
           }
          ],
          "scattergeo": [
           {
            "marker": {
             "colorbar": {
              "outlinewidth": 0,
              "ticks": ""
             }
            },
            "type": "scattergeo"
           }
          ],
          "scattergl": [
           {
            "marker": {
             "colorbar": {
              "outlinewidth": 0,
              "ticks": ""
             }
            },
            "type": "scattergl"
           }
          ],
          "scattermapbox": [
           {
            "marker": {
             "colorbar": {
              "outlinewidth": 0,
              "ticks": ""
             }
            },
            "type": "scattermapbox"
           }
          ],
          "scatterpolar": [
           {
            "marker": {
             "colorbar": {
              "outlinewidth": 0,
              "ticks": ""
             }
            },
            "type": "scatterpolar"
           }
          ],
          "scatterpolargl": [
           {
            "marker": {
             "colorbar": {
              "outlinewidth": 0,
              "ticks": ""
             }
            },
            "type": "scatterpolargl"
           }
          ],
          "scatterternary": [
           {
            "marker": {
             "colorbar": {
              "outlinewidth": 0,
              "ticks": ""
             }
            },
            "type": "scatterternary"
           }
          ],
          "surface": [
           {
            "colorbar": {
             "outlinewidth": 0,
             "ticks": ""
            },
            "colorscale": [
             [
              0,
              "#0d0887"
             ],
             [
              0.1111111111111111,
              "#46039f"
             ],
             [
              0.2222222222222222,
              "#7201a8"
             ],
             [
              0.3333333333333333,
              "#9c179e"
             ],
             [
              0.4444444444444444,
              "#bd3786"
             ],
             [
              0.5555555555555556,
              "#d8576b"
             ],
             [
              0.6666666666666666,
              "#ed7953"
             ],
             [
              0.7777777777777778,
              "#fb9f3a"
             ],
             [
              0.8888888888888888,
              "#fdca26"
             ],
             [
              1,
              "#f0f921"
             ]
            ],
            "type": "surface"
           }
          ],
          "table": [
           {
            "cells": {
             "fill": {
              "color": "#EBF0F8"
             },
             "line": {
              "color": "white"
             }
            },
            "header": {
             "fill": {
              "color": "#C8D4E3"
             },
             "line": {
              "color": "white"
             }
            },
            "type": "table"
           }
          ]
         },
         "layout": {
          "annotationdefaults": {
           "arrowcolor": "#2a3f5f",
           "arrowhead": 0,
           "arrowwidth": 1
          },
          "autotypenumbers": "strict",
          "coloraxis": {
           "colorbar": {
            "outlinewidth": 0,
            "ticks": ""
           }
          },
          "colorscale": {
           "diverging": [
            [
             0,
             "#8e0152"
            ],
            [
             0.1,
             "#c51b7d"
            ],
            [
             0.2,
             "#de77ae"
            ],
            [
             0.3,
             "#f1b6da"
            ],
            [
             0.4,
             "#fde0ef"
            ],
            [
             0.5,
             "#f7f7f7"
            ],
            [
             0.6,
             "#e6f5d0"
            ],
            [
             0.7,
             "#b8e186"
            ],
            [
             0.8,
             "#7fbc41"
            ],
            [
             0.9,
             "#4d9221"
            ],
            [
             1,
             "#276419"
            ]
           ],
           "sequential": [
            [
             0,
             "#0d0887"
            ],
            [
             0.1111111111111111,
             "#46039f"
            ],
            [
             0.2222222222222222,
             "#7201a8"
            ],
            [
             0.3333333333333333,
             "#9c179e"
            ],
            [
             0.4444444444444444,
             "#bd3786"
            ],
            [
             0.5555555555555556,
             "#d8576b"
            ],
            [
             0.6666666666666666,
             "#ed7953"
            ],
            [
             0.7777777777777778,
             "#fb9f3a"
            ],
            [
             0.8888888888888888,
             "#fdca26"
            ],
            [
             1,
             "#f0f921"
            ]
           ],
           "sequentialminus": [
            [
             0,
             "#0d0887"
            ],
            [
             0.1111111111111111,
             "#46039f"
            ],
            [
             0.2222222222222222,
             "#7201a8"
            ],
            [
             0.3333333333333333,
             "#9c179e"
            ],
            [
             0.4444444444444444,
             "#bd3786"
            ],
            [
             0.5555555555555556,
             "#d8576b"
            ],
            [
             0.6666666666666666,
             "#ed7953"
            ],
            [
             0.7777777777777778,
             "#fb9f3a"
            ],
            [
             0.8888888888888888,
             "#fdca26"
            ],
            [
             1,
             "#f0f921"
            ]
           ]
          },
          "colorway": [
           "#636efa",
           "#EF553B",
           "#00cc96",
           "#ab63fa",
           "#FFA15A",
           "#19d3f3",
           "#FF6692",
           "#B6E880",
           "#FF97FF",
           "#FECB52"
          ],
          "font": {
           "color": "#2a3f5f"
          },
          "geo": {
           "bgcolor": "white",
           "lakecolor": "white",
           "landcolor": "#E5ECF6",
           "showlakes": true,
           "showland": true,
           "subunitcolor": "white"
          },
          "hoverlabel": {
           "align": "left"
          },
          "hovermode": "closest",
          "mapbox": {
           "style": "light"
          },
          "paper_bgcolor": "white",
          "plot_bgcolor": "#E5ECF6",
          "polar": {
           "angularaxis": {
            "gridcolor": "white",
            "linecolor": "white",
            "ticks": ""
           },
           "bgcolor": "#E5ECF6",
           "radialaxis": {
            "gridcolor": "white",
            "linecolor": "white",
            "ticks": ""
           }
          },
          "scene": {
           "xaxis": {
            "backgroundcolor": "#E5ECF6",
            "gridcolor": "white",
            "gridwidth": 2,
            "linecolor": "white",
            "showbackground": true,
            "ticks": "",
            "zerolinecolor": "white"
           },
           "yaxis": {
            "backgroundcolor": "#E5ECF6",
            "gridcolor": "white",
            "gridwidth": 2,
            "linecolor": "white",
            "showbackground": true,
            "ticks": "",
            "zerolinecolor": "white"
           },
           "zaxis": {
            "backgroundcolor": "#E5ECF6",
            "gridcolor": "white",
            "gridwidth": 2,
            "linecolor": "white",
            "showbackground": true,
            "ticks": "",
            "zerolinecolor": "white"
           }
          },
          "shapedefaults": {
           "line": {
            "color": "#2a3f5f"
           }
          },
          "ternary": {
           "aaxis": {
            "gridcolor": "white",
            "linecolor": "white",
            "ticks": ""
           },
           "baxis": {
            "gridcolor": "white",
            "linecolor": "white",
            "ticks": ""
           },
           "bgcolor": "#E5ECF6",
           "caxis": {
            "gridcolor": "white",
            "linecolor": "white",
            "ticks": ""
           }
          },
          "title": {
           "x": 0.05
          },
          "xaxis": {
           "automargin": true,
           "gridcolor": "white",
           "linecolor": "white",
           "ticks": "",
           "title": {
            "standoff": 15
           },
           "zerolinecolor": "white",
           "zerolinewidth": 2
          },
          "yaxis": {
           "automargin": true,
           "gridcolor": "white",
           "linecolor": "white",
           "ticks": "",
           "title": {
            "standoff": 15
           },
           "zerolinecolor": "white",
           "zerolinewidth": 2
          }
         }
        },
        "xaxis": {
         "anchor": "y",
         "domain": [
          0,
          1
         ],
         "title": {
          "text": "Porcentagem"
         }
        },
        "yaxis": {
         "anchor": "x",
         "domain": [
          0,
          1
         ],
         "title": {
          "text": "Curso"
         }
        }
       }
      }
     },
     "metadata": {},
     "output_type": "display_data"
    }
   ],
   "source": [
    "fig = px.bar(contagem, x='Porcentagem', y='Curso', color='Target', orientation='h',\n",
    "             color_discrete_map = {'Desistente': '#e34c42', 'Graduado': '#4dc471', 'Matriculado': '#3b71db'})\n",
    "fig.show()"
   ]
  },
  {
   "cell_type": "code",
   "execution_count": 24,
   "metadata": {},
   "outputs": [
    {
     "data": {
      "image/png": "[encoded data removed]",
      "text/plain": [
       "<Figure size 640x480 with 1 Axes>"
      ]
     },
     "metadata": {},
     "output_type": "display_data"
    }
   ],
   "source": [
    "sns.boxplot(data, x='Target', y='disciplinas 1º semestre (notas)', hue='Target');"
   ]
  },
  {
   "cell_type": "code",
   "execution_count": 25,
   "metadata": {},
   "outputs": [
    {
     "data": {
      "image/png": "[encoded data removed]",
      "text/plain": [
       "<Figure size 640x480 with 1 Axes>"
      ]
     },
     "metadata": {},
     "output_type": "display_data"
    }
   ],
   "source": [
    "sns.boxplot(data, x='Target', y='disciplinas 2º semestre (notas)', hue='Target');"
   ]
  },
  {
   "cell_type": "code",
   "execution_count": 26,
   "metadata": {},
   "outputs": [
    {
     "data": {
      "text/plain": [
       "Target\n",
       "Graduado       49.932188\n",
       "Desistente     32.120253\n",
       "Matriculado    17.947559\n",
       "Name: proportion, dtype: float64"
      ]
     },
     "execution_count": 26,
     "metadata": {},
     "output_type": "execute_result"
    }
   ],
   "source": [
    "data['Target'].value_counts(normalize=True) * 100"
   ]
  },
  {
   "cell_type": "markdown",
   "metadata": {},
   "source": [
    "# Realizando o treinamento"
   ]
  },
  {
   "cell_type": "code",
   "execution_count": 27,
   "metadata": {},
   "outputs": [
    {
     "name": "stdout",
     "output_type": "stream",
     "text": [
      "<class 'pandas.core.frame.DataFrame'>\n",
      "RangeIndex: 4424 entries, 0 to 4423\n",
      "Data columns (total 28 columns):\n",
      " #   Column                                    Non-Null Count  Dtype  \n",
      "---  ------                                    --------------  -----  \n",
      " 0   Estado civil                              4424 non-null   object \n",
      " 1   Migração                                  4424 non-null   object \n",
      " 2   Sexo                                      4424 non-null   object \n",
      " 3   Idade na matrícula                        4424 non-null   int64  \n",
      " 4   Estrangeiro                               4424 non-null   object \n",
      " 5   Necessidades educacionais especiais       4424 non-null   object \n",
      " 6   Devedor                                   4424 non-null   object \n",
      " 7   Taxas de matrícula em dia                 4424 non-null   object \n",
      " 8   Bolsista                                  4424 non-null   object \n",
      " 9   Taxa de desemprego                        4424 non-null   float64\n",
      " 10  Taxa de inflação                          4424 non-null   float64\n",
      " 11  PIB                                       4424 non-null   float64\n",
      " 12  Curso                                     4424 non-null   object \n",
      " 13  Período                                   4424 non-null   object \n",
      " 14  Qualificação prévia                       4424 non-null   object \n",
      " 15  disciplinas 1º semestre (creditadas)      4424 non-null   int64  \n",
      " 16  disciplinas 1º semestre (matriculadas)    4424 non-null   int64  \n",
      " 17  disciplinas 1º semestre (avaliações)      4424 non-null   int64  \n",
      " 18  disciplinas 1º semestre (aprovadas)       4424 non-null   int64  \n",
      " 19  disciplinas 1º semestre (notas)           4424 non-null   float64\n",
      " 20  disciplinas 1º semestre (sem avaliações)  4424 non-null   int64  \n",
      " 21  disciplinas 2º semestre (creditadas)      4424 non-null   int64  \n",
      " 22  disciplinas 2º semestre (matriculadas)    4424 non-null   int64  \n",
      " 23  disciplinas 2º semestre (avaliações)      4424 non-null   int64  \n",
      " 24  disciplinas 2º semestre (aprovadas)       4424 non-null   int64  \n",
      " 25  disciplinas 2º semestre (notas)           4424 non-null   float64\n",
      " 26  disciplinas 2º semestre (sem avaliações)  4424 non-null   int64  \n",
      " 27  Target                                    4424 non-null   object \n",
      "dtypes: float64(5), int64(11), object(12)\n",
      "memory usage: 967.9+ KB\n"
     ]
    }
   ],
   "source": [
    "data.info()"
   ]
  },
  {
   "cell_type": "code",
   "execution_count": 28,
   "metadata": {},
   "outputs": [
    {
     "data": {
      "text/plain": [
       "True"
      ]
     },
     "execution_count": 28,
     "metadata": {},
     "output_type": "execute_result"
    }
   ],
   "source": [
    "data['Curso'].dtype == 'O'"
   ]
  },
  {
   "cell_type": "code",
   "execution_count": 29,
   "metadata": {},
   "outputs": [
    {
     "data": {
      "text/plain": [
       "['Estado civil',\n",
       " 'Migração',\n",
       " 'Sexo',\n",
       " 'Estrangeiro',\n",
       " 'Necessidades educacionais especiais',\n",
       " 'Devedor',\n",
       " 'Taxas de matrícula em dia',\n",
       " 'Bolsista',\n",
       " 'Curso',\n",
       " 'Período',\n",
       " 'Qualificação prévia']"
      ]
     },
     "execution_count": 29,
     "metadata": {},
     "output_type": "execute_result"
    }
   ],
   "source": [
    "colunas_categoricas = []\n",
    "for coluna in data.columns:\n",
    "    if data[coluna].dtype == 'O':\n",
    "        colunas_categoricas.append(coluna)\n",
    "        \n",
    "colunas_categoricas.pop()\n",
    "colunas_categoricas"
   ]
  },
  {
   "cell_type": "code",
   "execution_count": 30,
   "metadata": {},
   "outputs": [],
   "source": [
    "from sklearn.preprocessing import OneHotEncoder\n",
    "encoder = OneHotEncoder(drop='if_binary')"
   ]
  },
  {
   "cell_type": "code",
   "execution_count": 31,
   "metadata": {},
   "outputs": [
    {
     "data": {
      "text/html": [
       "<div>\n",
       "<style scoped>\n",
       "    .dataframe tbody tr th:only-of-type {\n",
       "        vertical-align: middle;\n",
       "    }\n",
       "\n",
       "    .dataframe tbody tr th {\n",
       "        vertical-align: top;\n",
       "    }\n",
       "\n",
       "    .dataframe thead th {\n",
       "        text-align: right;\n",
       "    }\n",
       "</style>\n",
       "<table border=\"1\" class=\"dataframe\">\n",
       "  <thead>\n",
       "    <tr style=\"text-align: right;\">\n",
       "      <th></th>\n",
       "      <th>Estado civil_Casado</th>\n",
       "      <th>Estado civil_Divorciado</th>\n",
       "      <th>Estado civil_Legalmente Separado</th>\n",
       "      <th>Estado civil_Solteiro</th>\n",
       "      <th>Estado civil_União Estável</th>\n",
       "      <th>Estado civil_Viúvo</th>\n",
       "      <th>Migração_Sim</th>\n",
       "      <th>Sexo_Masculino</th>\n",
       "      <th>Estrangeiro_Sim</th>\n",
       "      <th>Necessidades educacionais especiais_Sim</th>\n",
       "      <th>...</th>\n",
       "      <th>Qualificação prévia_Educação básica 3º ciclo (9º/10º/11º ano) ou equivalente</th>\n",
       "      <th>Qualificação prévia_Educação secundária</th>\n",
       "      <th>Qualificação prévia_Educação superior - bacharelado</th>\n",
       "      <th>Qualificação prévia_Educação superior - doutorado</th>\n",
       "      <th>Qualificação prévia_Educação superior - licenciatura</th>\n",
       "      <th>Qualificação prévia_Educação superior - licenciatura (1º ciclo)</th>\n",
       "      <th>Qualificação prévia_Educação superior - mestrado</th>\n",
       "      <th>Qualificação prévia_Educação superior - mestrado (2º ciclo)</th>\n",
       "      <th>Qualificação prévia_Frequência de educação superior</th>\n",
       "      <th>Qualificação prévia_Outro - 11º ano de escolaridade</th>\n",
       "    </tr>\n",
       "  </thead>\n",
       "  <tbody>\n",
       "    <tr>\n",
       "      <th>0</th>\n",
       "      <td>0.0</td>\n",
       "      <td>0.0</td>\n",
       "      <td>0.0</td>\n",
       "      <td>1.0</td>\n",
       "      <td>0.0</td>\n",
       "      <td>0.0</td>\n",
       "      <td>1.0</td>\n",
       "      <td>1.0</td>\n",
       "      <td>0.0</td>\n",
       "      <td>0.0</td>\n",
       "      <td>...</td>\n",
       "      <td>0.0</td>\n",
       "      <td>1.0</td>\n",
       "      <td>0.0</td>\n",
       "      <td>0.0</td>\n",
       "      <td>0.0</td>\n",
       "      <td>0.0</td>\n",
       "      <td>0.0</td>\n",
       "      <td>0.0</td>\n",
       "      <td>0.0</td>\n",
       "      <td>0.0</td>\n",
       "    </tr>\n",
       "    <tr>\n",
       "      <th>1</th>\n",
       "      <td>0.0</td>\n",
       "      <td>0.0</td>\n",
       "      <td>0.0</td>\n",
       "      <td>1.0</td>\n",
       "      <td>0.0</td>\n",
       "      <td>0.0</td>\n",
       "      <td>1.0</td>\n",
       "      <td>1.0</td>\n",
       "      <td>0.0</td>\n",
       "      <td>0.0</td>\n",
       "      <td>...</td>\n",
       "      <td>0.0</td>\n",
       "      <td>1.0</td>\n",
       "      <td>0.0</td>\n",
       "      <td>0.0</td>\n",
       "      <td>0.0</td>\n",
       "      <td>0.0</td>\n",
       "      <td>0.0</td>\n",
       "      <td>0.0</td>\n",
       "      <td>0.0</td>\n",
       "      <td>0.0</td>\n",
       "    </tr>\n",
       "    <tr>\n",
       "      <th>2</th>\n",
       "      <td>0.0</td>\n",
       "      <td>0.0</td>\n",
       "      <td>0.0</td>\n",
       "      <td>1.0</td>\n",
       "      <td>0.0</td>\n",
       "      <td>0.0</td>\n",
       "      <td>1.0</td>\n",
       "      <td>1.0</td>\n",
       "      <td>0.0</td>\n",
       "      <td>0.0</td>\n",
       "      <td>...</td>\n",
       "      <td>0.0</td>\n",
       "      <td>1.0</td>\n",
       "      <td>0.0</td>\n",
       "      <td>0.0</td>\n",
       "      <td>0.0</td>\n",
       "      <td>0.0</td>\n",
       "      <td>0.0</td>\n",
       "      <td>0.0</td>\n",
       "      <td>0.0</td>\n",
       "      <td>0.0</td>\n",
       "    </tr>\n",
       "    <tr>\n",
       "      <th>3</th>\n",
       "      <td>0.0</td>\n",
       "      <td>0.0</td>\n",
       "      <td>0.0</td>\n",
       "      <td>1.0</td>\n",
       "      <td>0.0</td>\n",
       "      <td>0.0</td>\n",
       "      <td>1.0</td>\n",
       "      <td>0.0</td>\n",
       "      <td>0.0</td>\n",
       "      <td>0.0</td>\n",
       "      <td>...</td>\n",
       "      <td>0.0</td>\n",
       "      <td>1.0</td>\n",
       "      <td>0.0</td>\n",
       "      <td>0.0</td>\n",
       "      <td>0.0</td>\n",
       "      <td>0.0</td>\n",
       "      <td>0.0</td>\n",
       "      <td>0.0</td>\n",
       "      <td>0.0</td>\n",
       "      <td>0.0</td>\n",
       "    </tr>\n",
       "    <tr>\n",
       "      <th>4</th>\n",
       "      <td>1.0</td>\n",
       "      <td>0.0</td>\n",
       "      <td>0.0</td>\n",
       "      <td>0.0</td>\n",
       "      <td>0.0</td>\n",
       "      <td>0.0</td>\n",
       "      <td>0.0</td>\n",
       "      <td>0.0</td>\n",
       "      <td>0.0</td>\n",
       "      <td>0.0</td>\n",
       "      <td>...</td>\n",
       "      <td>0.0</td>\n",
       "      <td>1.0</td>\n",
       "      <td>0.0</td>\n",
       "      <td>0.0</td>\n",
       "      <td>0.0</td>\n",
       "      <td>0.0</td>\n",
       "      <td>0.0</td>\n",
       "      <td>0.0</td>\n",
       "      <td>0.0</td>\n",
       "      <td>0.0</td>\n",
       "    </tr>\n",
       "    <tr>\n",
       "      <th>...</th>\n",
       "      <td>...</td>\n",
       "      <td>...</td>\n",
       "      <td>...</td>\n",
       "      <td>...</td>\n",
       "      <td>...</td>\n",
       "      <td>...</td>\n",
       "      <td>...</td>\n",
       "      <td>...</td>\n",
       "      <td>...</td>\n",
       "      <td>...</td>\n",
       "      <td>...</td>\n",
       "      <td>...</td>\n",
       "      <td>...</td>\n",
       "      <td>...</td>\n",
       "      <td>...</td>\n",
       "      <td>...</td>\n",
       "      <td>...</td>\n",
       "      <td>...</td>\n",
       "      <td>...</td>\n",
       "      <td>...</td>\n",
       "      <td>...</td>\n",
       "    </tr>\n",
       "    <tr>\n",
       "      <th>4419</th>\n",
       "      <td>0.0</td>\n",
       "      <td>0.0</td>\n",
       "      <td>0.0</td>\n",
       "      <td>1.0</td>\n",
       "      <td>0.0</td>\n",
       "      <td>0.0</td>\n",
       "      <td>0.0</td>\n",
       "      <td>1.0</td>\n",
       "      <td>0.0</td>\n",
       "      <td>0.0</td>\n",
       "      <td>...</td>\n",
       "      <td>0.0</td>\n",
       "      <td>1.0</td>\n",
       "      <td>0.0</td>\n",
       "      <td>0.0</td>\n",
       "      <td>0.0</td>\n",
       "      <td>0.0</td>\n",
       "      <td>0.0</td>\n",
       "      <td>0.0</td>\n",
       "      <td>0.0</td>\n",
       "      <td>0.0</td>\n",
       "    </tr>\n",
       "    <tr>\n",
       "      <th>4420</th>\n",
       "      <td>0.0</td>\n",
       "      <td>0.0</td>\n",
       "      <td>0.0</td>\n",
       "      <td>1.0</td>\n",
       "      <td>0.0</td>\n",
       "      <td>0.0</td>\n",
       "      <td>1.0</td>\n",
       "      <td>0.0</td>\n",
       "      <td>1.0</td>\n",
       "      <td>0.0</td>\n",
       "      <td>...</td>\n",
       "      <td>0.0</td>\n",
       "      <td>1.0</td>\n",
       "      <td>0.0</td>\n",
       "      <td>0.0</td>\n",
       "      <td>0.0</td>\n",
       "      <td>0.0</td>\n",
       "      <td>0.0</td>\n",
       "      <td>0.0</td>\n",
       "      <td>0.0</td>\n",
       "      <td>0.0</td>\n",
       "    </tr>\n",
       "    <tr>\n",
       "      <th>4421</th>\n",
       "      <td>0.0</td>\n",
       "      <td>0.0</td>\n",
       "      <td>0.0</td>\n",
       "      <td>1.0</td>\n",
       "      <td>0.0</td>\n",
       "      <td>0.0</td>\n",
       "      <td>1.0</td>\n",
       "      <td>0.0</td>\n",
       "      <td>0.0</td>\n",
       "      <td>0.0</td>\n",
       "      <td>...</td>\n",
       "      <td>0.0</td>\n",
       "      <td>1.0</td>\n",
       "      <td>0.0</td>\n",
       "      <td>0.0</td>\n",
       "      <td>0.0</td>\n",
       "      <td>0.0</td>\n",
       "      <td>0.0</td>\n",
       "      <td>0.0</td>\n",
       "      <td>0.0</td>\n",
       "      <td>0.0</td>\n",
       "    </tr>\n",
       "    <tr>\n",
       "      <th>4422</th>\n",
       "      <td>0.0</td>\n",
       "      <td>0.0</td>\n",
       "      <td>0.0</td>\n",
       "      <td>1.0</td>\n",
       "      <td>0.0</td>\n",
       "      <td>0.0</td>\n",
       "      <td>1.0</td>\n",
       "      <td>0.0</td>\n",
       "      <td>0.0</td>\n",
       "      <td>0.0</td>\n",
       "      <td>...</td>\n",
       "      <td>0.0</td>\n",
       "      <td>1.0</td>\n",
       "      <td>0.0</td>\n",
       "      <td>0.0</td>\n",
       "      <td>0.0</td>\n",
       "      <td>0.0</td>\n",
       "      <td>0.0</td>\n",
       "      <td>0.0</td>\n",
       "      <td>0.0</td>\n",
       "      <td>0.0</td>\n",
       "    </tr>\n",
       "    <tr>\n",
       "      <th>4423</th>\n",
       "      <td>0.0</td>\n",
       "      <td>0.0</td>\n",
       "      <td>0.0</td>\n",
       "      <td>1.0</td>\n",
       "      <td>0.0</td>\n",
       "      <td>0.0</td>\n",
       "      <td>1.0</td>\n",
       "      <td>0.0</td>\n",
       "      <td>1.0</td>\n",
       "      <td>0.0</td>\n",
       "      <td>...</td>\n",
       "      <td>0.0</td>\n",
       "      <td>1.0</td>\n",
       "      <td>0.0</td>\n",
       "      <td>0.0</td>\n",
       "      <td>0.0</td>\n",
       "      <td>0.0</td>\n",
       "      <td>0.0</td>\n",
       "      <td>0.0</td>\n",
       "      <td>0.0</td>\n",
       "      <td>0.0</td>\n",
       "    </tr>\n",
       "  </tbody>\n",
       "</table>\n",
       "<p>4424 rows × 48 columns</p>\n",
       "</div>"
      ],
      "text/plain": [
       "      Estado civil_Casado  Estado civil_Divorciado  \\\n",
       "0                     0.0                      0.0   \n",
       "1                     0.0                      0.0   \n",
       "2                     0.0                      0.0   \n",
       "3                     0.0                      0.0   \n",
       "4                     1.0                      0.0   \n",
       "...                   ...                      ...   \n",
       "4419                  0.0                      0.0   \n",
       "4420                  0.0                      0.0   \n",
       "4421                  0.0                      0.0   \n",
       "4422                  0.0                      0.0   \n",
       "4423                  0.0                      0.0   \n",
       "\n",
       "      Estado civil_Legalmente Separado  Estado civil_Solteiro  \\\n",
       "0                                  0.0                    1.0   \n",
       "1                                  0.0                    1.0   \n",
       "2                                  0.0                    1.0   \n",
       "3                                  0.0                    1.0   \n",
       "4                                  0.0                    0.0   \n",
       "...                                ...                    ...   \n",
       "4419                               0.0                    1.0   \n",
       "4420                               0.0                    1.0   \n",
       "4421                               0.0                    1.0   \n",
       "4422                               0.0                    1.0   \n",
       "4423                               0.0                    1.0   \n",
       "\n",
       "      Estado civil_União Estável  Estado civil_Viúvo  Migração_Sim  \\\n",
       "0                            0.0                 0.0           1.0   \n",
       "1                            0.0                 0.0           1.0   \n",
       "2                            0.0                 0.0           1.0   \n",
       "3                            0.0                 0.0           1.0   \n",
       "4                            0.0                 0.0           0.0   \n",
       "...                          ...                 ...           ...   \n",
       "4419                         0.0                 0.0           0.0   \n",
       "4420                         0.0                 0.0           1.0   \n",
       "4421                         0.0                 0.0           1.0   \n",
       "4422                         0.0                 0.0           1.0   \n",
       "4423                         0.0                 0.0           1.0   \n",
       "\n",
       "      Sexo_Masculino  Estrangeiro_Sim  \\\n",
       "0                1.0              0.0   \n",
       "1                1.0              0.0   \n",
       "2                1.0              0.0   \n",
       "3                0.0              0.0   \n",
       "4                0.0              0.0   \n",
       "...              ...              ...   \n",
       "4419             1.0              0.0   \n",
       "4420             0.0              1.0   \n",
       "4421             0.0              0.0   \n",
       "4422             0.0              0.0   \n",
       "4423             0.0              1.0   \n",
       "\n",
       "      Necessidades educacionais especiais_Sim  ...  \\\n",
       "0                                         0.0  ...   \n",
       "1                                         0.0  ...   \n",
       "2                                         0.0  ...   \n",
       "3                                         0.0  ...   \n",
       "4                                         0.0  ...   \n",
       "...                                       ...  ...   \n",
       "4419                                      0.0  ...   \n",
       "4420                                      0.0  ...   \n",
       "4421                                      0.0  ...   \n",
       "4422                                      0.0  ...   \n",
       "4423                                      0.0  ...   \n",
       "\n",
       "      Qualificação prévia_Educação básica 3º ciclo (9º/10º/11º ano) ou equivalente  \\\n",
       "0                                                   0.0                              \n",
       "1                                                   0.0                              \n",
       "2                                                   0.0                              \n",
       "3                                                   0.0                              \n",
       "4                                                   0.0                              \n",
       "...                                                 ...                              \n",
       "4419                                                0.0                              \n",
       "4420                                                0.0                              \n",
       "4421                                                0.0                              \n",
       "4422                                                0.0                              \n",
       "4423                                                0.0                              \n",
       "\n",
       "      Qualificação prévia_Educação secundária  \\\n",
       "0                                         1.0   \n",
       "1                                         1.0   \n",
       "2                                         1.0   \n",
       "3                                         1.0   \n",
       "4                                         1.0   \n",
       "...                                       ...   \n",
       "4419                                      1.0   \n",
       "4420                                      1.0   \n",
       "4421                                      1.0   \n",
       "4422                                      1.0   \n",
       "4423                                      1.0   \n",
       "\n",
       "      Qualificação prévia_Educação superior - bacharelado  \\\n",
       "0                                                   0.0     \n",
       "1                                                   0.0     \n",
       "2                                                   0.0     \n",
       "3                                                   0.0     \n",
       "4                                                   0.0     \n",
       "...                                                 ...     \n",
       "4419                                                0.0     \n",
       "4420                                                0.0     \n",
       "4421                                                0.0     \n",
       "4422                                                0.0     \n",
       "4423                                                0.0     \n",
       "\n",
       "      Qualificação prévia_Educação superior - doutorado  \\\n",
       "0                                                   0.0   \n",
       "1                                                   0.0   \n",
       "2                                                   0.0   \n",
       "3                                                   0.0   \n",
       "4                                                   0.0   \n",
       "...                                                 ...   \n",
       "4419                                                0.0   \n",
       "4420                                                0.0   \n",
       "4421                                                0.0   \n",
       "4422                                                0.0   \n",
       "4423                                                0.0   \n",
       "\n",
       "      Qualificação prévia_Educação superior - licenciatura  \\\n",
       "0                                                   0.0      \n",
       "1                                                   0.0      \n",
       "2                                                   0.0      \n",
       "3                                                   0.0      \n",
       "4                                                   0.0      \n",
       "...                                                 ...      \n",
       "4419                                                0.0      \n",
       "4420                                                0.0      \n",
       "4421                                                0.0      \n",
       "4422                                                0.0      \n",
       "4423                                                0.0      \n",
       "\n",
       "      Qualificação prévia_Educação superior - licenciatura (1º ciclo)  \\\n",
       "0                                                   0.0                 \n",
       "1                                                   0.0                 \n",
       "2                                                   0.0                 \n",
       "3                                                   0.0                 \n",
       "4                                                   0.0                 \n",
       "...                                                 ...                 \n",
       "4419                                                0.0                 \n",
       "4420                                                0.0                 \n",
       "4421                                                0.0                 \n",
       "4422                                                0.0                 \n",
       "4423                                                0.0                 \n",
       "\n",
       "      Qualificação prévia_Educação superior - mestrado  \\\n",
       "0                                                  0.0   \n",
       "1                                                  0.0   \n",
       "2                                                  0.0   \n",
       "3                                                  0.0   \n",
       "4                                                  0.0   \n",
       "...                                                ...   \n",
       "4419                                               0.0   \n",
       "4420                                               0.0   \n",
       "4421                                               0.0   \n",
       "4422                                               0.0   \n",
       "4423                                               0.0   \n",
       "\n",
       "      Qualificação prévia_Educação superior - mestrado (2º ciclo)  \\\n",
       "0                                                   0.0             \n",
       "1                                                   0.0             \n",
       "2                                                   0.0             \n",
       "3                                                   0.0             \n",
       "4                                                   0.0             \n",
       "...                                                 ...             \n",
       "4419                                                0.0             \n",
       "4420                                                0.0             \n",
       "4421                                                0.0             \n",
       "4422                                                0.0             \n",
       "4423                                                0.0             \n",
       "\n",
       "      Qualificação prévia_Frequência de educação superior  \\\n",
       "0                                                   0.0     \n",
       "1                                                   0.0     \n",
       "2                                                   0.0     \n",
       "3                                                   0.0     \n",
       "4                                                   0.0     \n",
       "...                                                 ...     \n",
       "4419                                                0.0     \n",
       "4420                                                0.0     \n",
       "4421                                                0.0     \n",
       "4422                                                0.0     \n",
       "4423                                                0.0     \n",
       "\n",
       "      Qualificação prévia_Outro - 11º ano de escolaridade  \n",
       "0                                                   0.0    \n",
       "1                                                   0.0    \n",
       "2                                                   0.0    \n",
       "3                                                   0.0    \n",
       "4                                                   0.0    \n",
       "...                                                 ...    \n",
       "4419                                                0.0    \n",
       "4420                                                0.0    \n",
       "4421                                                0.0    \n",
       "4422                                                0.0    \n",
       "4423                                                0.0    \n",
       "\n",
       "[4424 rows x 48 columns]"
      ]
     },
     "execution_count": 31,
     "metadata": {},
     "output_type": "execute_result"
    }
   ],
   "source": [
    "df_enconded = pd.DataFrame(encoder.fit_transform(data[colunas_categoricas]).toarray(),\n",
    "                             columns=encoder.get_feature_names_out(colunas_categoricas))\n",
    "df_enconded"
   ]
  },
  {
   "cell_type": "code",
   "execution_count": 32,
   "metadata": {},
   "outputs": [
    {
     "data": {
      "text/html": [
       "<div>\n",
       "<style scoped>\n",
       "    .dataframe tbody tr th:only-of-type {\n",
       "        vertical-align: middle;\n",
       "    }\n",
       "\n",
       "    .dataframe tbody tr th {\n",
       "        vertical-align: top;\n",
       "    }\n",
       "\n",
       "    .dataframe thead th {\n",
       "        text-align: right;\n",
       "    }\n",
       "</style>\n",
       "<table border=\"1\" class=\"dataframe\">\n",
       "  <thead>\n",
       "    <tr style=\"text-align: right;\">\n",
       "      <th></th>\n",
       "      <th>Idade na matrícula</th>\n",
       "      <th>Taxa de desemprego</th>\n",
       "      <th>Taxa de inflação</th>\n",
       "      <th>PIB</th>\n",
       "      <th>disciplinas 1º semestre (creditadas)</th>\n",
       "      <th>disciplinas 1º semestre (matriculadas)</th>\n",
       "      <th>disciplinas 1º semestre (avaliações)</th>\n",
       "      <th>disciplinas 1º semestre (aprovadas)</th>\n",
       "      <th>disciplinas 1º semestre (notas)</th>\n",
       "      <th>disciplinas 1º semestre (sem avaliações)</th>\n",
       "      <th>...</th>\n",
       "      <th>Qualificação prévia_Educação básica 3º ciclo (9º/10º/11º ano) ou equivalente</th>\n",
       "      <th>Qualificação prévia_Educação secundária</th>\n",
       "      <th>Qualificação prévia_Educação superior - bacharelado</th>\n",
       "      <th>Qualificação prévia_Educação superior - doutorado</th>\n",
       "      <th>Qualificação prévia_Educação superior - licenciatura</th>\n",
       "      <th>Qualificação prévia_Educação superior - licenciatura (1º ciclo)</th>\n",
       "      <th>Qualificação prévia_Educação superior - mestrado</th>\n",
       "      <th>Qualificação prévia_Educação superior - mestrado (2º ciclo)</th>\n",
       "      <th>Qualificação prévia_Frequência de educação superior</th>\n",
       "      <th>Qualificação prévia_Outro - 11º ano de escolaridade</th>\n",
       "    </tr>\n",
       "  </thead>\n",
       "  <tbody>\n",
       "    <tr>\n",
       "      <th>0</th>\n",
       "      <td>20</td>\n",
       "      <td>10.8</td>\n",
       "      <td>1.4</td>\n",
       "      <td>1.74</td>\n",
       "      <td>0</td>\n",
       "      <td>0</td>\n",
       "      <td>0</td>\n",
       "      <td>0</td>\n",
       "      <td>0.000000</td>\n",
       "      <td>0</td>\n",
       "      <td>...</td>\n",
       "      <td>0.0</td>\n",
       "      <td>1.0</td>\n",
       "      <td>0.0</td>\n",
       "      <td>0.0</td>\n",
       "      <td>0.0</td>\n",
       "      <td>0.0</td>\n",
       "      <td>0.0</td>\n",
       "      <td>0.0</td>\n",
       "      <td>0.0</td>\n",
       "      <td>0.0</td>\n",
       "    </tr>\n",
       "    <tr>\n",
       "      <th>1</th>\n",
       "      <td>19</td>\n",
       "      <td>13.9</td>\n",
       "      <td>-0.3</td>\n",
       "      <td>0.79</td>\n",
       "      <td>0</td>\n",
       "      <td>6</td>\n",
       "      <td>6</td>\n",
       "      <td>6</td>\n",
       "      <td>14.000000</td>\n",
       "      <td>0</td>\n",
       "      <td>...</td>\n",
       "      <td>0.0</td>\n",
       "      <td>1.0</td>\n",
       "      <td>0.0</td>\n",
       "      <td>0.0</td>\n",
       "      <td>0.0</td>\n",
       "      <td>0.0</td>\n",
       "      <td>0.0</td>\n",
       "      <td>0.0</td>\n",
       "      <td>0.0</td>\n",
       "      <td>0.0</td>\n",
       "    </tr>\n",
       "    <tr>\n",
       "      <th>2</th>\n",
       "      <td>19</td>\n",
       "      <td>10.8</td>\n",
       "      <td>1.4</td>\n",
       "      <td>1.74</td>\n",
       "      <td>0</td>\n",
       "      <td>6</td>\n",
       "      <td>0</td>\n",
       "      <td>0</td>\n",
       "      <td>0.000000</td>\n",
       "      <td>0</td>\n",
       "      <td>...</td>\n",
       "      <td>0.0</td>\n",
       "      <td>1.0</td>\n",
       "      <td>0.0</td>\n",
       "      <td>0.0</td>\n",
       "      <td>0.0</td>\n",
       "      <td>0.0</td>\n",
       "      <td>0.0</td>\n",
       "      <td>0.0</td>\n",
       "      <td>0.0</td>\n",
       "      <td>0.0</td>\n",
       "    </tr>\n",
       "    <tr>\n",
       "      <th>3</th>\n",
       "      <td>20</td>\n",
       "      <td>9.4</td>\n",
       "      <td>-0.8</td>\n",
       "      <td>-3.12</td>\n",
       "      <td>0</td>\n",
       "      <td>6</td>\n",
       "      <td>8</td>\n",
       "      <td>6</td>\n",
       "      <td>13.428571</td>\n",
       "      <td>0</td>\n",
       "      <td>...</td>\n",
       "      <td>0.0</td>\n",
       "      <td>1.0</td>\n",
       "      <td>0.0</td>\n",
       "      <td>0.0</td>\n",
       "      <td>0.0</td>\n",
       "      <td>0.0</td>\n",
       "      <td>0.0</td>\n",
       "      <td>0.0</td>\n",
       "      <td>0.0</td>\n",
       "      <td>0.0</td>\n",
       "    </tr>\n",
       "    <tr>\n",
       "      <th>4</th>\n",
       "      <td>45</td>\n",
       "      <td>13.9</td>\n",
       "      <td>-0.3</td>\n",
       "      <td>0.79</td>\n",
       "      <td>0</td>\n",
       "      <td>6</td>\n",
       "      <td>9</td>\n",
       "      <td>5</td>\n",
       "      <td>12.333333</td>\n",
       "      <td>0</td>\n",
       "      <td>...</td>\n",
       "      <td>0.0</td>\n",
       "      <td>1.0</td>\n",
       "      <td>0.0</td>\n",
       "      <td>0.0</td>\n",
       "      <td>0.0</td>\n",
       "      <td>0.0</td>\n",
       "      <td>0.0</td>\n",
       "      <td>0.0</td>\n",
       "      <td>0.0</td>\n",
       "      <td>0.0</td>\n",
       "    </tr>\n",
       "    <tr>\n",
       "      <th>...</th>\n",
       "      <td>...</td>\n",
       "      <td>...</td>\n",
       "      <td>...</td>\n",
       "      <td>...</td>\n",
       "      <td>...</td>\n",
       "      <td>...</td>\n",
       "      <td>...</td>\n",
       "      <td>...</td>\n",
       "      <td>...</td>\n",
       "      <td>...</td>\n",
       "      <td>...</td>\n",
       "      <td>...</td>\n",
       "      <td>...</td>\n",
       "      <td>...</td>\n",
       "      <td>...</td>\n",
       "      <td>...</td>\n",
       "      <td>...</td>\n",
       "      <td>...</td>\n",
       "      <td>...</td>\n",
       "      <td>...</td>\n",
       "      <td>...</td>\n",
       "    </tr>\n",
       "    <tr>\n",
       "      <th>4419</th>\n",
       "      <td>19</td>\n",
       "      <td>15.5</td>\n",
       "      <td>2.8</td>\n",
       "      <td>-4.06</td>\n",
       "      <td>0</td>\n",
       "      <td>6</td>\n",
       "      <td>7</td>\n",
       "      <td>5</td>\n",
       "      <td>13.600000</td>\n",
       "      <td>0</td>\n",
       "      <td>...</td>\n",
       "      <td>0.0</td>\n",
       "      <td>1.0</td>\n",
       "      <td>0.0</td>\n",
       "      <td>0.0</td>\n",
       "      <td>0.0</td>\n",
       "      <td>0.0</td>\n",
       "      <td>0.0</td>\n",
       "      <td>0.0</td>\n",
       "      <td>0.0</td>\n",
       "      <td>0.0</td>\n",
       "    </tr>\n",
       "    <tr>\n",
       "      <th>4420</th>\n",
       "      <td>18</td>\n",
       "      <td>11.1</td>\n",
       "      <td>0.6</td>\n",
       "      <td>2.02</td>\n",
       "      <td>0</td>\n",
       "      <td>6</td>\n",
       "      <td>6</td>\n",
       "      <td>6</td>\n",
       "      <td>12.000000</td>\n",
       "      <td>0</td>\n",
       "      <td>...</td>\n",
       "      <td>0.0</td>\n",
       "      <td>1.0</td>\n",
       "      <td>0.0</td>\n",
       "      <td>0.0</td>\n",
       "      <td>0.0</td>\n",
       "      <td>0.0</td>\n",
       "      <td>0.0</td>\n",
       "      <td>0.0</td>\n",
       "      <td>0.0</td>\n",
       "      <td>0.0</td>\n",
       "    </tr>\n",
       "    <tr>\n",
       "      <th>4421</th>\n",
       "      <td>30</td>\n",
       "      <td>13.9</td>\n",
       "      <td>-0.3</td>\n",
       "      <td>0.79</td>\n",
       "      <td>0</td>\n",
       "      <td>7</td>\n",
       "      <td>8</td>\n",
       "      <td>7</td>\n",
       "      <td>14.912500</td>\n",
       "      <td>0</td>\n",
       "      <td>...</td>\n",
       "      <td>0.0</td>\n",
       "      <td>1.0</td>\n",
       "      <td>0.0</td>\n",
       "      <td>0.0</td>\n",
       "      <td>0.0</td>\n",
       "      <td>0.0</td>\n",
       "      <td>0.0</td>\n",
       "      <td>0.0</td>\n",
       "      <td>0.0</td>\n",
       "      <td>0.0</td>\n",
       "    </tr>\n",
       "    <tr>\n",
       "      <th>4422</th>\n",
       "      <td>20</td>\n",
       "      <td>9.4</td>\n",
       "      <td>-0.8</td>\n",
       "      <td>-3.12</td>\n",
       "      <td>0</td>\n",
       "      <td>5</td>\n",
       "      <td>5</td>\n",
       "      <td>5</td>\n",
       "      <td>13.800000</td>\n",
       "      <td>0</td>\n",
       "      <td>...</td>\n",
       "      <td>0.0</td>\n",
       "      <td>1.0</td>\n",
       "      <td>0.0</td>\n",
       "      <td>0.0</td>\n",
       "      <td>0.0</td>\n",
       "      <td>0.0</td>\n",
       "      <td>0.0</td>\n",
       "      <td>0.0</td>\n",
       "      <td>0.0</td>\n",
       "      <td>0.0</td>\n",
       "    </tr>\n",
       "    <tr>\n",
       "      <th>4423</th>\n",
       "      <td>22</td>\n",
       "      <td>12.7</td>\n",
       "      <td>3.7</td>\n",
       "      <td>-1.70</td>\n",
       "      <td>0</td>\n",
       "      <td>6</td>\n",
       "      <td>8</td>\n",
       "      <td>6</td>\n",
       "      <td>11.666667</td>\n",
       "      <td>0</td>\n",
       "      <td>...</td>\n",
       "      <td>0.0</td>\n",
       "      <td>1.0</td>\n",
       "      <td>0.0</td>\n",
       "      <td>0.0</td>\n",
       "      <td>0.0</td>\n",
       "      <td>0.0</td>\n",
       "      <td>0.0</td>\n",
       "      <td>0.0</td>\n",
       "      <td>0.0</td>\n",
       "      <td>0.0</td>\n",
       "    </tr>\n",
       "  </tbody>\n",
       "</table>\n",
       "<p>4424 rows × 65 columns</p>\n",
       "</div>"
      ],
      "text/plain": [
       "      Idade na matrícula  Taxa de desemprego  Taxa de inflação   PIB  \\\n",
       "0                     20                10.8               1.4  1.74   \n",
       "1                     19                13.9              -0.3  0.79   \n",
       "2                     19                10.8               1.4  1.74   \n",
       "3                     20                 9.4              -0.8 -3.12   \n",
       "4                     45                13.9              -0.3  0.79   \n",
       "...                  ...                 ...               ...   ...   \n",
       "4419                  19                15.5               2.8 -4.06   \n",
       "4420                  18                11.1               0.6  2.02   \n",
       "4421                  30                13.9              -0.3  0.79   \n",
       "4422                  20                 9.4              -0.8 -3.12   \n",
       "4423                  22                12.7               3.7 -1.70   \n",
       "\n",
       "      disciplinas 1º semestre (creditadas)  \\\n",
       "0                                        0   \n",
       "1                                        0   \n",
       "2                                        0   \n",
       "3                                        0   \n",
       "4                                        0   \n",
       "...                                    ...   \n",
       "4419                                     0   \n",
       "4420                                     0   \n",
       "4421                                     0   \n",
       "4422                                     0   \n",
       "4423                                     0   \n",
       "\n",
       "      disciplinas 1º semestre (matriculadas)  \\\n",
       "0                                          0   \n",
       "1                                          6   \n",
       "2                                          6   \n",
       "3                                          6   \n",
       "4                                          6   \n",
       "...                                      ...   \n",
       "4419                                       6   \n",
       "4420                                       6   \n",
       "4421                                       7   \n",
       "4422                                       5   \n",
       "4423                                       6   \n",
       "\n",
       "      disciplinas 1º semestre (avaliações)  \\\n",
       "0                                        0   \n",
       "1                                        6   \n",
       "2                                        0   \n",
       "3                                        8   \n",
       "4                                        9   \n",
       "...                                    ...   \n",
       "4419                                     7   \n",
       "4420                                     6   \n",
       "4421                                     8   \n",
       "4422                                     5   \n",
       "4423                                     8   \n",
       "\n",
       "      disciplinas 1º semestre (aprovadas)  disciplinas 1º semestre (notas)  \\\n",
       "0                                       0                         0.000000   \n",
       "1                                       6                        14.000000   \n",
       "2                                       0                         0.000000   \n",
       "3                                       6                        13.428571   \n",
       "4                                       5                        12.333333   \n",
       "...                                   ...                              ...   \n",
       "4419                                    5                        13.600000   \n",
       "4420                                    6                        12.000000   \n",
       "4421                                    7                        14.912500   \n",
       "4422                                    5                        13.800000   \n",
       "4423                                    6                        11.666667   \n",
       "\n",
       "      disciplinas 1º semestre (sem avaliações)  ...  \\\n",
       "0                                            0  ...   \n",
       "1                                            0  ...   \n",
       "2                                            0  ...   \n",
       "3                                            0  ...   \n",
       "4                                            0  ...   \n",
       "...                                        ...  ...   \n",
       "4419                                         0  ...   \n",
       "4420                                         0  ...   \n",
       "4421                                         0  ...   \n",
       "4422                                         0  ...   \n",
       "4423                                         0  ...   \n",
       "\n",
       "      Qualificação prévia_Educação básica 3º ciclo (9º/10º/11º ano) ou equivalente  \\\n",
       "0                                                   0.0                              \n",
       "1                                                   0.0                              \n",
       "2                                                   0.0                              \n",
       "3                                                   0.0                              \n",
       "4                                                   0.0                              \n",
       "...                                                 ...                              \n",
       "4419                                                0.0                              \n",
       "4420                                                0.0                              \n",
       "4421                                                0.0                              \n",
       "4422                                                0.0                              \n",
       "4423                                                0.0                              \n",
       "\n",
       "      Qualificação prévia_Educação secundária  \\\n",
       "0                                         1.0   \n",
       "1                                         1.0   \n",
       "2                                         1.0   \n",
       "3                                         1.0   \n",
       "4                                         1.0   \n",
       "...                                       ...   \n",
       "4419                                      1.0   \n",
       "4420                                      1.0   \n",
       "4421                                      1.0   \n",
       "4422                                      1.0   \n",
       "4423                                      1.0   \n",
       "\n",
       "      Qualificação prévia_Educação superior - bacharelado  \\\n",
       "0                                                   0.0     \n",
       "1                                                   0.0     \n",
       "2                                                   0.0     \n",
       "3                                                   0.0     \n",
       "4                                                   0.0     \n",
       "...                                                 ...     \n",
       "4419                                                0.0     \n",
       "4420                                                0.0     \n",
       "4421                                                0.0     \n",
       "4422                                                0.0     \n",
       "4423                                                0.0     \n",
       "\n",
       "      Qualificação prévia_Educação superior - doutorado  \\\n",
       "0                                                   0.0   \n",
       "1                                                   0.0   \n",
       "2                                                   0.0   \n",
       "3                                                   0.0   \n",
       "4                                                   0.0   \n",
       "...                                                 ...   \n",
       "4419                                                0.0   \n",
       "4420                                                0.0   \n",
       "4421                                                0.0   \n",
       "4422                                                0.0   \n",
       "4423                                                0.0   \n",
       "\n",
       "      Qualificação prévia_Educação superior - licenciatura  \\\n",
       "0                                                   0.0      \n",
       "1                                                   0.0      \n",
       "2                                                   0.0      \n",
       "3                                                   0.0      \n",
       "4                                                   0.0      \n",
       "...                                                 ...      \n",
       "4419                                                0.0      \n",
       "4420                                                0.0      \n",
       "4421                                                0.0      \n",
       "4422                                                0.0      \n",
       "4423                                                0.0      \n",
       "\n",
       "      Qualificação prévia_Educação superior - licenciatura (1º ciclo)  \\\n",
       "0                                                   0.0                 \n",
       "1                                                   0.0                 \n",
       "2                                                   0.0                 \n",
       "3                                                   0.0                 \n",
       "4                                                   0.0                 \n",
       "...                                                 ...                 \n",
       "4419                                                0.0                 \n",
       "4420                                                0.0                 \n",
       "4421                                                0.0                 \n",
       "4422                                                0.0                 \n",
       "4423                                                0.0                 \n",
       "\n",
       "     Qualificação prévia_Educação superior - mestrado  \\\n",
       "0                                                 0.0   \n",
       "1                                                 0.0   \n",
       "2                                                 0.0   \n",
       "3                                                 0.0   \n",
       "4                                                 0.0   \n",
       "...                                               ...   \n",
       "4419                                              0.0   \n",
       "4420                                              0.0   \n",
       "4421                                              0.0   \n",
       "4422                                              0.0   \n",
       "4423                                              0.0   \n",
       "\n",
       "      Qualificação prévia_Educação superior - mestrado (2º ciclo)  \\\n",
       "0                                                   0.0             \n",
       "1                                                   0.0             \n",
       "2                                                   0.0             \n",
       "3                                                   0.0             \n",
       "4                                                   0.0             \n",
       "...                                                 ...             \n",
       "4419                                                0.0             \n",
       "4420                                                0.0             \n",
       "4421                                                0.0             \n",
       "4422                                                0.0             \n",
       "4423                                                0.0             \n",
       "\n",
       "      Qualificação prévia_Frequência de educação superior  \\\n",
       "0                                                   0.0     \n",
       "1                                                   0.0     \n",
       "2                                                   0.0     \n",
       "3                                                   0.0     \n",
       "4                                                   0.0     \n",
       "...                                                 ...     \n",
       "4419                                                0.0     \n",
       "4420                                                0.0     \n",
       "4421                                                0.0     \n",
       "4422                                                0.0     \n",
       "4423                                                0.0     \n",
       "\n",
       "      Qualificação prévia_Outro - 11º ano de escolaridade  \n",
       "0                                                   0.0    \n",
       "1                                                   0.0    \n",
       "2                                                   0.0    \n",
       "3                                                   0.0    \n",
       "4                                                   0.0    \n",
       "...                                                 ...    \n",
       "4419                                                0.0    \n",
       "4420                                                0.0    \n",
       "4421                                                0.0    \n",
       "4422                                                0.0    \n",
       "4423                                                0.0    \n",
       "\n",
       "[4424 rows x 65 columns]"
      ]
     },
     "execution_count": 32,
     "metadata": {},
     "output_type": "execute_result"
    }
   ],
   "source": [
    "df_not_encoded = data.drop(columns=colunas_categoricas)\n",
    "df_1_all_binary = pd.concat([df_not_encoded, df_enconded], axis=1)\n",
    "df_1_all_binary"
   ]
  },
  {
   "cell_type": "markdown",
   "metadata": {},
   "source": [
    "Exportando o dataframe para facilitar os futuros carregamentos"
   ]
  },
  {
   "cell_type": "code",
   "execution_count": 33,
   "metadata": {},
   "outputs": [],
   "source": [
    "df_1_all_binary.to_csv('df_tratado.csv', index=False)"
   ]
  },
  {
   "cell_type": "code",
   "execution_count": 1,
   "metadata": {},
   "outputs": [
    {
     "ename": "NameError",
     "evalue": "name 'sns' is not defined",
     "output_type": "error",
     "traceback": [
      "\u001b[1;31m---------------------------------------------------------------------------\u001b[0m",
      "\u001b[1;31mNameError\u001b[0m                                 Traceback (most recent call last)",
      "Cell \u001b[1;32mIn[1], line 1\u001b[0m\n\u001b[1;32m----> 1\u001b[0m \u001b[43msns\u001b[49m\u001b[38;5;241m.\u001b[39mcountplot(data, x\u001b[38;5;241m=\u001b[39m\u001b[38;5;124m'\u001b[39m\u001b[38;5;124mMigração\u001b[39m\u001b[38;5;124m'\u001b[39m, hue\u001b[38;5;241m=\u001b[39m\u001b[38;5;124m'\u001b[39m\u001b[38;5;124mTarget\u001b[39m\u001b[38;5;124m'\u001b[39m)\n",
      "\u001b[1;31mNameError\u001b[0m: name 'sns' is not defined"
     ]
    }
   ],
   "source": []
  },
  {
   "cell_type": "code",
   "execution_count": null,
   "metadata": {},
   "outputs": [],
   "source": []
  }
 ],
 "metadata": {
  "kernelspec": {
   "display_name": "Python 3",
   "language": "python",
   "name": "python3"
  },
  "language_info": {
   "codemirror_mode": {
    "name": "ipython",
    "version": 3
   },
   "file_extension": ".py",
   "mimetype": "text/x-python",
   "name": "python",
   "nbconvert_exporter": "python",
   "pygments_lexer": "ipython3",
   "version": "3.12.4"
  }
 },
 "nbformat": 4,
 "nbformat_minor": 2
}
