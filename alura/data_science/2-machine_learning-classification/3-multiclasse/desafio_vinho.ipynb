{
 "cells": [
  {
   "cell_type": "markdown",
   "metadata": {},
   "source": [
    "1. Ler a URL utilizando a biblioteca pandas e armazenar os dados em uma variável."
   ]
  },
  {
   "cell_type": "code",
   "execution_count": 2,
   "metadata": {},
   "outputs": [],
   "source": [
    "import pandas as pd"
   ]
  },
  {
   "cell_type": "code",
   "execution_count": 3,
   "metadata": {},
   "outputs": [
    {
     "data": {
      "text/html": [
       "<div>\n",
       "<style scoped>\n",
       "    .dataframe tbody tr th:only-of-type {\n",
       "        vertical-align: middle;\n",
       "    }\n",
       "\n",
       "    .dataframe tbody tr th {\n",
       "        vertical-align: top;\n",
       "    }\n",
       "\n",
       "    .dataframe thead th {\n",
       "        text-align: right;\n",
       "    }\n",
       "</style>\n",
       "<table border=\"1\" class=\"dataframe\">\n",
       "  <thead>\n",
       "    <tr style=\"text-align: right;\">\n",
       "      <th></th>\n",
       "      <th>acidez fixa</th>\n",
       "      <th>acidez volátil</th>\n",
       "      <th>ácido cítrico</th>\n",
       "      <th>açúcar residual</th>\n",
       "      <th>cloretos</th>\n",
       "      <th>dióxido de enxofre livre</th>\n",
       "      <th>dióxido de enxofre total</th>\n",
       "      <th>densidade</th>\n",
       "      <th>pH</th>\n",
       "      <th>sulfatos</th>\n",
       "      <th>álcool</th>\n",
       "      <th>qualidade</th>\n",
       "    </tr>\n",
       "  </thead>\n",
       "  <tbody>\n",
       "    <tr>\n",
       "      <th>0</th>\n",
       "      <td>7.4</td>\n",
       "      <td>0.700</td>\n",
       "      <td>0.00</td>\n",
       "      <td>1.9</td>\n",
       "      <td>0.076</td>\n",
       "      <td>11.0</td>\n",
       "      <td>34.0</td>\n",
       "      <td>0.99780</td>\n",
       "      <td>3.51</td>\n",
       "      <td>0.56</td>\n",
       "      <td>9.4</td>\n",
       "      <td>mediano</td>\n",
       "    </tr>\n",
       "    <tr>\n",
       "      <th>1</th>\n",
       "      <td>7.8</td>\n",
       "      <td>0.880</td>\n",
       "      <td>0.00</td>\n",
       "      <td>2.6</td>\n",
       "      <td>0.098</td>\n",
       "      <td>25.0</td>\n",
       "      <td>67.0</td>\n",
       "      <td>0.99680</td>\n",
       "      <td>3.20</td>\n",
       "      <td>0.68</td>\n",
       "      <td>9.8</td>\n",
       "      <td>mediano</td>\n",
       "    </tr>\n",
       "    <tr>\n",
       "      <th>2</th>\n",
       "      <td>7.8</td>\n",
       "      <td>0.760</td>\n",
       "      <td>0.04</td>\n",
       "      <td>2.3</td>\n",
       "      <td>0.092</td>\n",
       "      <td>15.0</td>\n",
       "      <td>54.0</td>\n",
       "      <td>0.99700</td>\n",
       "      <td>3.26</td>\n",
       "      <td>0.65</td>\n",
       "      <td>9.8</td>\n",
       "      <td>mediano</td>\n",
       "    </tr>\n",
       "    <tr>\n",
       "      <th>3</th>\n",
       "      <td>11.2</td>\n",
       "      <td>0.280</td>\n",
       "      <td>0.56</td>\n",
       "      <td>1.9</td>\n",
       "      <td>0.075</td>\n",
       "      <td>17.0</td>\n",
       "      <td>60.0</td>\n",
       "      <td>0.99800</td>\n",
       "      <td>3.16</td>\n",
       "      <td>0.58</td>\n",
       "      <td>9.8</td>\n",
       "      <td>mediano</td>\n",
       "    </tr>\n",
       "    <tr>\n",
       "      <th>4</th>\n",
       "      <td>7.4</td>\n",
       "      <td>0.660</td>\n",
       "      <td>0.00</td>\n",
       "      <td>1.8</td>\n",
       "      <td>0.075</td>\n",
       "      <td>13.0</td>\n",
       "      <td>40.0</td>\n",
       "      <td>0.99780</td>\n",
       "      <td>3.51</td>\n",
       "      <td>0.56</td>\n",
       "      <td>9.4</td>\n",
       "      <td>mediano</td>\n",
       "    </tr>\n",
       "    <tr>\n",
       "      <th>...</th>\n",
       "      <td>...</td>\n",
       "      <td>...</td>\n",
       "      <td>...</td>\n",
       "      <td>...</td>\n",
       "      <td>...</td>\n",
       "      <td>...</td>\n",
       "      <td>...</td>\n",
       "      <td>...</td>\n",
       "      <td>...</td>\n",
       "      <td>...</td>\n",
       "      <td>...</td>\n",
       "      <td>...</td>\n",
       "    </tr>\n",
       "    <tr>\n",
       "      <th>1354</th>\n",
       "      <td>6.8</td>\n",
       "      <td>0.620</td>\n",
       "      <td>0.08</td>\n",
       "      <td>1.9</td>\n",
       "      <td>0.068</td>\n",
       "      <td>28.0</td>\n",
       "      <td>38.0</td>\n",
       "      <td>0.99651</td>\n",
       "      <td>3.42</td>\n",
       "      <td>0.82</td>\n",
       "      <td>9.5</td>\n",
       "      <td>mediano</td>\n",
       "    </tr>\n",
       "    <tr>\n",
       "      <th>1355</th>\n",
       "      <td>6.2</td>\n",
       "      <td>0.600</td>\n",
       "      <td>0.08</td>\n",
       "      <td>2.0</td>\n",
       "      <td>0.090</td>\n",
       "      <td>32.0</td>\n",
       "      <td>44.0</td>\n",
       "      <td>0.99490</td>\n",
       "      <td>3.45</td>\n",
       "      <td>0.58</td>\n",
       "      <td>10.5</td>\n",
       "      <td>mediano</td>\n",
       "    </tr>\n",
       "    <tr>\n",
       "      <th>1356</th>\n",
       "      <td>5.9</td>\n",
       "      <td>0.550</td>\n",
       "      <td>0.10</td>\n",
       "      <td>2.2</td>\n",
       "      <td>0.062</td>\n",
       "      <td>39.0</td>\n",
       "      <td>51.0</td>\n",
       "      <td>0.99512</td>\n",
       "      <td>3.52</td>\n",
       "      <td>0.76</td>\n",
       "      <td>11.2</td>\n",
       "      <td>mediano</td>\n",
       "    </tr>\n",
       "    <tr>\n",
       "      <th>1357</th>\n",
       "      <td>5.9</td>\n",
       "      <td>0.645</td>\n",
       "      <td>0.12</td>\n",
       "      <td>2.0</td>\n",
       "      <td>0.075</td>\n",
       "      <td>32.0</td>\n",
       "      <td>44.0</td>\n",
       "      <td>0.99547</td>\n",
       "      <td>3.57</td>\n",
       "      <td>0.71</td>\n",
       "      <td>10.2</td>\n",
       "      <td>mediano</td>\n",
       "    </tr>\n",
       "    <tr>\n",
       "      <th>1358</th>\n",
       "      <td>6.0</td>\n",
       "      <td>0.310</td>\n",
       "      <td>0.47</td>\n",
       "      <td>3.6</td>\n",
       "      <td>0.067</td>\n",
       "      <td>18.0</td>\n",
       "      <td>42.0</td>\n",
       "      <td>0.99549</td>\n",
       "      <td>3.39</td>\n",
       "      <td>0.66</td>\n",
       "      <td>11.0</td>\n",
       "      <td>mediano</td>\n",
       "    </tr>\n",
       "  </tbody>\n",
       "</table>\n",
       "<p>1359 rows × 12 columns</p>\n",
       "</div>"
      ],
      "text/plain": [
       "      acidez fixa  acidez volátil  ácido cítrico  açúcar residual  cloretos  \\\n",
       "0             7.4           0.700           0.00              1.9     0.076   \n",
       "1             7.8           0.880           0.00              2.6     0.098   \n",
       "2             7.8           0.760           0.04              2.3     0.092   \n",
       "3            11.2           0.280           0.56              1.9     0.075   \n",
       "4             7.4           0.660           0.00              1.8     0.075   \n",
       "...           ...             ...            ...              ...       ...   \n",
       "1354          6.8           0.620           0.08              1.9     0.068   \n",
       "1355          6.2           0.600           0.08              2.0     0.090   \n",
       "1356          5.9           0.550           0.10              2.2     0.062   \n",
       "1357          5.9           0.645           0.12              2.0     0.075   \n",
       "1358          6.0           0.310           0.47              3.6     0.067   \n",
       "\n",
       "      dióxido de enxofre livre   dióxido de enxofre total  densidade    pH  \\\n",
       "0                          11.0                      34.0    0.99780  3.51   \n",
       "1                          25.0                      67.0    0.99680  3.20   \n",
       "2                          15.0                      54.0    0.99700  3.26   \n",
       "3                          17.0                      60.0    0.99800  3.16   \n",
       "4                          13.0                      40.0    0.99780  3.51   \n",
       "...                         ...                       ...        ...   ...   \n",
       "1354                       28.0                      38.0    0.99651  3.42   \n",
       "1355                       32.0                      44.0    0.99490  3.45   \n",
       "1356                       39.0                      51.0    0.99512  3.52   \n",
       "1357                       32.0                      44.0    0.99547  3.57   \n",
       "1358                       18.0                      42.0    0.99549  3.39   \n",
       "\n",
       "      sulfatos  álcool qualidade  \n",
       "0         0.56     9.4   mediano  \n",
       "1         0.68     9.8   mediano  \n",
       "2         0.65     9.8   mediano  \n",
       "3         0.58     9.8   mediano  \n",
       "4         0.56     9.4   mediano  \n",
       "...        ...     ...       ...  \n",
       "1354      0.82     9.5   mediano  \n",
       "1355      0.58    10.5   mediano  \n",
       "1356      0.76    11.2   mediano  \n",
       "1357      0.71    10.2   mediano  \n",
       "1358      0.66    11.0   mediano  \n",
       "\n",
       "[1359 rows x 12 columns]"
      ]
     },
     "execution_count": 3,
     "metadata": {},
     "output_type": "execute_result"
    }
   ],
   "source": [
    "data = pd.read_csv('https://raw.githubusercontent.com/alura-cursos/classificacao_multiclasse/main/Dados/df_vinho.csv')\n",
    "data"
   ]
  },
  {
   "cell_type": "markdown",
   "metadata": {},
   "source": [
    "2. Visualizar o DataFrame para verificar a presença de dados nulos e determinar se é necessário realizar algum pré-processamento."
   ]
  },
  {
   "cell_type": "code",
   "execution_count": 4,
   "metadata": {},
   "outputs": [
    {
     "name": "stdout",
     "output_type": "stream",
     "text": [
      "<class 'pandas.core.frame.DataFrame'>\n",
      "RangeIndex: 1359 entries, 0 to 1358\n",
      "Data columns (total 12 columns):\n",
      " #   Column                     Non-Null Count  Dtype  \n",
      "---  ------                     --------------  -----  \n",
      " 0   acidez fixa                1359 non-null   float64\n",
      " 1   acidez volátil             1359 non-null   float64\n",
      " 2   ácido cítrico              1359 non-null   float64\n",
      " 3   açúcar residual            1359 non-null   float64\n",
      " 4   cloretos                   1359 non-null   float64\n",
      " 5   dióxido de enxofre livre   1359 non-null   float64\n",
      " 6   dióxido de enxofre total   1359 non-null   float64\n",
      " 7   densidade                  1359 non-null   float64\n",
      " 8   pH                         1359 non-null   float64\n",
      " 9   sulfatos                   1359 non-null   float64\n",
      " 10  álcool                     1359 non-null   float64\n",
      " 11  qualidade                  1359 non-null   object \n",
      "dtypes: float64(11), object(1)\n",
      "memory usage: 127.5+ KB\n"
     ]
    }
   ],
   "source": [
    "data.info()"
   ]
  },
  {
   "cell_type": "code",
   "execution_count": 5,
   "metadata": {},
   "outputs": [
    {
     "data": {
      "text/html": [
       "<div>\n",
       "<style scoped>\n",
       "    .dataframe tbody tr th:only-of-type {\n",
       "        vertical-align: middle;\n",
       "    }\n",
       "\n",
       "    .dataframe tbody tr th {\n",
       "        vertical-align: top;\n",
       "    }\n",
       "\n",
       "    .dataframe thead th {\n",
       "        text-align: right;\n",
       "    }\n",
       "</style>\n",
       "<table border=\"1\" class=\"dataframe\">\n",
       "  <thead>\n",
       "    <tr style=\"text-align: right;\">\n",
       "      <th></th>\n",
       "      <th>acidez fixa</th>\n",
       "      <th>acidez volátil</th>\n",
       "      <th>ácido cítrico</th>\n",
       "      <th>açúcar residual</th>\n",
       "      <th>cloretos</th>\n",
       "      <th>dióxido de enxofre livre</th>\n",
       "      <th>dióxido de enxofre total</th>\n",
       "      <th>densidade</th>\n",
       "      <th>pH</th>\n",
       "      <th>sulfatos</th>\n",
       "      <th>álcool</th>\n",
       "    </tr>\n",
       "  </thead>\n",
       "  <tbody>\n",
       "    <tr>\n",
       "      <th>count</th>\n",
       "      <td>1359.000000</td>\n",
       "      <td>1359.000000</td>\n",
       "      <td>1359.000000</td>\n",
       "      <td>1359.000000</td>\n",
       "      <td>1359.000000</td>\n",
       "      <td>1359.000000</td>\n",
       "      <td>1359.000000</td>\n",
       "      <td>1359.000000</td>\n",
       "      <td>1359.000000</td>\n",
       "      <td>1359.000000</td>\n",
       "      <td>1359.000000</td>\n",
       "    </tr>\n",
       "    <tr>\n",
       "      <th>mean</th>\n",
       "      <td>8.310596</td>\n",
       "      <td>0.529478</td>\n",
       "      <td>0.272333</td>\n",
       "      <td>2.523400</td>\n",
       "      <td>0.088124</td>\n",
       "      <td>15.893304</td>\n",
       "      <td>46.825975</td>\n",
       "      <td>0.996709</td>\n",
       "      <td>3.309787</td>\n",
       "      <td>0.658705</td>\n",
       "      <td>10.432315</td>\n",
       "    </tr>\n",
       "    <tr>\n",
       "      <th>std</th>\n",
       "      <td>1.736990</td>\n",
       "      <td>0.183031</td>\n",
       "      <td>0.195537</td>\n",
       "      <td>1.352314</td>\n",
       "      <td>0.049377</td>\n",
       "      <td>10.447270</td>\n",
       "      <td>33.408946</td>\n",
       "      <td>0.001869</td>\n",
       "      <td>0.155036</td>\n",
       "      <td>0.170667</td>\n",
       "      <td>1.082065</td>\n",
       "    </tr>\n",
       "    <tr>\n",
       "      <th>min</th>\n",
       "      <td>4.600000</td>\n",
       "      <td>0.120000</td>\n",
       "      <td>0.000000</td>\n",
       "      <td>0.900000</td>\n",
       "      <td>0.012000</td>\n",
       "      <td>1.000000</td>\n",
       "      <td>6.000000</td>\n",
       "      <td>0.990070</td>\n",
       "      <td>2.740000</td>\n",
       "      <td>0.330000</td>\n",
       "      <td>8.400000</td>\n",
       "    </tr>\n",
       "    <tr>\n",
       "      <th>25%</th>\n",
       "      <td>7.100000</td>\n",
       "      <td>0.390000</td>\n",
       "      <td>0.090000</td>\n",
       "      <td>1.900000</td>\n",
       "      <td>0.070000</td>\n",
       "      <td>7.000000</td>\n",
       "      <td>22.000000</td>\n",
       "      <td>0.995600</td>\n",
       "      <td>3.210000</td>\n",
       "      <td>0.550000</td>\n",
       "      <td>9.500000</td>\n",
       "    </tr>\n",
       "    <tr>\n",
       "      <th>50%</th>\n",
       "      <td>7.900000</td>\n",
       "      <td>0.520000</td>\n",
       "      <td>0.260000</td>\n",
       "      <td>2.200000</td>\n",
       "      <td>0.079000</td>\n",
       "      <td>14.000000</td>\n",
       "      <td>38.000000</td>\n",
       "      <td>0.996700</td>\n",
       "      <td>3.310000</td>\n",
       "      <td>0.620000</td>\n",
       "      <td>10.200000</td>\n",
       "    </tr>\n",
       "    <tr>\n",
       "      <th>75%</th>\n",
       "      <td>9.200000</td>\n",
       "      <td>0.640000</td>\n",
       "      <td>0.430000</td>\n",
       "      <td>2.600000</td>\n",
       "      <td>0.091000</td>\n",
       "      <td>21.000000</td>\n",
       "      <td>63.000000</td>\n",
       "      <td>0.997820</td>\n",
       "      <td>3.400000</td>\n",
       "      <td>0.730000</td>\n",
       "      <td>11.100000</td>\n",
       "    </tr>\n",
       "    <tr>\n",
       "      <th>max</th>\n",
       "      <td>15.900000</td>\n",
       "      <td>1.580000</td>\n",
       "      <td>1.000000</td>\n",
       "      <td>15.500000</td>\n",
       "      <td>0.611000</td>\n",
       "      <td>72.000000</td>\n",
       "      <td>289.000000</td>\n",
       "      <td>1.003690</td>\n",
       "      <td>4.010000</td>\n",
       "      <td>2.000000</td>\n",
       "      <td>14.900000</td>\n",
       "    </tr>\n",
       "  </tbody>\n",
       "</table>\n",
       "</div>"
      ],
      "text/plain": [
       "       acidez fixa  acidez volátil  ácido cítrico  açúcar residual  \\\n",
       "count  1359.000000     1359.000000    1359.000000      1359.000000   \n",
       "mean      8.310596        0.529478       0.272333         2.523400   \n",
       "std       1.736990        0.183031       0.195537         1.352314   \n",
       "min       4.600000        0.120000       0.000000         0.900000   \n",
       "25%       7.100000        0.390000       0.090000         1.900000   \n",
       "50%       7.900000        0.520000       0.260000         2.200000   \n",
       "75%       9.200000        0.640000       0.430000         2.600000   \n",
       "max      15.900000        1.580000       1.000000        15.500000   \n",
       "\n",
       "          cloretos  dióxido de enxofre livre   dióxido de enxofre total  \\\n",
       "count  1359.000000                1359.000000               1359.000000   \n",
       "mean      0.088124                  15.893304                 46.825975   \n",
       "std       0.049377                  10.447270                 33.408946   \n",
       "min       0.012000                   1.000000                  6.000000   \n",
       "25%       0.070000                   7.000000                 22.000000   \n",
       "50%       0.079000                  14.000000                 38.000000   \n",
       "75%       0.091000                  21.000000                 63.000000   \n",
       "max       0.611000                  72.000000                289.000000   \n",
       "\n",
       "         densidade           pH     sulfatos       álcool  \n",
       "count  1359.000000  1359.000000  1359.000000  1359.000000  \n",
       "mean      0.996709     3.309787     0.658705    10.432315  \n",
       "std       0.001869     0.155036     0.170667     1.082065  \n",
       "min       0.990070     2.740000     0.330000     8.400000  \n",
       "25%       0.995600     3.210000     0.550000     9.500000  \n",
       "50%       0.996700     3.310000     0.620000    10.200000  \n",
       "75%       0.997820     3.400000     0.730000    11.100000  \n",
       "max       1.003690     4.010000     2.000000    14.900000  "
      ]
     },
     "execution_count": 5,
     "metadata": {},
     "output_type": "execute_result"
    }
   ],
   "source": [
    "data.describe()"
   ]
  },
  {
   "cell_type": "code",
   "execution_count": 6,
   "metadata": {},
   "outputs": [
    {
     "data": {
      "text/plain": [
       "count        1359\n",
       "unique          3\n",
       "top       mediano\n",
       "freq         1112\n",
       "Name: qualidade, dtype: object"
      ]
     },
     "execution_count": 6,
     "metadata": {},
     "output_type": "execute_result"
    }
   ],
   "source": [
    "data['qualidade'].describe()"
   ]
  },
  {
   "cell_type": "markdown",
   "metadata": {},
   "source": [
    "3. Separar as features em uma variável X e a coluna-alvo em uma variável y."
   ]
  },
  {
   "cell_type": "code",
   "execution_count": 7,
   "metadata": {},
   "outputs": [
    {
     "data": {
      "text/html": [
       "<div>\n",
       "<style scoped>\n",
       "    .dataframe tbody tr th:only-of-type {\n",
       "        vertical-align: middle;\n",
       "    }\n",
       "\n",
       "    .dataframe tbody tr th {\n",
       "        vertical-align: top;\n",
       "    }\n",
       "\n",
       "    .dataframe thead th {\n",
       "        text-align: right;\n",
       "    }\n",
       "</style>\n",
       "<table border=\"1\" class=\"dataframe\">\n",
       "  <thead>\n",
       "    <tr style=\"text-align: right;\">\n",
       "      <th></th>\n",
       "      <th>acidez fixa</th>\n",
       "      <th>acidez volátil</th>\n",
       "      <th>ácido cítrico</th>\n",
       "      <th>açúcar residual</th>\n",
       "      <th>cloretos</th>\n",
       "      <th>dióxido de enxofre livre</th>\n",
       "      <th>dióxido de enxofre total</th>\n",
       "      <th>densidade</th>\n",
       "      <th>pH</th>\n",
       "      <th>sulfatos</th>\n",
       "      <th>álcool</th>\n",
       "    </tr>\n",
       "  </thead>\n",
       "  <tbody>\n",
       "    <tr>\n",
       "      <th>0</th>\n",
       "      <td>7.4</td>\n",
       "      <td>0.700</td>\n",
       "      <td>0.00</td>\n",
       "      <td>1.9</td>\n",
       "      <td>0.076</td>\n",
       "      <td>11.0</td>\n",
       "      <td>34.0</td>\n",
       "      <td>0.99780</td>\n",
       "      <td>3.51</td>\n",
       "      <td>0.56</td>\n",
       "      <td>9.4</td>\n",
       "    </tr>\n",
       "    <tr>\n",
       "      <th>1</th>\n",
       "      <td>7.8</td>\n",
       "      <td>0.880</td>\n",
       "      <td>0.00</td>\n",
       "      <td>2.6</td>\n",
       "      <td>0.098</td>\n",
       "      <td>25.0</td>\n",
       "      <td>67.0</td>\n",
       "      <td>0.99680</td>\n",
       "      <td>3.20</td>\n",
       "      <td>0.68</td>\n",
       "      <td>9.8</td>\n",
       "    </tr>\n",
       "    <tr>\n",
       "      <th>2</th>\n",
       "      <td>7.8</td>\n",
       "      <td>0.760</td>\n",
       "      <td>0.04</td>\n",
       "      <td>2.3</td>\n",
       "      <td>0.092</td>\n",
       "      <td>15.0</td>\n",
       "      <td>54.0</td>\n",
       "      <td>0.99700</td>\n",
       "      <td>3.26</td>\n",
       "      <td>0.65</td>\n",
       "      <td>9.8</td>\n",
       "    </tr>\n",
       "    <tr>\n",
       "      <th>3</th>\n",
       "      <td>11.2</td>\n",
       "      <td>0.280</td>\n",
       "      <td>0.56</td>\n",
       "      <td>1.9</td>\n",
       "      <td>0.075</td>\n",
       "      <td>17.0</td>\n",
       "      <td>60.0</td>\n",
       "      <td>0.99800</td>\n",
       "      <td>3.16</td>\n",
       "      <td>0.58</td>\n",
       "      <td>9.8</td>\n",
       "    </tr>\n",
       "    <tr>\n",
       "      <th>4</th>\n",
       "      <td>7.4</td>\n",
       "      <td>0.660</td>\n",
       "      <td>0.00</td>\n",
       "      <td>1.8</td>\n",
       "      <td>0.075</td>\n",
       "      <td>13.0</td>\n",
       "      <td>40.0</td>\n",
       "      <td>0.99780</td>\n",
       "      <td>3.51</td>\n",
       "      <td>0.56</td>\n",
       "      <td>9.4</td>\n",
       "    </tr>\n",
       "    <tr>\n",
       "      <th>...</th>\n",
       "      <td>...</td>\n",
       "      <td>...</td>\n",
       "      <td>...</td>\n",
       "      <td>...</td>\n",
       "      <td>...</td>\n",
       "      <td>...</td>\n",
       "      <td>...</td>\n",
       "      <td>...</td>\n",
       "      <td>...</td>\n",
       "      <td>...</td>\n",
       "      <td>...</td>\n",
       "    </tr>\n",
       "    <tr>\n",
       "      <th>1354</th>\n",
       "      <td>6.8</td>\n",
       "      <td>0.620</td>\n",
       "      <td>0.08</td>\n",
       "      <td>1.9</td>\n",
       "      <td>0.068</td>\n",
       "      <td>28.0</td>\n",
       "      <td>38.0</td>\n",
       "      <td>0.99651</td>\n",
       "      <td>3.42</td>\n",
       "      <td>0.82</td>\n",
       "      <td>9.5</td>\n",
       "    </tr>\n",
       "    <tr>\n",
       "      <th>1355</th>\n",
       "      <td>6.2</td>\n",
       "      <td>0.600</td>\n",
       "      <td>0.08</td>\n",
       "      <td>2.0</td>\n",
       "      <td>0.090</td>\n",
       "      <td>32.0</td>\n",
       "      <td>44.0</td>\n",
       "      <td>0.99490</td>\n",
       "      <td>3.45</td>\n",
       "      <td>0.58</td>\n",
       "      <td>10.5</td>\n",
       "    </tr>\n",
       "    <tr>\n",
       "      <th>1356</th>\n",
       "      <td>5.9</td>\n",
       "      <td>0.550</td>\n",
       "      <td>0.10</td>\n",
       "      <td>2.2</td>\n",
       "      <td>0.062</td>\n",
       "      <td>39.0</td>\n",
       "      <td>51.0</td>\n",
       "      <td>0.99512</td>\n",
       "      <td>3.52</td>\n",
       "      <td>0.76</td>\n",
       "      <td>11.2</td>\n",
       "    </tr>\n",
       "    <tr>\n",
       "      <th>1357</th>\n",
       "      <td>5.9</td>\n",
       "      <td>0.645</td>\n",
       "      <td>0.12</td>\n",
       "      <td>2.0</td>\n",
       "      <td>0.075</td>\n",
       "      <td>32.0</td>\n",
       "      <td>44.0</td>\n",
       "      <td>0.99547</td>\n",
       "      <td>3.57</td>\n",
       "      <td>0.71</td>\n",
       "      <td>10.2</td>\n",
       "    </tr>\n",
       "    <tr>\n",
       "      <th>1358</th>\n",
       "      <td>6.0</td>\n",
       "      <td>0.310</td>\n",
       "      <td>0.47</td>\n",
       "      <td>3.6</td>\n",
       "      <td>0.067</td>\n",
       "      <td>18.0</td>\n",
       "      <td>42.0</td>\n",
       "      <td>0.99549</td>\n",
       "      <td>3.39</td>\n",
       "      <td>0.66</td>\n",
       "      <td>11.0</td>\n",
       "    </tr>\n",
       "  </tbody>\n",
       "</table>\n",
       "<p>1359 rows × 11 columns</p>\n",
       "</div>"
      ],
      "text/plain": [
       "      acidez fixa  acidez volátil  ácido cítrico  açúcar residual  cloretos  \\\n",
       "0             7.4           0.700           0.00              1.9     0.076   \n",
       "1             7.8           0.880           0.00              2.6     0.098   \n",
       "2             7.8           0.760           0.04              2.3     0.092   \n",
       "3            11.2           0.280           0.56              1.9     0.075   \n",
       "4             7.4           0.660           0.00              1.8     0.075   \n",
       "...           ...             ...            ...              ...       ...   \n",
       "1354          6.8           0.620           0.08              1.9     0.068   \n",
       "1355          6.2           0.600           0.08              2.0     0.090   \n",
       "1356          5.9           0.550           0.10              2.2     0.062   \n",
       "1357          5.9           0.645           0.12              2.0     0.075   \n",
       "1358          6.0           0.310           0.47              3.6     0.067   \n",
       "\n",
       "      dióxido de enxofre livre   dióxido de enxofre total  densidade    pH  \\\n",
       "0                          11.0                      34.0    0.99780  3.51   \n",
       "1                          25.0                      67.0    0.99680  3.20   \n",
       "2                          15.0                      54.0    0.99700  3.26   \n",
       "3                          17.0                      60.0    0.99800  3.16   \n",
       "4                          13.0                      40.0    0.99780  3.51   \n",
       "...                         ...                       ...        ...   ...   \n",
       "1354                       28.0                      38.0    0.99651  3.42   \n",
       "1355                       32.0                      44.0    0.99490  3.45   \n",
       "1356                       39.0                      51.0    0.99512  3.52   \n",
       "1357                       32.0                      44.0    0.99547  3.57   \n",
       "1358                       18.0                      42.0    0.99549  3.39   \n",
       "\n",
       "      sulfatos  álcool  \n",
       "0         0.56     9.4  \n",
       "1         0.68     9.8  \n",
       "2         0.65     9.8  \n",
       "3         0.58     9.8  \n",
       "4         0.56     9.4  \n",
       "...        ...     ...  \n",
       "1354      0.82     9.5  \n",
       "1355      0.58    10.5  \n",
       "1356      0.76    11.2  \n",
       "1357      0.71    10.2  \n",
       "1358      0.66    11.0  \n",
       "\n",
       "[1359 rows x 11 columns]"
      ]
     },
     "execution_count": 7,
     "metadata": {},
     "output_type": "execute_result"
    }
   ],
   "source": [
    "x = data.drop(columns='qualidade')\n",
    "x"
   ]
  },
  {
   "cell_type": "code",
   "execution_count": 8,
   "metadata": {},
   "outputs": [
    {
     "data": {
      "text/plain": [
       "0       mediano\n",
       "1       mediano\n",
       "2       mediano\n",
       "3       mediano\n",
       "4       mediano\n",
       "         ...   \n",
       "1354    mediano\n",
       "1355    mediano\n",
       "1356    mediano\n",
       "1357    mediano\n",
       "1358    mediano\n",
       "Name: qualidade, Length: 1359, dtype: object"
      ]
     },
     "execution_count": 8,
     "metadata": {},
     "output_type": "execute_result"
    }
   ],
   "source": [
    "y = data['qualidade']\n",
    "y"
   ]
  },
  {
   "cell_type": "markdown",
   "metadata": {},
   "source": [
    "4. Dividir os dados em conjuntos de treinamento, validação e teste."
   ]
  },
  {
   "cell_type": "code",
   "execution_count": 9,
   "metadata": {},
   "outputs": [],
   "source": [
    "from sklearn.model_selection import train_test_split"
   ]
  },
  {
   "cell_type": "code",
   "execution_count": 10,
   "metadata": {},
   "outputs": [],
   "source": [
    "x_split, x_test, y_split, y_test = train_test_split(x, y, test_size=.15, stratify=y, random_state=42)\n",
    "x_train, x_valid, y_train, y_valid = train_test_split(x_split, y_split, stratify=y_split, random_state=42)"
   ]
  },
  {
   "cell_type": "markdown",
   "metadata": {},
   "source": [
    "5. Treinar o algoritmo de classificação Random Forest utilizando os dados de treinamento."
   ]
  },
  {
   "cell_type": "code",
   "execution_count": 11,
   "metadata": {},
   "outputs": [],
   "source": [
    "from sklearn.ensemble import RandomForestClassifier"
   ]
  },
  {
   "cell_type": "code",
   "execution_count": 12,
   "metadata": {},
   "outputs": [],
   "source": [
    "rfc_model = RandomForestClassifier(max_depth=5, random_state=42)\n",
    "rfc_model.fit(x_train, y_train)\n",
    "y_pred = rfc_model.predict(x_valid)"
   ]
  },
  {
   "cell_type": "markdown",
   "metadata": {},
   "source": [
    "6. Avaliar o desempenho do modelo por meio da matriz de confusão e de um relatório de métricas."
   ]
  },
  {
   "cell_type": "code",
   "execution_count": 13,
   "metadata": {},
   "outputs": [],
   "source": [
    "from sklearn.metrics import classification_report, ConfusionMatrixDisplay"
   ]
  },
  {
   "cell_type": "code",
   "execution_count": 37,
   "metadata": {},
   "outputs": [
    {
     "name": "stderr",
     "output_type": "stream",
     "text": [
      "c:\\Users\\Henrique\\AppData\\Local\\Programs\\Python\\Python312\\Lib\\site-packages\\sklearn\\metrics\\_classification.py:1517: UndefinedMetricWarning: Precision is ill-defined and being set to 0.0 in labels with no predicted samples. Use `zero_division` parameter to control this behavior.\n",
      "  _warn_prf(average, modifier, f\"{metric.capitalize()} is\", len(result))\n",
      "c:\\Users\\Henrique\\AppData\\Local\\Programs\\Python\\Python312\\Lib\\site-packages\\sklearn\\metrics\\_classification.py:1517: UndefinedMetricWarning: Precision is ill-defined and being set to 0.0 in labels with no predicted samples. Use `zero_division` parameter to control this behavior.\n",
      "  _warn_prf(average, modifier, f\"{metric.capitalize()} is\", len(result))\n",
      "c:\\Users\\Henrique\\AppData\\Local\\Programs\\Python\\Python312\\Lib\\site-packages\\sklearn\\metrics\\_classification.py:1517: UndefinedMetricWarning: Precision is ill-defined and being set to 0.0 in labels with no predicted samples. Use `zero_division` parameter to control this behavior.\n",
      "  _warn_prf(average, modifier, f\"{metric.capitalize()} is\", len(result))\n"
     ]
    },
    {
     "name": "stdout",
     "output_type": "stream",
     "text": [
      "              precision    recall  f1-score   support\n",
      "\n",
      "         bom       0.75      0.23      0.35        39\n",
      "     mediano       0.84      0.99      0.91       236\n",
      "        ruim       0.00      0.00      0.00        14\n",
      "\n",
      "    accuracy                           0.84       289\n",
      "   macro avg       0.53      0.41      0.42       289\n",
      "weighted avg       0.79      0.84      0.79       289\n",
      "\n",
      "<sklearn.metrics._plot.confusion_matrix.ConfusionMatrixDisplay object at 0x0000016665535790>\n"
     ]
    },
    {
     "data": {
      "image/png": "[encoded data removed]",
      "text/plain": [
       "<Figure size 640x480 with 2 Axes>"
      ]
     },
     "metadata": {},
     "output_type": "display_data"
    }
   ],
   "source": [
    "print(classification_report(y_valid, y_pred))\n",
    "print(ConfusionMatrixDisplay.from_predictions(y_valid, y_pred, normalize='true', cmap='Reds'))"
   ]
  },
  {
   "cell_type": "markdown",
   "metadata": {},
   "source": [
    "7. Avaliar a necessidade de balanceamento dos dados. Caso seja necessário, realizar o balanceamento e treinar o modelo novamente."
   ]
  },
  {
   "cell_type": "code",
   "execution_count": 15,
   "metadata": {},
   "outputs": [],
   "source": [
    "from imblearn.over_sampling import SMOTE"
   ]
  },
  {
   "cell_type": "code",
   "execution_count": 16,
   "metadata": {},
   "outputs": [],
   "source": [
    "oversample = SMOTE(random_state=42)\n",
    "x_train_over, y_train_over = oversample.fit_resample(x_train, y_train)"
   ]
  },
  {
   "cell_type": "code",
   "execution_count": 17,
   "metadata": {},
   "outputs": [],
   "source": [
    "rfc_model_over = RandomForestClassifier(max_depth=5, random_state=42)\n",
    "rfc_model_over.fit(x_train_over, y_train_over)\n",
    "y_pred_over = rfc_model_over.predict(x_valid)"
   ]
  },
  {
   "cell_type": "code",
   "execution_count": 36,
   "metadata": {},
   "outputs": [
    {
     "name": "stdout",
     "output_type": "stream",
     "text": [
      "              precision    recall  f1-score   support\n",
      "\n",
      "         bom       0.43      0.67      0.53        39\n",
      "     mediano       0.92      0.66      0.77       236\n",
      "        ruim       0.19      0.79      0.30        14\n",
      "\n",
      "    accuracy                           0.67       289\n",
      "   macro avg       0.51      0.70      0.53       289\n",
      "weighted avg       0.82      0.67      0.71       289\n",
      "\n",
      "<sklearn.metrics._plot.confusion_matrix.ConfusionMatrixDisplay object at 0x00000166633B88F0>\n"
     ]
    },
    {
     "data": {
      "image/png": "[encoded data removed]",
      "text/plain": [
       "<Figure size 640x480 with 2 Axes>"
      ]
     },
     "metadata": {},
     "output_type": "display_data"
    }
   ],
   "source": [
    "print(classification_report(y_valid, y_pred_over))\n",
    "print(ConfusionMatrixDisplay.from_predictions(y_valid, y_pred_over, normalize='true', cmap='Greens'))"
   ]
  },
  {
   "cell_type": "markdown",
   "metadata": {},
   "source": [
    "8. Realizar validação cruzada para garantir a robustez do modelo."
   ]
  },
  {
   "cell_type": "code",
   "execution_count": 21,
   "metadata": {},
   "outputs": [],
   "source": [
    "from imblearn.pipeline import Pipeline as imbpipeline"
   ]
  },
  {
   "cell_type": "code",
   "execution_count": 23,
   "metadata": {},
   "outputs": [],
   "source": [
    "oversample_pipeline = SMOTE(random_state=42)\n",
    "rfc_model_pipeline = RandomForestClassifier(max_depth=5, random_state=42)\n",
    "\n",
    "pipeline = imbpipeline(\n",
    "    [('oversample', oversample_pipeline), ('forest', rfc_model_pipeline)]\n",
    ")"
   ]
  },
  {
   "cell_type": "code",
   "execution_count": 24,
   "metadata": {},
   "outputs": [],
   "source": [
    "from sklearn.model_selection import cross_validate, StratifiedKFold"
   ]
  },
  {
   "cell_type": "code",
   "execution_count": 30,
   "metadata": {},
   "outputs": [],
   "source": [
    "skf = StratifiedKFold(n_splits=5, shuffle=True, random_state=42)\n",
    "cv_resultados = cross_validate(pipeline, x_split, y_split, cv=skf, scoring='recall_weighted')"
   ]
  },
  {
   "cell_type": "code",
   "execution_count": 31,
   "metadata": {},
   "outputs": [
    {
     "data": {
      "text/plain": [
       "np.float64(0.6796536796536796)"
      ]
     },
     "execution_count": 31,
     "metadata": {},
     "output_type": "execute_result"
    }
   ],
   "source": [
    "cv_resultados['test_score'].mean()"
   ]
  },
  {
   "cell_type": "markdown",
   "metadata": {},
   "source": [
    "9. Testar o modelo com dados de teste que nunca foram previamente observados pelo modelo."
   ]
  },
  {
   "cell_type": "code",
   "execution_count": 33,
   "metadata": {},
   "outputs": [],
   "source": [
    "x_balanced, y_balanced = SMOTE(random_state=42).fit_resample(x_split, y_split)\n",
    "rfc_model_final = RandomForestClassifier(max_depth=5, random_state=42)"
   ]
  },
  {
   "cell_type": "code",
   "execution_count": 34,
   "metadata": {},
   "outputs": [],
   "source": [
    "rfc_model_final.fit(x_balanced, y_balanced)\n",
    "y_pred_final = rfc_model.predict(x_test)"
   ]
  },
  {
   "cell_type": "code",
   "execution_count": 38,
   "metadata": {},
   "outputs": [
    {
     "name": "stderr",
     "output_type": "stream",
     "text": [
      "c:\\Users\\Henrique\\AppData\\Local\\Programs\\Python\\Python312\\Lib\\site-packages\\sklearn\\metrics\\_classification.py:1517: UndefinedMetricWarning: Precision is ill-defined and being set to 0.0 in labels with no predicted samples. Use `zero_division` parameter to control this behavior.\n",
      "  _warn_prf(average, modifier, f\"{metric.capitalize()} is\", len(result))\n",
      "c:\\Users\\Henrique\\AppData\\Local\\Programs\\Python\\Python312\\Lib\\site-packages\\sklearn\\metrics\\_classification.py:1517: UndefinedMetricWarning: Precision is ill-defined and being set to 0.0 in labels with no predicted samples. Use `zero_division` parameter to control this behavior.\n",
      "  _warn_prf(average, modifier, f\"{metric.capitalize()} is\", len(result))\n",
      "c:\\Users\\Henrique\\AppData\\Local\\Programs\\Python\\Python312\\Lib\\site-packages\\sklearn\\metrics\\_classification.py:1517: UndefinedMetricWarning: Precision is ill-defined and being set to 0.0 in labels with no predicted samples. Use `zero_division` parameter to control this behavior.\n",
      "  _warn_prf(average, modifier, f\"{metric.capitalize()} is\", len(result))\n"
     ]
    },
    {
     "name": "stdout",
     "output_type": "stream",
     "text": [
      "              precision    recall  f1-score   support\n",
      "\n",
      "         bom       0.62      0.29      0.39        28\n",
      "     mediano       0.85      0.97      0.91       167\n",
      "        ruim       0.00      0.00      0.00         9\n",
      "\n",
      "    accuracy                           0.83       204\n",
      "   macro avg       0.49      0.42      0.43       204\n",
      "weighted avg       0.78      0.83      0.79       204\n",
      "\n",
      "<sklearn.metrics._plot.confusion_matrix.ConfusionMatrixDisplay object at 0x00000166655954C0>\n"
     ]
    },
    {
     "data": {
      "image/png": "[encoded data removed]",
      "text/plain": [
       "<Figure size 640x480 with 2 Axes>"
      ]
     },
     "metadata": {},
     "output_type": "display_data"
    }
   ],
   "source": [
    "print(classification_report(y_test, y_pred_final))\n",
    "print(ConfusionMatrixDisplay.from_predictions(y_test, y_pred_final, normalize='true', cmap='Blues'))"
   ]
  },
  {
   "cell_type": "markdown",
   "metadata": {},
   "source": [
    "---"
   ]
  }
 ],
 "metadata": {
  "kernelspec": {
   "display_name": "Python 3",
   "language": "python",
   "name": "python3"
  },
  "language_info": {
   "codemirror_mode": {
    "name": "ipython",
    "version": 3
   },
   "file_extension": ".py",
   "mimetype": "text/x-python",
   "name": "python",
   "nbconvert_exporter": "python",
   "pygments_lexer": "ipython3",
   "version": "3.12.4"
  }
 },
 "nbformat": 4,
 "nbformat_minor": 2
}
