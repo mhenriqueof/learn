{
 "cells": [
  {
   "cell_type": "code",
   "execution_count": null,
   "metadata": {},
   "outputs": [
    {
     "name": "stdout",
     "output_type": "stream",
     "text": [
      "Nome completo: João Silva\n",
      "Nome completo: Maria Souza\n",
      "Nome completo: José Tavares\n"
     ]
    }
   ],
   "source": [
    "nomes = [\"joão\", \"MaRia\", \"JOSÉ\"]\n",
    "sobrenomes = [\"SILVA\", \"souza\", \"Tavares\"]"
   ]
  },
  {
   "cell_type": "code",
   "execution_count": null,
   "metadata": {},
   "outputs": [],
   "source": [
    "\n",
    "palavras = map(lambda nome, sobre: f'{nome.capitalize()} {sobre.capitalize()}', nomes, sobrenomes)\n",
    "for i in palavras:\n",
    "    print(f'{idwa}')"
   ]
  },
  {
   "cell_type": "code",
   "execution_count": null,
   "metadata": {},
   "outputs": [],
   "source": []
  }
 ],
 "metadata": {
  "kernelspec": {
   "display_name": "Python 3",
   "language": "python",
   "name": "python3"
  },
  "language_info": {
   "codemirror_mode": {
    "name": "ipython",
    "version": 3
   },
   "file_extension": ".py",
   "mimetype": "text/x-python",
   "name": "python",
   "nbconvert_exporter": "python",
   "pygments_lexer": "ipython3",
   "version": "3.11.4"
  }
 },
 "nbformat": 4,
 "nbformat_minor": 2
}
